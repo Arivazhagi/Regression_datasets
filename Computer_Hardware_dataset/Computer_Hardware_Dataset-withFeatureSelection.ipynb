{
 "cells": [
  {
   "cell_type": "markdown",
   "id": "9a1ab215",
   "metadata": {},
   "source": [
    "# Computer_Hardware_Dataset"
   ]
  },
  {
   "cell_type": "markdown",
   "id": "aa22aa87",
   "metadata": {},
   "source": [
    "## Importing the required packages"
   ]
  },
  {
   "cell_type": "code",
   "execution_count": 1,
   "id": "d951f0d1",
   "metadata": {},
   "outputs": [],
   "source": [
    "import numpy as np\n",
    "import pandas as pd\n",
    "import matplotlib.pyplot as plt\n",
    "import seaborn as sns\n",
    "import warnings\n",
    "warnings.filterwarnings('ignore')\n",
    "from scipy import stats\n",
    "from scipy.stats import norm, skew\n",
    "from sklearn.model_selection import train_test_split\n",
    "from sklearn.linear_model import LinearRegression\n"
   ]
  },
  {
   "cell_type": "markdown",
   "id": "46683fd4",
   "metadata": {},
   "source": [
    "## Load the dataset"
   ]
  },
  {
   "cell_type": "code",
   "execution_count": 2,
   "id": "c33f1070",
   "metadata": {},
   "outputs": [],
   "source": [
    "# Now we use read.csv() function from pandas to read the data from the csv and stores in the form of a data frame\n",
    "\n",
    "df = pd.read_csv('Computer_hardware.csv')"
   ]
  },
  {
   "cell_type": "markdown",
   "id": "4baf591f",
   "metadata": {},
   "source": [
    "## View the data"
   ]
  },
  {
   "cell_type": "code",
   "execution_count": 3,
   "id": "36b5623d",
   "metadata": {},
   "outputs": [
    {
     "data": {
      "text/html": [
       "<div>\n",
       "<style scoped>\n",
       "    .dataframe tbody tr th:only-of-type {\n",
       "        vertical-align: middle;\n",
       "    }\n",
       "\n",
       "    .dataframe tbody tr th {\n",
       "        vertical-align: top;\n",
       "    }\n",
       "\n",
       "    .dataframe thead th {\n",
       "        text-align: right;\n",
       "    }\n",
       "</style>\n",
       "<table border=\"1\" class=\"dataframe\">\n",
       "  <thead>\n",
       "    <tr style=\"text-align: right;\">\n",
       "      <th></th>\n",
       "      <th>vendor_name</th>\n",
       "      <th>Model_Name</th>\n",
       "      <th>MYCT</th>\n",
       "      <th>MMIN</th>\n",
       "      <th>MMAX</th>\n",
       "      <th>CACH</th>\n",
       "      <th>CHMIN</th>\n",
       "      <th>CHMAX</th>\n",
       "      <th>PRP</th>\n",
       "      <th>ERP</th>\n",
       "    </tr>\n",
       "  </thead>\n",
       "  <tbody>\n",
       "    <tr>\n",
       "      <th>0</th>\n",
       "      <td>adviser</td>\n",
       "      <td>32/60</td>\n",
       "      <td>125</td>\n",
       "      <td>256</td>\n",
       "      <td>6000</td>\n",
       "      <td>256</td>\n",
       "      <td>16</td>\n",
       "      <td>128</td>\n",
       "      <td>198</td>\n",
       "      <td>199</td>\n",
       "    </tr>\n",
       "    <tr>\n",
       "      <th>1</th>\n",
       "      <td>amdahl</td>\n",
       "      <td>470v/7</td>\n",
       "      <td>29</td>\n",
       "      <td>8000</td>\n",
       "      <td>32000</td>\n",
       "      <td>32</td>\n",
       "      <td>8</td>\n",
       "      <td>32</td>\n",
       "      <td>269</td>\n",
       "      <td>253</td>\n",
       "    </tr>\n",
       "    <tr>\n",
       "      <th>2</th>\n",
       "      <td>amdahl</td>\n",
       "      <td>470v/7a</td>\n",
       "      <td>29</td>\n",
       "      <td>8000</td>\n",
       "      <td>32000</td>\n",
       "      <td>32</td>\n",
       "      <td>8</td>\n",
       "      <td>32</td>\n",
       "      <td>220</td>\n",
       "      <td>253</td>\n",
       "    </tr>\n",
       "    <tr>\n",
       "      <th>3</th>\n",
       "      <td>amdahl</td>\n",
       "      <td>470v/7b</td>\n",
       "      <td>29</td>\n",
       "      <td>8000</td>\n",
       "      <td>32000</td>\n",
       "      <td>32</td>\n",
       "      <td>8</td>\n",
       "      <td>32</td>\n",
       "      <td>172</td>\n",
       "      <td>253</td>\n",
       "    </tr>\n",
       "    <tr>\n",
       "      <th>4</th>\n",
       "      <td>amdahl</td>\n",
       "      <td>470v/7c</td>\n",
       "      <td>29</td>\n",
       "      <td>8000</td>\n",
       "      <td>16000</td>\n",
       "      <td>32</td>\n",
       "      <td>8</td>\n",
       "      <td>16</td>\n",
       "      <td>132</td>\n",
       "      <td>132</td>\n",
       "    </tr>\n",
       "    <tr>\n",
       "      <th>...</th>\n",
       "      <td>...</td>\n",
       "      <td>...</td>\n",
       "      <td>...</td>\n",
       "      <td>...</td>\n",
       "      <td>...</td>\n",
       "      <td>...</td>\n",
       "      <td>...</td>\n",
       "      <td>...</td>\n",
       "      <td>...</td>\n",
       "      <td>...</td>\n",
       "    </tr>\n",
       "    <tr>\n",
       "      <th>204</th>\n",
       "      <td>sperry</td>\n",
       "      <td>80/8</td>\n",
       "      <td>124</td>\n",
       "      <td>1000</td>\n",
       "      <td>8000</td>\n",
       "      <td>0</td>\n",
       "      <td>1</td>\n",
       "      <td>8</td>\n",
       "      <td>42</td>\n",
       "      <td>37</td>\n",
       "    </tr>\n",
       "    <tr>\n",
       "      <th>205</th>\n",
       "      <td>sperry</td>\n",
       "      <td>90/80-model-3</td>\n",
       "      <td>98</td>\n",
       "      <td>1000</td>\n",
       "      <td>8000</td>\n",
       "      <td>32</td>\n",
       "      <td>2</td>\n",
       "      <td>8</td>\n",
       "      <td>46</td>\n",
       "      <td>50</td>\n",
       "    </tr>\n",
       "    <tr>\n",
       "      <th>206</th>\n",
       "      <td>sratus</td>\n",
       "      <td>32</td>\n",
       "      <td>125</td>\n",
       "      <td>2000</td>\n",
       "      <td>8000</td>\n",
       "      <td>0</td>\n",
       "      <td>2</td>\n",
       "      <td>14</td>\n",
       "      <td>52</td>\n",
       "      <td>41</td>\n",
       "    </tr>\n",
       "    <tr>\n",
       "      <th>207</th>\n",
       "      <td>wang</td>\n",
       "      <td>vs-100</td>\n",
       "      <td>480</td>\n",
       "      <td>512</td>\n",
       "      <td>8000</td>\n",
       "      <td>32</td>\n",
       "      <td>0</td>\n",
       "      <td>0</td>\n",
       "      <td>67</td>\n",
       "      <td>47</td>\n",
       "    </tr>\n",
       "    <tr>\n",
       "      <th>208</th>\n",
       "      <td>wang</td>\n",
       "      <td>vs-90</td>\n",
       "      <td>480</td>\n",
       "      <td>1000</td>\n",
       "      <td>4000</td>\n",
       "      <td>0</td>\n",
       "      <td>0</td>\n",
       "      <td>0</td>\n",
       "      <td>45</td>\n",
       "      <td>25</td>\n",
       "    </tr>\n",
       "  </tbody>\n",
       "</table>\n",
       "<p>209 rows × 10 columns</p>\n",
       "</div>"
      ],
      "text/plain": [
       "    vendor_name     Model_Name  MYCT  MMIN   MMAX  CACH  CHMIN  CHMAX  PRP  \\\n",
       "0       adviser          32/60   125   256   6000   256     16    128  198   \n",
       "1        amdahl         470v/7    29  8000  32000    32      8     32  269   \n",
       "2        amdahl        470v/7a    29  8000  32000    32      8     32  220   \n",
       "3        amdahl        470v/7b    29  8000  32000    32      8     32  172   \n",
       "4        amdahl        470v/7c    29  8000  16000    32      8     16  132   \n",
       "..          ...            ...   ...   ...    ...   ...    ...    ...  ...   \n",
       "204      sperry           80/8   124  1000   8000     0      1      8   42   \n",
       "205      sperry  90/80-model-3    98  1000   8000    32      2      8   46   \n",
       "206      sratus             32   125  2000   8000     0      2     14   52   \n",
       "207        wang         vs-100   480   512   8000    32      0      0   67   \n",
       "208        wang          vs-90   480  1000   4000     0      0      0   45   \n",
       "\n",
       "     ERP  \n",
       "0    199  \n",
       "1    253  \n",
       "2    253  \n",
       "3    253  \n",
       "4    132  \n",
       "..   ...  \n",
       "204   37  \n",
       "205   50  \n",
       "206   41  \n",
       "207   47  \n",
       "208   25  \n",
       "\n",
       "[209 rows x 10 columns]"
      ]
     },
     "execution_count": 3,
     "metadata": {},
     "output_type": "execute_result"
    }
   ],
   "source": [
    "df"
   ]
  },
  {
   "cell_type": "markdown",
   "id": "c399dee6",
   "metadata": {},
   "source": [
    "## Deep copy and Shallow copy"
   ]
  },
  {
   "cell_type": "code",
   "execution_count": 4,
   "id": "100da5ec",
   "metadata": {},
   "outputs": [],
   "source": [
    "data = df    # will be using data further by creating a copy from df so that the original is intact"
   ]
  },
  {
   "cell_type": "code",
   "execution_count": 5,
   "id": "81663b71",
   "metadata": {},
   "outputs": [
    {
     "data": {
      "text/html": [
       "<div>\n",
       "<style scoped>\n",
       "    .dataframe tbody tr th:only-of-type {\n",
       "        vertical-align: middle;\n",
       "    }\n",
       "\n",
       "    .dataframe tbody tr th {\n",
       "        vertical-align: top;\n",
       "    }\n",
       "\n",
       "    .dataframe thead th {\n",
       "        text-align: right;\n",
       "    }\n",
       "</style>\n",
       "<table border=\"1\" class=\"dataframe\">\n",
       "  <thead>\n",
       "    <tr style=\"text-align: right;\">\n",
       "      <th></th>\n",
       "      <th>vendor_name</th>\n",
       "      <th>Model_Name</th>\n",
       "      <th>MYCT</th>\n",
       "      <th>MMIN</th>\n",
       "      <th>MMAX</th>\n",
       "      <th>CACH</th>\n",
       "      <th>CHMIN</th>\n",
       "      <th>CHMAX</th>\n",
       "      <th>PRP</th>\n",
       "      <th>ERP</th>\n",
       "    </tr>\n",
       "  </thead>\n",
       "  <tbody>\n",
       "    <tr>\n",
       "      <th>0</th>\n",
       "      <td>adviser</td>\n",
       "      <td>32/60</td>\n",
       "      <td>125</td>\n",
       "      <td>256</td>\n",
       "      <td>6000</td>\n",
       "      <td>256</td>\n",
       "      <td>16</td>\n",
       "      <td>128</td>\n",
       "      <td>198</td>\n",
       "      <td>199</td>\n",
       "    </tr>\n",
       "    <tr>\n",
       "      <th>1</th>\n",
       "      <td>amdahl</td>\n",
       "      <td>470v/7</td>\n",
       "      <td>29</td>\n",
       "      <td>8000</td>\n",
       "      <td>32000</td>\n",
       "      <td>32</td>\n",
       "      <td>8</td>\n",
       "      <td>32</td>\n",
       "      <td>269</td>\n",
       "      <td>253</td>\n",
       "    </tr>\n",
       "    <tr>\n",
       "      <th>2</th>\n",
       "      <td>amdahl</td>\n",
       "      <td>470v/7a</td>\n",
       "      <td>29</td>\n",
       "      <td>8000</td>\n",
       "      <td>32000</td>\n",
       "      <td>32</td>\n",
       "      <td>8</td>\n",
       "      <td>32</td>\n",
       "      <td>220</td>\n",
       "      <td>253</td>\n",
       "    </tr>\n",
       "    <tr>\n",
       "      <th>3</th>\n",
       "      <td>amdahl</td>\n",
       "      <td>470v/7b</td>\n",
       "      <td>29</td>\n",
       "      <td>8000</td>\n",
       "      <td>32000</td>\n",
       "      <td>32</td>\n",
       "      <td>8</td>\n",
       "      <td>32</td>\n",
       "      <td>172</td>\n",
       "      <td>253</td>\n",
       "    </tr>\n",
       "    <tr>\n",
       "      <th>4</th>\n",
       "      <td>amdahl</td>\n",
       "      <td>470v/7c</td>\n",
       "      <td>29</td>\n",
       "      <td>8000</td>\n",
       "      <td>16000</td>\n",
       "      <td>32</td>\n",
       "      <td>8</td>\n",
       "      <td>16</td>\n",
       "      <td>132</td>\n",
       "      <td>132</td>\n",
       "    </tr>\n",
       "    <tr>\n",
       "      <th>...</th>\n",
       "      <td>...</td>\n",
       "      <td>...</td>\n",
       "      <td>...</td>\n",
       "      <td>...</td>\n",
       "      <td>...</td>\n",
       "      <td>...</td>\n",
       "      <td>...</td>\n",
       "      <td>...</td>\n",
       "      <td>...</td>\n",
       "      <td>...</td>\n",
       "    </tr>\n",
       "    <tr>\n",
       "      <th>204</th>\n",
       "      <td>sperry</td>\n",
       "      <td>80/8</td>\n",
       "      <td>124</td>\n",
       "      <td>1000</td>\n",
       "      <td>8000</td>\n",
       "      <td>0</td>\n",
       "      <td>1</td>\n",
       "      <td>8</td>\n",
       "      <td>42</td>\n",
       "      <td>37</td>\n",
       "    </tr>\n",
       "    <tr>\n",
       "      <th>205</th>\n",
       "      <td>sperry</td>\n",
       "      <td>90/80-model-3</td>\n",
       "      <td>98</td>\n",
       "      <td>1000</td>\n",
       "      <td>8000</td>\n",
       "      <td>32</td>\n",
       "      <td>2</td>\n",
       "      <td>8</td>\n",
       "      <td>46</td>\n",
       "      <td>50</td>\n",
       "    </tr>\n",
       "    <tr>\n",
       "      <th>206</th>\n",
       "      <td>sratus</td>\n",
       "      <td>32</td>\n",
       "      <td>125</td>\n",
       "      <td>2000</td>\n",
       "      <td>8000</td>\n",
       "      <td>0</td>\n",
       "      <td>2</td>\n",
       "      <td>14</td>\n",
       "      <td>52</td>\n",
       "      <td>41</td>\n",
       "    </tr>\n",
       "    <tr>\n",
       "      <th>207</th>\n",
       "      <td>wang</td>\n",
       "      <td>vs-100</td>\n",
       "      <td>480</td>\n",
       "      <td>512</td>\n",
       "      <td>8000</td>\n",
       "      <td>32</td>\n",
       "      <td>0</td>\n",
       "      <td>0</td>\n",
       "      <td>67</td>\n",
       "      <td>47</td>\n",
       "    </tr>\n",
       "    <tr>\n",
       "      <th>208</th>\n",
       "      <td>wang</td>\n",
       "      <td>vs-90</td>\n",
       "      <td>480</td>\n",
       "      <td>1000</td>\n",
       "      <td>4000</td>\n",
       "      <td>0</td>\n",
       "      <td>0</td>\n",
       "      <td>0</td>\n",
       "      <td>45</td>\n",
       "      <td>25</td>\n",
       "    </tr>\n",
       "  </tbody>\n",
       "</table>\n",
       "<p>209 rows × 10 columns</p>\n",
       "</div>"
      ],
      "text/plain": [
       "    vendor_name     Model_Name  MYCT  MMIN   MMAX  CACH  CHMIN  CHMAX  PRP  \\\n",
       "0       adviser          32/60   125   256   6000   256     16    128  198   \n",
       "1        amdahl         470v/7    29  8000  32000    32      8     32  269   \n",
       "2        amdahl        470v/7a    29  8000  32000    32      8     32  220   \n",
       "3        amdahl        470v/7b    29  8000  32000    32      8     32  172   \n",
       "4        amdahl        470v/7c    29  8000  16000    32      8     16  132   \n",
       "..          ...            ...   ...   ...    ...   ...    ...    ...  ...   \n",
       "204      sperry           80/8   124  1000   8000     0      1      8   42   \n",
       "205      sperry  90/80-model-3    98  1000   8000    32      2      8   46   \n",
       "206      sratus             32   125  2000   8000     0      2     14   52   \n",
       "207        wang         vs-100   480   512   8000    32      0      0   67   \n",
       "208        wang          vs-90   480  1000   4000     0      0      0   45   \n",
       "\n",
       "     ERP  \n",
       "0    199  \n",
       "1    253  \n",
       "2    253  \n",
       "3    253  \n",
       "4    132  \n",
       "..   ...  \n",
       "204   37  \n",
       "205   50  \n",
       "206   41  \n",
       "207   47  \n",
       "208   25  \n",
       "\n",
       "[209 rows x 10 columns]"
      ]
     },
     "execution_count": 5,
     "metadata": {},
     "output_type": "execute_result"
    }
   ],
   "source": [
    "# View the copied dataframe\n",
    "data"
   ]
  },
  {
   "cell_type": "markdown",
   "id": "9e85793e",
   "metadata": {},
   "source": [
    "## Exploratory Data Analysis"
   ]
  },
  {
   "cell_type": "code",
   "execution_count": 6,
   "id": "3421b5be",
   "metadata": {},
   "outputs": [
    {
     "data": {
      "text/html": [
       "<div>\n",
       "<style scoped>\n",
       "    .dataframe tbody tr th:only-of-type {\n",
       "        vertical-align: middle;\n",
       "    }\n",
       "\n",
       "    .dataframe tbody tr th {\n",
       "        vertical-align: top;\n",
       "    }\n",
       "\n",
       "    .dataframe thead th {\n",
       "        text-align: right;\n",
       "    }\n",
       "</style>\n",
       "<table border=\"1\" class=\"dataframe\">\n",
       "  <thead>\n",
       "    <tr style=\"text-align: right;\">\n",
       "      <th></th>\n",
       "      <th>vendor_name</th>\n",
       "      <th>Model_Name</th>\n",
       "      <th>MYCT</th>\n",
       "      <th>MMIN</th>\n",
       "      <th>MMAX</th>\n",
       "      <th>CACH</th>\n",
       "      <th>CHMIN</th>\n",
       "      <th>CHMAX</th>\n",
       "      <th>PRP</th>\n",
       "      <th>ERP</th>\n",
       "    </tr>\n",
       "  </thead>\n",
       "  <tbody>\n",
       "    <tr>\n",
       "      <th>0</th>\n",
       "      <td>adviser</td>\n",
       "      <td>32/60</td>\n",
       "      <td>125</td>\n",
       "      <td>256</td>\n",
       "      <td>6000</td>\n",
       "      <td>256</td>\n",
       "      <td>16</td>\n",
       "      <td>128</td>\n",
       "      <td>198</td>\n",
       "      <td>199</td>\n",
       "    </tr>\n",
       "    <tr>\n",
       "      <th>1</th>\n",
       "      <td>amdahl</td>\n",
       "      <td>470v/7</td>\n",
       "      <td>29</td>\n",
       "      <td>8000</td>\n",
       "      <td>32000</td>\n",
       "      <td>32</td>\n",
       "      <td>8</td>\n",
       "      <td>32</td>\n",
       "      <td>269</td>\n",
       "      <td>253</td>\n",
       "    </tr>\n",
       "    <tr>\n",
       "      <th>2</th>\n",
       "      <td>amdahl</td>\n",
       "      <td>470v/7a</td>\n",
       "      <td>29</td>\n",
       "      <td>8000</td>\n",
       "      <td>32000</td>\n",
       "      <td>32</td>\n",
       "      <td>8</td>\n",
       "      <td>32</td>\n",
       "      <td>220</td>\n",
       "      <td>253</td>\n",
       "    </tr>\n",
       "    <tr>\n",
       "      <th>3</th>\n",
       "      <td>amdahl</td>\n",
       "      <td>470v/7b</td>\n",
       "      <td>29</td>\n",
       "      <td>8000</td>\n",
       "      <td>32000</td>\n",
       "      <td>32</td>\n",
       "      <td>8</td>\n",
       "      <td>32</td>\n",
       "      <td>172</td>\n",
       "      <td>253</td>\n",
       "    </tr>\n",
       "    <tr>\n",
       "      <th>4</th>\n",
       "      <td>amdahl</td>\n",
       "      <td>470v/7c</td>\n",
       "      <td>29</td>\n",
       "      <td>8000</td>\n",
       "      <td>16000</td>\n",
       "      <td>32</td>\n",
       "      <td>8</td>\n",
       "      <td>16</td>\n",
       "      <td>132</td>\n",
       "      <td>132</td>\n",
       "    </tr>\n",
       "  </tbody>\n",
       "</table>\n",
       "</div>"
      ],
      "text/plain": [
       "  vendor_name Model_Name  MYCT  MMIN   MMAX  CACH  CHMIN  CHMAX  PRP  ERP\n",
       "0     adviser      32/60   125   256   6000   256     16    128  198  199\n",
       "1      amdahl     470v/7    29  8000  32000    32      8     32  269  253\n",
       "2      amdahl    470v/7a    29  8000  32000    32      8     32  220  253\n",
       "3      amdahl    470v/7b    29  8000  32000    32      8     32  172  253\n",
       "4      amdahl    470v/7c    29  8000  16000    32      8     16  132  132"
      ]
     },
     "execution_count": 6,
     "metadata": {},
     "output_type": "execute_result"
    }
   ],
   "source": [
    "# using head function we can retreive the top data\n",
    "\n",
    "data.head()"
   ]
  },
  {
   "cell_type": "code",
   "execution_count": 7,
   "id": "42a2cdbe",
   "metadata": {},
   "outputs": [
    {
     "data": {
      "text/html": [
       "<div>\n",
       "<style scoped>\n",
       "    .dataframe tbody tr th:only-of-type {\n",
       "        vertical-align: middle;\n",
       "    }\n",
       "\n",
       "    .dataframe tbody tr th {\n",
       "        vertical-align: top;\n",
       "    }\n",
       "\n",
       "    .dataframe thead th {\n",
       "        text-align: right;\n",
       "    }\n",
       "</style>\n",
       "<table border=\"1\" class=\"dataframe\">\n",
       "  <thead>\n",
       "    <tr style=\"text-align: right;\">\n",
       "      <th></th>\n",
       "      <th>vendor_name</th>\n",
       "      <th>Model_Name</th>\n",
       "      <th>MYCT</th>\n",
       "      <th>MMIN</th>\n",
       "      <th>MMAX</th>\n",
       "      <th>CACH</th>\n",
       "      <th>CHMIN</th>\n",
       "      <th>CHMAX</th>\n",
       "      <th>PRP</th>\n",
       "      <th>ERP</th>\n",
       "    </tr>\n",
       "  </thead>\n",
       "  <tbody>\n",
       "    <tr>\n",
       "      <th>204</th>\n",
       "      <td>sperry</td>\n",
       "      <td>80/8</td>\n",
       "      <td>124</td>\n",
       "      <td>1000</td>\n",
       "      <td>8000</td>\n",
       "      <td>0</td>\n",
       "      <td>1</td>\n",
       "      <td>8</td>\n",
       "      <td>42</td>\n",
       "      <td>37</td>\n",
       "    </tr>\n",
       "    <tr>\n",
       "      <th>205</th>\n",
       "      <td>sperry</td>\n",
       "      <td>90/80-model-3</td>\n",
       "      <td>98</td>\n",
       "      <td>1000</td>\n",
       "      <td>8000</td>\n",
       "      <td>32</td>\n",
       "      <td>2</td>\n",
       "      <td>8</td>\n",
       "      <td>46</td>\n",
       "      <td>50</td>\n",
       "    </tr>\n",
       "    <tr>\n",
       "      <th>206</th>\n",
       "      <td>sratus</td>\n",
       "      <td>32</td>\n",
       "      <td>125</td>\n",
       "      <td>2000</td>\n",
       "      <td>8000</td>\n",
       "      <td>0</td>\n",
       "      <td>2</td>\n",
       "      <td>14</td>\n",
       "      <td>52</td>\n",
       "      <td>41</td>\n",
       "    </tr>\n",
       "    <tr>\n",
       "      <th>207</th>\n",
       "      <td>wang</td>\n",
       "      <td>vs-100</td>\n",
       "      <td>480</td>\n",
       "      <td>512</td>\n",
       "      <td>8000</td>\n",
       "      <td>32</td>\n",
       "      <td>0</td>\n",
       "      <td>0</td>\n",
       "      <td>67</td>\n",
       "      <td>47</td>\n",
       "    </tr>\n",
       "    <tr>\n",
       "      <th>208</th>\n",
       "      <td>wang</td>\n",
       "      <td>vs-90</td>\n",
       "      <td>480</td>\n",
       "      <td>1000</td>\n",
       "      <td>4000</td>\n",
       "      <td>0</td>\n",
       "      <td>0</td>\n",
       "      <td>0</td>\n",
       "      <td>45</td>\n",
       "      <td>25</td>\n",
       "    </tr>\n",
       "  </tbody>\n",
       "</table>\n",
       "</div>"
      ],
      "text/plain": [
       "    vendor_name     Model_Name  MYCT  MMIN  MMAX  CACH  CHMIN  CHMAX  PRP  ERP\n",
       "204      sperry           80/8   124  1000  8000     0      1      8   42   37\n",
       "205      sperry  90/80-model-3    98  1000  8000    32      2      8   46   50\n",
       "206      sratus             32   125  2000  8000     0      2     14   52   41\n",
       "207        wang         vs-100   480   512  8000    32      0      0   67   47\n",
       "208        wang          vs-90   480  1000  4000     0      0      0   45   25"
      ]
     },
     "execution_count": 7,
     "metadata": {},
     "output_type": "execute_result"
    }
   ],
   "source": [
    "# using tail function we can retreive the bottom data\n",
    "\n",
    "data.tail()"
   ]
  },
  {
   "cell_type": "code",
   "execution_count": 8,
   "id": "f7f933f9",
   "metadata": {},
   "outputs": [
    {
     "data": {
      "text/html": [
       "<div>\n",
       "<style scoped>\n",
       "    .dataframe tbody tr th:only-of-type {\n",
       "        vertical-align: middle;\n",
       "    }\n",
       "\n",
       "    .dataframe tbody tr th {\n",
       "        vertical-align: top;\n",
       "    }\n",
       "\n",
       "    .dataframe thead th {\n",
       "        text-align: right;\n",
       "    }\n",
       "</style>\n",
       "<table border=\"1\" class=\"dataframe\">\n",
       "  <thead>\n",
       "    <tr style=\"text-align: right;\">\n",
       "      <th></th>\n",
       "      <th>MYCT</th>\n",
       "      <th>MMIN</th>\n",
       "      <th>MMAX</th>\n",
       "      <th>CACH</th>\n",
       "      <th>CHMIN</th>\n",
       "      <th>CHMAX</th>\n",
       "      <th>PRP</th>\n",
       "      <th>ERP</th>\n",
       "    </tr>\n",
       "  </thead>\n",
       "  <tbody>\n",
       "    <tr>\n",
       "      <th>count</th>\n",
       "      <td>209.000000</td>\n",
       "      <td>209.000000</td>\n",
       "      <td>209.000000</td>\n",
       "      <td>209.000000</td>\n",
       "      <td>209.000000</td>\n",
       "      <td>209.000000</td>\n",
       "      <td>209.000000</td>\n",
       "      <td>209.000000</td>\n",
       "    </tr>\n",
       "    <tr>\n",
       "      <th>mean</th>\n",
       "      <td>203.822967</td>\n",
       "      <td>2867.980861</td>\n",
       "      <td>11796.153110</td>\n",
       "      <td>25.205742</td>\n",
       "      <td>4.698565</td>\n",
       "      <td>18.267943</td>\n",
       "      <td>105.622010</td>\n",
       "      <td>99.330144</td>\n",
       "    </tr>\n",
       "    <tr>\n",
       "      <th>std</th>\n",
       "      <td>260.262926</td>\n",
       "      <td>3878.742758</td>\n",
       "      <td>11726.564377</td>\n",
       "      <td>40.628722</td>\n",
       "      <td>6.816274</td>\n",
       "      <td>25.997318</td>\n",
       "      <td>160.830733</td>\n",
       "      <td>154.757102</td>\n",
       "    </tr>\n",
       "    <tr>\n",
       "      <th>min</th>\n",
       "      <td>17.000000</td>\n",
       "      <td>64.000000</td>\n",
       "      <td>64.000000</td>\n",
       "      <td>0.000000</td>\n",
       "      <td>0.000000</td>\n",
       "      <td>0.000000</td>\n",
       "      <td>6.000000</td>\n",
       "      <td>15.000000</td>\n",
       "    </tr>\n",
       "    <tr>\n",
       "      <th>25%</th>\n",
       "      <td>50.000000</td>\n",
       "      <td>768.000000</td>\n",
       "      <td>4000.000000</td>\n",
       "      <td>0.000000</td>\n",
       "      <td>1.000000</td>\n",
       "      <td>5.000000</td>\n",
       "      <td>27.000000</td>\n",
       "      <td>28.000000</td>\n",
       "    </tr>\n",
       "    <tr>\n",
       "      <th>50%</th>\n",
       "      <td>110.000000</td>\n",
       "      <td>2000.000000</td>\n",
       "      <td>8000.000000</td>\n",
       "      <td>8.000000</td>\n",
       "      <td>2.000000</td>\n",
       "      <td>8.000000</td>\n",
       "      <td>50.000000</td>\n",
       "      <td>45.000000</td>\n",
       "    </tr>\n",
       "    <tr>\n",
       "      <th>75%</th>\n",
       "      <td>225.000000</td>\n",
       "      <td>4000.000000</td>\n",
       "      <td>16000.000000</td>\n",
       "      <td>32.000000</td>\n",
       "      <td>6.000000</td>\n",
       "      <td>24.000000</td>\n",
       "      <td>113.000000</td>\n",
       "      <td>101.000000</td>\n",
       "    </tr>\n",
       "    <tr>\n",
       "      <th>max</th>\n",
       "      <td>1500.000000</td>\n",
       "      <td>32000.000000</td>\n",
       "      <td>64000.000000</td>\n",
       "      <td>256.000000</td>\n",
       "      <td>52.000000</td>\n",
       "      <td>176.000000</td>\n",
       "      <td>1150.000000</td>\n",
       "      <td>1238.000000</td>\n",
       "    </tr>\n",
       "  </tbody>\n",
       "</table>\n",
       "</div>"
      ],
      "text/plain": [
       "              MYCT          MMIN          MMAX        CACH       CHMIN  \\\n",
       "count   209.000000    209.000000    209.000000  209.000000  209.000000   \n",
       "mean    203.822967   2867.980861  11796.153110   25.205742    4.698565   \n",
       "std     260.262926   3878.742758  11726.564377   40.628722    6.816274   \n",
       "min      17.000000     64.000000     64.000000    0.000000    0.000000   \n",
       "25%      50.000000    768.000000   4000.000000    0.000000    1.000000   \n",
       "50%     110.000000   2000.000000   8000.000000    8.000000    2.000000   \n",
       "75%     225.000000   4000.000000  16000.000000   32.000000    6.000000   \n",
       "max    1500.000000  32000.000000  64000.000000  256.000000   52.000000   \n",
       "\n",
       "            CHMAX          PRP          ERP  \n",
       "count  209.000000   209.000000   209.000000  \n",
       "mean    18.267943   105.622010    99.330144  \n",
       "std     25.997318   160.830733   154.757102  \n",
       "min      0.000000     6.000000    15.000000  \n",
       "25%      5.000000    27.000000    28.000000  \n",
       "50%      8.000000    50.000000    45.000000  \n",
       "75%     24.000000   113.000000   101.000000  \n",
       "max    176.000000  1150.000000  1238.000000  "
      ]
     },
     "execution_count": 8,
     "metadata": {},
     "output_type": "execute_result"
    }
   ],
   "source": [
    "# We use .describe function to see the basic statistics details of the data.\n",
    "\n",
    "data.describe()"
   ]
  },
  {
   "cell_type": "code",
   "execution_count": 9,
   "id": "d8bd1e36",
   "metadata": {},
   "outputs": [
    {
     "name": "stdout",
     "output_type": "stream",
     "text": [
      "<class 'pandas.core.frame.DataFrame'>\n",
      "RangeIndex: 209 entries, 0 to 208\n",
      "Data columns (total 10 columns):\n",
      " #   Column       Non-Null Count  Dtype \n",
      "---  ------       --------------  ----- \n",
      " 0   vendor_name  209 non-null    object\n",
      " 1   Model_Name   209 non-null    object\n",
      " 2   MYCT         209 non-null    int64 \n",
      " 3   MMIN         209 non-null    int64 \n",
      " 4   MMAX         209 non-null    int64 \n",
      " 5   CACH         209 non-null    int64 \n",
      " 6   CHMIN        209 non-null    int64 \n",
      " 7   CHMAX        209 non-null    int64 \n",
      " 8   PRP          209 non-null    int64 \n",
      " 9   ERP          209 non-null    int64 \n",
      "dtypes: int64(8), object(2)\n",
      "memory usage: 16.5+ KB\n"
     ]
    }
   ],
   "source": [
    "# Get the information about the Computer_Hardwaare dataframe\n",
    "\n",
    "data.info()"
   ]
  },
  {
   "cell_type": "code",
   "execution_count": 10,
   "id": "11b9a244",
   "metadata": {},
   "outputs": [
    {
     "data": {
      "text/plain": [
       "(209, 10)"
      ]
     },
     "execution_count": 10,
     "metadata": {},
     "output_type": "execute_result"
    }
   ],
   "source": [
    "# .shape gives the tuple of the rows and the columns \n",
    "\n",
    "data.shape"
   ]
  },
  {
   "cell_type": "code",
   "execution_count": 11,
   "id": "3bf57e4a",
   "metadata": {},
   "outputs": [
    {
     "data": {
      "text/plain": [
       "vendor_name     30\n",
       "Model_Name     209\n",
       "MYCT            60\n",
       "MMIN            25\n",
       "MMAX            23\n",
       "CACH            22\n",
       "CHMIN           15\n",
       "CHMAX           31\n",
       "PRP            116\n",
       "ERP            104\n",
       "dtype: int64"
      ]
     },
     "execution_count": 11,
     "metadata": {},
     "output_type": "execute_result"
    }
   ],
   "source": [
    "# To find the number of unique values in the data frame,it ignores the nan values\n",
    "\n",
    "data.nunique()"
   ]
  },
  {
   "cell_type": "code",
   "execution_count": 12,
   "id": "2027b5f7",
   "metadata": {},
   "outputs": [
    {
     "data": {
      "text/plain": [
       "array(['adviser', 'amdahl', 'apollo', 'basf', 'bti', 'burroughs', 'c.r.d',\n",
       "       'cdc', 'cambex', 'dec', 'dg', 'formation', 'four-phase', 'gould',\n",
       "       'hp', 'harris', 'honeywell', 'ibm', 'ipl', 'magnuson', 'microdata',\n",
       "       'nas', 'ncr', 'nixdorf', 'perkin-elmer', 'prime', 'siemens',\n",
       "       'sperry', 'sratus', 'wang'], dtype=object)"
      ]
     },
     "execution_count": 12,
     "metadata": {},
     "output_type": "execute_result"
    }
   ],
   "source": [
    "# To find the unique vendor_name in data.\n",
    "\n",
    "data.vendor_name.unique()"
   ]
  },
  {
   "cell_type": "code",
   "execution_count": 6,
   "id": "bc47c383",
   "metadata": {},
   "outputs": [
    {
     "data": {
      "text/plain": [
       "vendor_name    0\n",
       "Model_Name     0\n",
       "MYCT           0\n",
       "MMIN           0\n",
       "MMAX           0\n",
       "CACH           0\n",
       "CHMIN          0\n",
       "CHMAX          0\n",
       "PRP            0\n",
       "ERP            0\n",
       "dtype: int64"
      ]
     },
     "execution_count": 6,
     "metadata": {},
     "output_type": "execute_result"
    }
   ],
   "source": [
    "# Missing values:\n",
    "\n",
    "data.isnull().sum()"
   ]
  },
  {
   "cell_type": "markdown",
   "id": "94be8ada",
   "metadata": {},
   "source": [
    "## Data Cleaning"
   ]
  },
  {
   "cell_type": "code",
   "execution_count": 7,
   "id": "8de42d0e",
   "metadata": {},
   "outputs": [],
   "source": [
    "# Dropping the vendor_name and Model_name:\n",
    "\n",
    "data.drop(['vendor_name','Model_Name'], axis=1, inplace=True)"
   ]
  },
  {
   "cell_type": "code",
   "execution_count": 8,
   "id": "35e64a57",
   "metadata": {},
   "outputs": [
    {
     "data": {
      "text/html": [
       "<div>\n",
       "<style scoped>\n",
       "    .dataframe tbody tr th:only-of-type {\n",
       "        vertical-align: middle;\n",
       "    }\n",
       "\n",
       "    .dataframe tbody tr th {\n",
       "        vertical-align: top;\n",
       "    }\n",
       "\n",
       "    .dataframe thead th {\n",
       "        text-align: right;\n",
       "    }\n",
       "</style>\n",
       "<table border=\"1\" class=\"dataframe\">\n",
       "  <thead>\n",
       "    <tr style=\"text-align: right;\">\n",
       "      <th></th>\n",
       "      <th>MYCT</th>\n",
       "      <th>MMIN</th>\n",
       "      <th>MMAX</th>\n",
       "      <th>CACH</th>\n",
       "      <th>CHMIN</th>\n",
       "      <th>CHMAX</th>\n",
       "      <th>PRP</th>\n",
       "      <th>ERP</th>\n",
       "    </tr>\n",
       "  </thead>\n",
       "  <tbody>\n",
       "    <tr>\n",
       "      <th>0</th>\n",
       "      <td>125</td>\n",
       "      <td>256</td>\n",
       "      <td>6000</td>\n",
       "      <td>256</td>\n",
       "      <td>16</td>\n",
       "      <td>128</td>\n",
       "      <td>198</td>\n",
       "      <td>199</td>\n",
       "    </tr>\n",
       "    <tr>\n",
       "      <th>1</th>\n",
       "      <td>29</td>\n",
       "      <td>8000</td>\n",
       "      <td>32000</td>\n",
       "      <td>32</td>\n",
       "      <td>8</td>\n",
       "      <td>32</td>\n",
       "      <td>269</td>\n",
       "      <td>253</td>\n",
       "    </tr>\n",
       "    <tr>\n",
       "      <th>2</th>\n",
       "      <td>29</td>\n",
       "      <td>8000</td>\n",
       "      <td>32000</td>\n",
       "      <td>32</td>\n",
       "      <td>8</td>\n",
       "      <td>32</td>\n",
       "      <td>220</td>\n",
       "      <td>253</td>\n",
       "    </tr>\n",
       "    <tr>\n",
       "      <th>3</th>\n",
       "      <td>29</td>\n",
       "      <td>8000</td>\n",
       "      <td>32000</td>\n",
       "      <td>32</td>\n",
       "      <td>8</td>\n",
       "      <td>32</td>\n",
       "      <td>172</td>\n",
       "      <td>253</td>\n",
       "    </tr>\n",
       "    <tr>\n",
       "      <th>4</th>\n",
       "      <td>29</td>\n",
       "      <td>8000</td>\n",
       "      <td>16000</td>\n",
       "      <td>32</td>\n",
       "      <td>8</td>\n",
       "      <td>16</td>\n",
       "      <td>132</td>\n",
       "      <td>132</td>\n",
       "    </tr>\n",
       "    <tr>\n",
       "      <th>...</th>\n",
       "      <td>...</td>\n",
       "      <td>...</td>\n",
       "      <td>...</td>\n",
       "      <td>...</td>\n",
       "      <td>...</td>\n",
       "      <td>...</td>\n",
       "      <td>...</td>\n",
       "      <td>...</td>\n",
       "    </tr>\n",
       "    <tr>\n",
       "      <th>204</th>\n",
       "      <td>124</td>\n",
       "      <td>1000</td>\n",
       "      <td>8000</td>\n",
       "      <td>0</td>\n",
       "      <td>1</td>\n",
       "      <td>8</td>\n",
       "      <td>42</td>\n",
       "      <td>37</td>\n",
       "    </tr>\n",
       "    <tr>\n",
       "      <th>205</th>\n",
       "      <td>98</td>\n",
       "      <td>1000</td>\n",
       "      <td>8000</td>\n",
       "      <td>32</td>\n",
       "      <td>2</td>\n",
       "      <td>8</td>\n",
       "      <td>46</td>\n",
       "      <td>50</td>\n",
       "    </tr>\n",
       "    <tr>\n",
       "      <th>206</th>\n",
       "      <td>125</td>\n",
       "      <td>2000</td>\n",
       "      <td>8000</td>\n",
       "      <td>0</td>\n",
       "      <td>2</td>\n",
       "      <td>14</td>\n",
       "      <td>52</td>\n",
       "      <td>41</td>\n",
       "    </tr>\n",
       "    <tr>\n",
       "      <th>207</th>\n",
       "      <td>480</td>\n",
       "      <td>512</td>\n",
       "      <td>8000</td>\n",
       "      <td>32</td>\n",
       "      <td>0</td>\n",
       "      <td>0</td>\n",
       "      <td>67</td>\n",
       "      <td>47</td>\n",
       "    </tr>\n",
       "    <tr>\n",
       "      <th>208</th>\n",
       "      <td>480</td>\n",
       "      <td>1000</td>\n",
       "      <td>4000</td>\n",
       "      <td>0</td>\n",
       "      <td>0</td>\n",
       "      <td>0</td>\n",
       "      <td>45</td>\n",
       "      <td>25</td>\n",
       "    </tr>\n",
       "  </tbody>\n",
       "</table>\n",
       "<p>209 rows × 8 columns</p>\n",
       "</div>"
      ],
      "text/plain": [
       "     MYCT  MMIN   MMAX  CACH  CHMIN  CHMAX  PRP  ERP\n",
       "0     125   256   6000   256     16    128  198  199\n",
       "1      29  8000  32000    32      8     32  269  253\n",
       "2      29  8000  32000    32      8     32  220  253\n",
       "3      29  8000  32000    32      8     32  172  253\n",
       "4      29  8000  16000    32      8     16  132  132\n",
       "..    ...   ...    ...   ...    ...    ...  ...  ...\n",
       "204   124  1000   8000     0      1      8   42   37\n",
       "205    98  1000   8000    32      2      8   46   50\n",
       "206   125  2000   8000     0      2     14   52   41\n",
       "207   480   512   8000    32      0      0   67   47\n",
       "208   480  1000   4000     0      0      0   45   25\n",
       "\n",
       "[209 rows x 8 columns]"
      ]
     },
     "execution_count": 8,
     "metadata": {},
     "output_type": "execute_result"
    }
   ],
   "source": [
    "data"
   ]
  },
  {
   "cell_type": "code",
   "execution_count": 8,
   "id": "6b8a3a7e",
   "metadata": {},
   "outputs": [
    {
     "name": "stdout",
     "output_type": "stream",
     "text": [
      "<class 'pandas.core.frame.DataFrame'>\n",
      "RangeIndex: 209 entries, 0 to 208\n",
      "Data columns (total 8 columns):\n",
      " #   Column  Non-Null Count  Dtype\n",
      "---  ------  --------------  -----\n",
      " 0   MYCT    209 non-null    int64\n",
      " 1   MMIN    209 non-null    int64\n",
      " 2   MMAX    209 non-null    int64\n",
      " 3   CACH    209 non-null    int64\n",
      " 4   CHMIN   209 non-null    int64\n",
      " 5   CHMAX   209 non-null    int64\n",
      " 6   PRP     209 non-null    int64\n",
      " 7   ERP     209 non-null    int64\n",
      "dtypes: int64(8)\n",
      "memory usage: 13.2 KB\n"
     ]
    }
   ],
   "source": [
    "# Get the information about the data\n",
    "\n",
    "data.info()"
   ]
  },
  {
   "cell_type": "code",
   "execution_count": 17,
   "id": "5ace32a9",
   "metadata": {},
   "outputs": [
    {
     "data": {
      "text/plain": [
       "(209, 8)"
      ]
     },
     "execution_count": 17,
     "metadata": {},
     "output_type": "execute_result"
    }
   ],
   "source": [
    "# .shape gives the tuple of the rows and the columns \n",
    "\n",
    "data.shape"
   ]
  },
  {
   "cell_type": "markdown",
   "id": "44f78ac7",
   "metadata": {},
   "source": [
    "## OUTLIERS:"
   ]
  },
  {
   "cell_type": "code",
   "execution_count": 9,
   "id": "26a2c26f",
   "metadata": {},
   "outputs": [
    {
     "data": {
      "image/png": "[encoded data removed]",
      "text/plain": [
       "<Figure size 432x288 with 1 Axes>"
      ]
     },
     "metadata": {
      "needs_background": "light"
     },
     "output_type": "display_data"
    }
   ],
   "source": [
    "# Finding the Outliers in MYCT column:\n",
    "\n",
    "outlier = sns.boxplot(x='MYCT', data=data)"
   ]
  },
  {
   "cell_type": "code",
   "execution_count": 10,
   "id": "38bf5f5c",
   "metadata": {},
   "outputs": [
    {
     "name": "stdout",
     "output_type": "stream",
     "text": [
      "-212.5\n",
      "487.5\n"
     ]
    }
   ],
   "source": [
    "def outlier(MYCT):\n",
    "    sorted(MYCT)\n",
    "    Q1,Q3 = np.percentile(MYCT, [25,75])\n",
    "    IQR = Q3 - Q1\n",
    "    lower_range = Q1 - (1.5 * IQR)\n",
    "    upper_range = Q3 + (1.5 * IQR)\n",
    "    return lower_range,upper_range\n",
    "\n",
    "low,up = outlier(data.MYCT)\n",
    "print(low)\n",
    "print(up)"
   ]
  },
  {
   "cell_type": "code",
   "execution_count": 11,
   "id": "5a29e5fb",
   "metadata": {},
   "outputs": [],
   "source": [
    "data[(data.MYCT < low) | (data.MYCT > up)]\n",
    "data.drop(data[(data.MYCT < low) | (data.MYCT > up)].index, inplace=True)"
   ]
  },
  {
   "cell_type": "code",
   "execution_count": 12,
   "id": "b594d456",
   "metadata": {},
   "outputs": [
    {
     "data": {
      "image/png": "[encoded data removed]",
      "text/plain": [
       "<Figure size 432x288 with 1 Axes>"
      ]
     },
     "metadata": {
      "needs_background": "light"
     },
     "output_type": "display_data"
    }
   ],
   "source": [
    "# After removing the outliers in mpg column:\n",
    "\n",
    "outlier = sns.boxplot(x='MYCT', data=data)"
   ]
  },
  {
   "cell_type": "code",
   "execution_count": 13,
   "id": "2faac0e4",
   "metadata": {
    "scrolled": false
   },
   "outputs": [
    {
     "data": {
      "image/png": "[encoded data removed]",
      "text/plain": [
       "<Figure size 432x288 with 1 Axes>"
      ]
     },
     "metadata": {
      "needs_background": "light"
     },
     "output_type": "display_data"
    }
   ],
   "source": [
    "# Finding the Outliers in MMIN column:\n",
    "\n",
    "outlier = sns.boxplot(x='MMIN', data=data)"
   ]
  },
  {
   "cell_type": "code",
   "execution_count": 14,
   "id": "d38663a1",
   "metadata": {},
   "outputs": [
    {
     "name": "stdout",
     "output_type": "stream",
     "text": [
      "-3500.0\n",
      "8500.0\n"
     ]
    }
   ],
   "source": [
    "def outlier(MMIN):\n",
    "    sorted(MMIN)\n",
    "    Q1,Q3 = np.percentile(MMIN, [25,75])\n",
    "    IQR = Q3 - Q1\n",
    "    lower_range = Q1 - (1.5 * IQR)\n",
    "    upper_range = Q3 + (1.5 * IQR)\n",
    "    return lower_range,upper_range\n",
    "\n",
    "low,up = outlier(data.MMIN)\n",
    "print(low)\n",
    "print(up)"
   ]
  },
  {
   "cell_type": "code",
   "execution_count": 15,
   "id": "8b0fe204",
   "metadata": {},
   "outputs": [],
   "source": [
    "data[(data.MMIN < low) | (data.MMIN > up)]\n",
    "data.drop(data[(data.MMIN < low) | (data.MMIN > up)].index, inplace=True)"
   ]
  },
  {
   "cell_type": "code",
   "execution_count": 16,
   "id": "3fad9032",
   "metadata": {
    "scrolled": true
   },
   "outputs": [
    {
     "data": {
      "image/png": "[encoded data removed]",
      "text/plain": [
       "<Figure size 432x288 with 1 Axes>"
      ]
     },
     "metadata": {
      "needs_background": "light"
     },
     "output_type": "display_data"
    }
   ],
   "source": [
    "# After removing the outliers in MMIN column:\n",
    "\n",
    "outlier = sns.boxplot(x='MMIN', data=data)"
   ]
  },
  {
   "cell_type": "code",
   "execution_count": 17,
   "id": "4406f314",
   "metadata": {
    "scrolled": false
   },
   "outputs": [
    {
     "data": {
      "image/png": "[encoded data removed]",
      "text/plain": [
       "<Figure size 432x288 with 1 Axes>"
      ]
     },
     "metadata": {
      "needs_background": "light"
     },
     "output_type": "display_data"
    }
   ],
   "source": [
    "# Finding the Outliers in MMAX column:\n",
    "\n",
    "outlier = sns.boxplot(x='MMAX', data=data)"
   ]
  },
  {
   "cell_type": "code",
   "execution_count": 18,
   "id": "21d0cc5c",
   "metadata": {},
   "outputs": [
    {
     "name": "stdout",
     "output_type": "stream",
     "text": [
      "-14000.0\n",
      "34000.0\n"
     ]
    }
   ],
   "source": [
    "def outlier(MMAX):\n",
    "    sorted(MMAX)\n",
    "    Q1,Q3 = np.percentile(MMAX, [25,75])\n",
    "    IQR = Q3 - Q1\n",
    "    lower_range = Q1 - (1.5 * IQR)\n",
    "    upper_range = Q3 + (1.5 * IQR)\n",
    "    return lower_range,upper_range\n",
    "\n",
    "low,up = outlier(data.MMAX)\n",
    "print(low)\n",
    "print(up)"
   ]
  },
  {
   "cell_type": "code",
   "execution_count": 19,
   "id": "c5ff5297",
   "metadata": {},
   "outputs": [],
   "source": [
    "data[(data.MMAX < low) | (data.MMAX > up)]\n",
    "data.drop(data[(data.MMAX < low) | (data.MMAX > up)].index, inplace=True)"
   ]
  },
  {
   "cell_type": "code",
   "execution_count": 20,
   "id": "7d094370",
   "metadata": {
    "scrolled": true
   },
   "outputs": [
    {
     "data": {
      "image/png": "[encoded data removed]",
      "text/plain": [
       "<Figure size 432x288 with 1 Axes>"
      ]
     },
     "metadata": {
      "needs_background": "light"
     },
     "output_type": "display_data"
    }
   ],
   "source": [
    "# After removing the outliers in MMAX column:\n",
    "\n",
    "outlier = sns.boxplot(x='MMAX', data=data)"
   ]
  },
  {
   "cell_type": "code",
   "execution_count": 21,
   "id": "7455e3ef",
   "metadata": {
    "scrolled": false
   },
   "outputs": [
    {
     "data": {
      "image/png": "[encoded data removed]",
      "text/plain": [
       "<Figure size 432x288 with 1 Axes>"
      ]
     },
     "metadata": {
      "needs_background": "light"
     },
     "output_type": "display_data"
    }
   ],
   "source": [
    "# Finding the Outliers in CACH column:\n",
    "\n",
    "outlier = sns.boxplot(x='CACH', data=data)"
   ]
  },
  {
   "cell_type": "code",
   "execution_count": 22,
   "id": "8fba3abb",
   "metadata": {},
   "outputs": [
    {
     "name": "stdout",
     "output_type": "stream",
     "text": [
      "-48.0\n",
      "80.0\n"
     ]
    }
   ],
   "source": [
    "def outlier(CACH):\n",
    "    sorted(CACH)\n",
    "    Q1,Q3 = np.percentile(CACH, [25,75])\n",
    "    IQR = Q3 - Q1\n",
    "    lower_range = Q1 - (1.5 * IQR)\n",
    "    upper_range = Q3 + (1.5 * IQR)\n",
    "    return lower_range,upper_range\n",
    "\n",
    "low,up = outlier(data.CACH)\n",
    "print(low)\n",
    "print(up)"
   ]
  },
  {
   "cell_type": "code",
   "execution_count": 23,
   "id": "f3b9c31a",
   "metadata": {},
   "outputs": [],
   "source": [
    "data[(data.CACH < low) | (data.CACH > up)]\n",
    "data.drop(data[(data.CACH < low) | (data.CACH > up)].index, inplace=True)"
   ]
  },
  {
   "cell_type": "code",
   "execution_count": 24,
   "id": "5fd9b7b1",
   "metadata": {},
   "outputs": [
    {
     "data": {
      "image/png": "[encoded data removed]",
      "text/plain": [
       "<Figure size 432x288 with 1 Axes>"
      ]
     },
     "metadata": {
      "needs_background": "light"
     },
     "output_type": "display_data"
    }
   ],
   "source": [
    "# After removing the outliers in CACH column:\n",
    "\n",
    "outlier = sns.boxplot(x='CACH', data=data)"
   ]
  },
  {
   "cell_type": "code",
   "execution_count": 25,
   "id": "2cd06e57",
   "metadata": {
    "scrolled": false
   },
   "outputs": [
    {
     "data": {
      "image/png": "[encoded data removed]",
      "text/plain": [
       "<Figure size 432x288 with 1 Axes>"
      ]
     },
     "metadata": {
      "needs_background": "light"
     },
     "output_type": "display_data"
    }
   ],
   "source": [
    "# Finding the Outliers in CHMIN column:\n",
    "\n",
    "outlier = sns.boxplot(x='CHMIN', data=data)"
   ]
  },
  {
   "cell_type": "code",
   "execution_count": 26,
   "id": "19c244b4",
   "metadata": {},
   "outputs": [
    {
     "name": "stdout",
     "output_type": "stream",
     "text": [
      "-6.5\n",
      "13.5\n"
     ]
    }
   ],
   "source": [
    "def outlier(CHMIN):\n",
    "    sorted(CHMIN)\n",
    "    Q1,Q3 = np.percentile(CHMIN, [25,75])\n",
    "    IQR = Q3 - Q1\n",
    "    lower_range = Q1 - (1.5 * IQR)\n",
    "    upper_range = Q3 + (1.5 * IQR)\n",
    "    return lower_range,upper_range\n",
    "\n",
    "low,up = outlier(data.CHMIN)\n",
    "print(low)\n",
    "print(up)"
   ]
  },
  {
   "cell_type": "code",
   "execution_count": 27,
   "id": "0963472d",
   "metadata": {},
   "outputs": [],
   "source": [
    "data[(data.CHMIN < low) | (data.CHMIN > up)]\n",
    "data.drop(data[(data.CHMIN < low) | (data.CHMIN > up)].index, inplace=True)"
   ]
  },
  {
   "cell_type": "code",
   "execution_count": 28,
   "id": "c1125a24",
   "metadata": {
    "scrolled": false
   },
   "outputs": [
    {
     "data": {
      "image/png": "[encoded data removed]",
      "text/plain": [
       "<Figure size 432x288 with 1 Axes>"
      ]
     },
     "metadata": {
      "needs_background": "light"
     },
     "output_type": "display_data"
    }
   ],
   "source": [
    "# After removing the outliers in CHMIN column:\n",
    "\n",
    "outlier = sns.boxplot(x='CHMIN', data=data)"
   ]
  },
  {
   "cell_type": "code",
   "execution_count": 29,
   "id": "b5090624",
   "metadata": {},
   "outputs": [
    {
     "data": {
      "image/png": "[encoded data removed]",
      "text/plain": [
       "<Figure size 432x288 with 1 Axes>"
      ]
     },
     "metadata": {
      "needs_background": "light"
     },
     "output_type": "display_data"
    }
   ],
   "source": [
    "# Finding the Outliers in CHMAX column:\n",
    "\n",
    "outlier = sns.boxplot(x='CHMAX', data=data)"
   ]
  },
  {
   "cell_type": "code",
   "execution_count": 30,
   "id": "df05f134",
   "metadata": {},
   "outputs": [
    {
     "name": "stdout",
     "output_type": "stream",
     "text": [
      "-15.0\n",
      "41.0\n"
     ]
    }
   ],
   "source": [
    "def outlier(CHMAX):\n",
    "    sorted(CHMAX)\n",
    "    Q1,Q3 = np.percentile(CHMAX, [25,75])\n",
    "    IQR = Q3 - Q1\n",
    "    lower_range = Q1 - (1.5 * IQR)\n",
    "    upper_range = Q3 + (1.5 * IQR)\n",
    "    return lower_range,upper_range\n",
    "\n",
    "low,up = outlier(data.CHMAX)\n",
    "print(low)\n",
    "print(up)"
   ]
  },
  {
   "cell_type": "code",
   "execution_count": 31,
   "id": "203c266c",
   "metadata": {},
   "outputs": [],
   "source": [
    "data[(data.CHMAX < low) | (data.CHMAX > up)]\n",
    "data.drop(data[(data.CHMAX < low) | (data.CHMAX > up)].index, inplace=True)"
   ]
  },
  {
   "cell_type": "code",
   "execution_count": 32,
   "id": "230fe84b",
   "metadata": {},
   "outputs": [
    {
     "data": {
      "image/png": "[encoded data removed]",
      "text/plain": [
       "<Figure size 432x288 with 1 Axes>"
      ]
     },
     "metadata": {
      "needs_background": "light"
     },
     "output_type": "display_data"
    }
   ],
   "source": [
    "# After removing the outliers in CHMAX column:\n",
    "\n",
    "outlier = sns.boxplot(x='CHMAX', data=data)"
   ]
  },
  {
   "cell_type": "code",
   "execution_count": 33,
   "id": "f58edc9f",
   "metadata": {
    "scrolled": false
   },
   "outputs": [
    {
     "data": {
      "image/png": "[encoded data removed]",
      "text/plain": [
       "<Figure size 432x288 with 1 Axes>"
      ]
     },
     "metadata": {
      "needs_background": "light"
     },
     "output_type": "display_data"
    }
   ],
   "source": [
    "# Finding the Outliers in PRP column:\n",
    "\n",
    "outlier = sns.boxplot(x='PRP', data=data)"
   ]
  },
  {
   "cell_type": "code",
   "execution_count": 34,
   "id": "4730bc66",
   "metadata": {},
   "outputs": [
    {
     "name": "stdout",
     "output_type": "stream",
     "text": [
      "-45.0\n",
      "155.0\n"
     ]
    }
   ],
   "source": [
    "def outlier(PRP):\n",
    "    sorted(PRP)\n",
    "    Q1,Q3 = np.percentile(PRP, [25,75])\n",
    "    IQR = Q3 - Q1\n",
    "    lower_range = Q1 - (1.5 * IQR)\n",
    "    upper_range = Q3 + (1.5 * IQR)\n",
    "    return lower_range,upper_range\n",
    "\n",
    "low,up = outlier(data.PRP)\n",
    "print(low)\n",
    "print(up)"
   ]
  },
  {
   "cell_type": "code",
   "execution_count": 35,
   "id": "f87116cd",
   "metadata": {},
   "outputs": [],
   "source": [
    "data[(data.PRP < low) | (data.PRP > up)]\n",
    "data.drop(data[(data.PRP < low) | (data.PRP > up)].index, inplace=True)"
   ]
  },
  {
   "cell_type": "code",
   "execution_count": 36,
   "id": "8c74fa2e",
   "metadata": {
    "scrolled": true
   },
   "outputs": [
    {
     "data": {
      "image/png": "[encoded data removed]",
      "text/plain": [
       "<Figure size 432x288 with 1 Axes>"
      ]
     },
     "metadata": {
      "needs_background": "light"
     },
     "output_type": "display_data"
    }
   ],
   "source": [
    "# After removing the outliers in PRP column:\n",
    "\n",
    "outlier = sns.boxplot(x='PRP', data=data)"
   ]
  },
  {
   "cell_type": "code",
   "execution_count": 37,
   "id": "3581439e",
   "metadata": {
    "scrolled": false
   },
   "outputs": [
    {
     "data": {
      "image/png": "[encoded data removed]",
      "text/plain": [
       "<Figure size 432x288 with 1 Axes>"
      ]
     },
     "metadata": {
      "needs_background": "light"
     },
     "output_type": "display_data"
    }
   ],
   "source": [
    "# Finding the Outliers in ERP column:\n",
    "\n",
    "outlier = sns.boxplot(x='ERP', data=data)"
   ]
  },
  {
   "cell_type": "code",
   "execution_count": 38,
   "id": "15522d3a",
   "metadata": {},
   "outputs": [
    {
     "name": "stdout",
     "output_type": "stream",
     "text": [
      "-35.5\n",
      "128.5\n"
     ]
    }
   ],
   "source": [
    "def outlier(ERP):\n",
    "    sorted(ERP)\n",
    "    Q1,Q3 = np.percentile(ERP, [25,75])\n",
    "    IQR = Q3 - Q1\n",
    "    lower_range = Q1 - (1.5 * IQR)\n",
    "    upper_range = Q3 + (1.5 * IQR)\n",
    "    return lower_range,upper_range\n",
    "\n",
    "low,up = outlier(data.ERP)\n",
    "print(low)\n",
    "print(up)"
   ]
  },
  {
   "cell_type": "code",
   "execution_count": 39,
   "id": "37a18bf2",
   "metadata": {},
   "outputs": [],
   "source": [
    "data[(data.ERP < low) | (data.ERP > up)]\n",
    "data.drop(data[(data.ERP < low) | (data.ERP > up)].index, inplace=True)"
   ]
  },
  {
   "cell_type": "code",
   "execution_count": 40,
   "id": "b4d1b5ca",
   "metadata": {
    "scrolled": true
   },
   "outputs": [
    {
     "data": {
      "image/png": "[encoded data removed]",
      "text/plain": [
       "<Figure size 432x288 with 1 Axes>"
      ]
     },
     "metadata": {
      "needs_background": "light"
     },
     "output_type": "display_data"
    }
   ],
   "source": [
    "# After removing the outliers in ERP column:\n",
    "\n",
    "outlier = sns.boxplot(x='ERP', data=data)"
   ]
  },
  {
   "cell_type": "markdown",
   "id": "d759a203",
   "metadata": {},
   "source": [
    "## Feature Selection"
   ]
  },
  {
   "cell_type": "code",
   "execution_count": 41,
   "id": "0d5c3d5a",
   "metadata": {},
   "outputs": [],
   "source": [
    "# SPLLITING DATASET\n",
    "\n",
    "X = data[['MYCT','MMIN','MMAX','CACH','CHMIN', 'CHMAX','PRP']]\n",
    "y = data[['ERP']]"
   ]
  },
  {
   "cell_type": "code",
   "execution_count": 42,
   "id": "0c85d1c8",
   "metadata": {},
   "outputs": [],
   "source": [
    "# FEATURE SELECTION - UNIVERATE SELECTION\n",
    "# PEARSON'S CORRELATION FEATURE SELECTION\n",
    "# (DO NOT ACCEPT NEGATIVE VALUES)\n",
    "\n",
    "from sklearn.feature_selection import SelectKBest\n",
    "from sklearn.feature_selection import f_regression\n",
    "\n",
    "bestfeatures = SelectKBest(score_func=f_regression, k=4)\n",
    "fit = bestfeatures.fit(X,y)"
   ]
  },
  {
   "cell_type": "code",
   "execution_count": 43,
   "id": "d6d9bf56",
   "metadata": {},
   "outputs": [
    {
     "name": "stdout",
     "output_type": "stream",
     "text": [
      "  col_names    accuracy\n",
      "2      MMAX  739.122383\n",
      "6       PRP  238.505718\n",
      "1      MMIN  174.496160\n",
      "3      CACH  173.089469\n"
     ]
    }
   ],
   "source": [
    "dfscores = pd.DataFrame(fit.scores_)\n",
    "dfcolumns = pd.DataFrame(data.columns)\n",
    "\n",
    "# CONCAT TWO DATAFRAMES FOR BETTER VISUALIZATION \n",
    "featureScores = pd.concat([dfcolumns,dfscores],axis=1)\n",
    "\n",
    "featureScores.columns = ['col_names','accuracy']              # NAMING THE DATAFRAME COLUMNS\n",
    "print(featureScores.nlargest(4,'accuracy'))                   # PRINT THE BEST FEATURES"
   ]
  },
  {
   "cell_type": "markdown",
   "id": "5548ea17",
   "metadata": {},
   "source": [
    "## Split the data"
   ]
  },
  {
   "cell_type": "code",
   "execution_count": 44,
   "id": "4d0dcdf6",
   "metadata": {},
   "outputs": [],
   "source": [
    "# Split X1 and Y1\n",
    "\n",
    "X1 = data[['MMIN','MMAX','CACH','PRP']]\n",
    "y1 = data[['ERP']]"
   ]
  },
  {
   "cell_type": "code",
   "execution_count": 45,
   "id": "f8c92f3f",
   "metadata": {},
   "outputs": [
    {
     "data": {
      "text/html": [
       "<div>\n",
       "<style scoped>\n",
       "    .dataframe tbody tr th:only-of-type {\n",
       "        vertical-align: middle;\n",
       "    }\n",
       "\n",
       "    .dataframe tbody tr th {\n",
       "        vertical-align: top;\n",
       "    }\n",
       "\n",
       "    .dataframe thead th {\n",
       "        text-align: right;\n",
       "    }\n",
       "</style>\n",
       "<table border=\"1\" class=\"dataframe\">\n",
       "  <thead>\n",
       "    <tr style=\"text-align: right;\">\n",
       "      <th></th>\n",
       "      <th>MMIN</th>\n",
       "      <th>MMAX</th>\n",
       "      <th>CACH</th>\n",
       "      <th>PRP</th>\n",
       "    </tr>\n",
       "  </thead>\n",
       "  <tbody>\n",
       "    <tr>\n",
       "      <th>10</th>\n",
       "      <td>1000</td>\n",
       "      <td>3000</td>\n",
       "      <td>0</td>\n",
       "      <td>38</td>\n",
       "    </tr>\n",
       "    <tr>\n",
       "      <th>11</th>\n",
       "      <td>512</td>\n",
       "      <td>3500</td>\n",
       "      <td>4</td>\n",
       "      <td>40</td>\n",
       "    </tr>\n",
       "    <tr>\n",
       "      <th>12</th>\n",
       "      <td>2000</td>\n",
       "      <td>8000</td>\n",
       "      <td>65</td>\n",
       "      <td>92</td>\n",
       "    </tr>\n",
       "    <tr>\n",
       "      <th>13</th>\n",
       "      <td>4000</td>\n",
       "      <td>16000</td>\n",
       "      <td>65</td>\n",
       "      <td>138</td>\n",
       "    </tr>\n",
       "    <tr>\n",
       "      <th>14</th>\n",
       "      <td>64</td>\n",
       "      <td>64</td>\n",
       "      <td>0</td>\n",
       "      <td>10</td>\n",
       "    </tr>\n",
       "    <tr>\n",
       "      <th>...</th>\n",
       "      <td>...</td>\n",
       "      <td>...</td>\n",
       "      <td>...</td>\n",
       "      <td>...</td>\n",
       "    </tr>\n",
       "    <tr>\n",
       "      <th>204</th>\n",
       "      <td>1000</td>\n",
       "      <td>8000</td>\n",
       "      <td>0</td>\n",
       "      <td>42</td>\n",
       "    </tr>\n",
       "    <tr>\n",
       "      <th>205</th>\n",
       "      <td>1000</td>\n",
       "      <td>8000</td>\n",
       "      <td>32</td>\n",
       "      <td>46</td>\n",
       "    </tr>\n",
       "    <tr>\n",
       "      <th>206</th>\n",
       "      <td>2000</td>\n",
       "      <td>8000</td>\n",
       "      <td>0</td>\n",
       "      <td>52</td>\n",
       "    </tr>\n",
       "    <tr>\n",
       "      <th>207</th>\n",
       "      <td>512</td>\n",
       "      <td>8000</td>\n",
       "      <td>32</td>\n",
       "      <td>67</td>\n",
       "    </tr>\n",
       "    <tr>\n",
       "      <th>208</th>\n",
       "      <td>1000</td>\n",
       "      <td>4000</td>\n",
       "      <td>0</td>\n",
       "      <td>45</td>\n",
       "    </tr>\n",
       "  </tbody>\n",
       "</table>\n",
       "<p>136 rows × 4 columns</p>\n",
       "</div>"
      ],
      "text/plain": [
       "     MMIN   MMAX  CACH  PRP\n",
       "10   1000   3000     0   38\n",
       "11    512   3500     4   40\n",
       "12   2000   8000    65   92\n",
       "13   4000  16000    65  138\n",
       "14     64     64     0   10\n",
       "..    ...    ...   ...  ...\n",
       "204  1000   8000     0   42\n",
       "205  1000   8000    32   46\n",
       "206  2000   8000     0   52\n",
       "207   512   8000    32   67\n",
       "208  1000   4000     0   45\n",
       "\n",
       "[136 rows x 4 columns]"
      ]
     },
     "execution_count": 45,
     "metadata": {},
     "output_type": "execute_result"
    }
   ],
   "source": [
    "X1"
   ]
  },
  {
   "cell_type": "code",
   "execution_count": 46,
   "id": "a5147269",
   "metadata": {
    "scrolled": true
   },
   "outputs": [
    {
     "data": {
      "text/html": [
       "<div>\n",
       "<style scoped>\n",
       "    .dataframe tbody tr th:only-of-type {\n",
       "        vertical-align: middle;\n",
       "    }\n",
       "\n",
       "    .dataframe tbody tr th {\n",
       "        vertical-align: top;\n",
       "    }\n",
       "\n",
       "    .dataframe thead th {\n",
       "        text-align: right;\n",
       "    }\n",
       "</style>\n",
       "<table border=\"1\" class=\"dataframe\">\n",
       "  <thead>\n",
       "    <tr style=\"text-align: right;\">\n",
       "      <th></th>\n",
       "      <th>ERP</th>\n",
       "    </tr>\n",
       "  </thead>\n",
       "  <tbody>\n",
       "    <tr>\n",
       "      <th>10</th>\n",
       "      <td>23</td>\n",
       "    </tr>\n",
       "    <tr>\n",
       "      <th>11</th>\n",
       "      <td>24</td>\n",
       "    </tr>\n",
       "    <tr>\n",
       "      <th>12</th>\n",
       "      <td>70</td>\n",
       "    </tr>\n",
       "    <tr>\n",
       "      <th>13</th>\n",
       "      <td>117</td>\n",
       "    </tr>\n",
       "    <tr>\n",
       "      <th>14</th>\n",
       "      <td>15</td>\n",
       "    </tr>\n",
       "    <tr>\n",
       "      <th>...</th>\n",
       "      <td>...</td>\n",
       "    </tr>\n",
       "    <tr>\n",
       "      <th>204</th>\n",
       "      <td>37</td>\n",
       "    </tr>\n",
       "    <tr>\n",
       "      <th>205</th>\n",
       "      <td>50</td>\n",
       "    </tr>\n",
       "    <tr>\n",
       "      <th>206</th>\n",
       "      <td>41</td>\n",
       "    </tr>\n",
       "    <tr>\n",
       "      <th>207</th>\n",
       "      <td>47</td>\n",
       "    </tr>\n",
       "    <tr>\n",
       "      <th>208</th>\n",
       "      <td>25</td>\n",
       "    </tr>\n",
       "  </tbody>\n",
       "</table>\n",
       "<p>136 rows × 1 columns</p>\n",
       "</div>"
      ],
      "text/plain": [
       "     ERP\n",
       "10    23\n",
       "11    24\n",
       "12    70\n",
       "13   117\n",
       "14    15\n",
       "..   ...\n",
       "204   37\n",
       "205   50\n",
       "206   41\n",
       "207   47\n",
       "208   25\n",
       "\n",
       "[136 rows x 1 columns]"
      ]
     },
     "execution_count": 46,
     "metadata": {},
     "output_type": "execute_result"
    }
   ],
   "source": [
    "y1"
   ]
  },
  {
   "cell_type": "code",
   "execution_count": 47,
   "id": "ddbea98b",
   "metadata": {},
   "outputs": [
    {
     "data": {
      "text/plain": [
       "((136, 4), (136, 1))"
      ]
     },
     "execution_count": 47,
     "metadata": {},
     "output_type": "execute_result"
    }
   ],
   "source": [
    "# .shape gives the tuple of the rows and the columns \n",
    "\n",
    "X1.shape, y1.shape"
   ]
  },
  {
   "cell_type": "markdown",
   "id": "4176e6d9",
   "metadata": {},
   "source": [
    "## Visualization"
   ]
  },
  {
   "cell_type": "code",
   "execution_count": 54,
   "id": "e83fee07",
   "metadata": {},
   "outputs": [
    {
     "data": {
      "text/html": [
       "<div>\n",
       "<style scoped>\n",
       "    .dataframe tbody tr th:only-of-type {\n",
       "        vertical-align: middle;\n",
       "    }\n",
       "\n",
       "    .dataframe tbody tr th {\n",
       "        vertical-align: top;\n",
       "    }\n",
       "\n",
       "    .dataframe thead th {\n",
       "        text-align: right;\n",
       "    }\n",
       "</style>\n",
       "<table border=\"1\" class=\"dataframe\">\n",
       "  <thead>\n",
       "    <tr style=\"text-align: right;\">\n",
       "      <th></th>\n",
       "      <th>MYCT</th>\n",
       "      <th>MMIN</th>\n",
       "      <th>MMAX</th>\n",
       "      <th>CACH</th>\n",
       "      <th>CHMIN</th>\n",
       "      <th>CHMAX</th>\n",
       "      <th>PRP</th>\n",
       "      <th>ERP</th>\n",
       "    </tr>\n",
       "  </thead>\n",
       "  <tbody>\n",
       "    <tr>\n",
       "      <th>MYCT</th>\n",
       "      <td>1.000000</td>\n",
       "      <td>-0.502790</td>\n",
       "      <td>-0.466354</td>\n",
       "      <td>-0.353841</td>\n",
       "      <td>-0.275829</td>\n",
       "      <td>-0.155750</td>\n",
       "      <td>-0.339770</td>\n",
       "      <td>-0.519487</td>\n",
       "    </tr>\n",
       "    <tr>\n",
       "      <th>MMIN</th>\n",
       "      <td>-0.502790</td>\n",
       "      <td>1.000000</td>\n",
       "      <td>0.617055</td>\n",
       "      <td>0.472359</td>\n",
       "      <td>0.227380</td>\n",
       "      <td>0.038077</td>\n",
       "      <td>0.593945</td>\n",
       "      <td>0.752087</td>\n",
       "    </tr>\n",
       "    <tr>\n",
       "      <th>MMAX</th>\n",
       "      <td>-0.466354</td>\n",
       "      <td>0.617055</td>\n",
       "      <td>1.000000</td>\n",
       "      <td>0.518475</td>\n",
       "      <td>0.177646</td>\n",
       "      <td>0.126642</td>\n",
       "      <td>0.698145</td>\n",
       "      <td>0.920069</td>\n",
       "    </tr>\n",
       "    <tr>\n",
       "      <th>CACH</th>\n",
       "      <td>-0.353841</td>\n",
       "      <td>0.472359</td>\n",
       "      <td>0.518475</td>\n",
       "      <td>1.000000</td>\n",
       "      <td>0.169059</td>\n",
       "      <td>0.166631</td>\n",
       "      <td>0.690502</td>\n",
       "      <td>0.750763</td>\n",
       "    </tr>\n",
       "    <tr>\n",
       "      <th>CHMIN</th>\n",
       "      <td>-0.275829</td>\n",
       "      <td>0.227380</td>\n",
       "      <td>0.177646</td>\n",
       "      <td>0.169059</td>\n",
       "      <td>1.000000</td>\n",
       "      <td>0.491818</td>\n",
       "      <td>0.178393</td>\n",
       "      <td>0.269950</td>\n",
       "    </tr>\n",
       "    <tr>\n",
       "      <th>CHMAX</th>\n",
       "      <td>-0.155750</td>\n",
       "      <td>0.038077</td>\n",
       "      <td>0.126642</td>\n",
       "      <td>0.166631</td>\n",
       "      <td>0.491818</td>\n",
       "      <td>1.000000</td>\n",
       "      <td>0.225939</td>\n",
       "      <td>0.174087</td>\n",
       "    </tr>\n",
       "    <tr>\n",
       "      <th>PRP</th>\n",
       "      <td>-0.339770</td>\n",
       "      <td>0.593945</td>\n",
       "      <td>0.698145</td>\n",
       "      <td>0.690502</td>\n",
       "      <td>0.178393</td>\n",
       "      <td>0.225939</td>\n",
       "      <td>1.000000</td>\n",
       "      <td>0.800171</td>\n",
       "    </tr>\n",
       "    <tr>\n",
       "      <th>ERP</th>\n",
       "      <td>-0.519487</td>\n",
       "      <td>0.752087</td>\n",
       "      <td>0.920069</td>\n",
       "      <td>0.750763</td>\n",
       "      <td>0.269950</td>\n",
       "      <td>0.174087</td>\n",
       "      <td>0.800171</td>\n",
       "      <td>1.000000</td>\n",
       "    </tr>\n",
       "  </tbody>\n",
       "</table>\n",
       "</div>"
      ],
      "text/plain": [
       "           MYCT      MMIN      MMAX      CACH     CHMIN     CHMAX       PRP  \\\n",
       "MYCT   1.000000 -0.502790 -0.466354 -0.353841 -0.275829 -0.155750 -0.339770   \n",
       "MMIN  -0.502790  1.000000  0.617055  0.472359  0.227380  0.038077  0.593945   \n",
       "MMAX  -0.466354  0.617055  1.000000  0.518475  0.177646  0.126642  0.698145   \n",
       "CACH  -0.353841  0.472359  0.518475  1.000000  0.169059  0.166631  0.690502   \n",
       "CHMIN -0.275829  0.227380  0.177646  0.169059  1.000000  0.491818  0.178393   \n",
       "CHMAX -0.155750  0.038077  0.126642  0.166631  0.491818  1.000000  0.225939   \n",
       "PRP   -0.339770  0.593945  0.698145  0.690502  0.178393  0.225939  1.000000   \n",
       "ERP   -0.519487  0.752087  0.920069  0.750763  0.269950  0.174087  0.800171   \n",
       "\n",
       "            ERP  \n",
       "MYCT  -0.519487  \n",
       "MMIN   0.752087  \n",
       "MMAX   0.920069  \n",
       "CACH   0.750763  \n",
       "CHMIN  0.269950  \n",
       "CHMAX  0.174087  \n",
       "PRP    0.800171  \n",
       "ERP    1.000000  "
      ]
     },
     "execution_count": 54,
     "metadata": {},
     "output_type": "execute_result"
    }
   ],
   "source": [
    "# Correlation:\n",
    "\n",
    "data.corr()"
   ]
  },
  {
   "cell_type": "code",
   "execution_count": 55,
   "id": "a59fb891",
   "metadata": {
    "scrolled": true
   },
   "outputs": [
    {
     "data": {
      "image/png": "[encoded data removed]",
      "text/plain": [
       "<Figure size 864x432 with 2 Axes>"
      ]
     },
     "metadata": {
      "needs_background": "light"
     },
     "output_type": "display_data"
    }
   ],
   "source": [
    "# Correlation matrix visualization\n",
    "\n",
    "f, ax = plt.subplots(figsize= [12, 6])\n",
    "sns.heatmap(data.corr(), annot=True, fmt=\".2f\", cmap=\"magma\")\n",
    "ax.set_title(\"Correlation Matrix\", fontsize=20)\n",
    "plt.show()"
   ]
  },
  {
   "cell_type": "code",
   "execution_count": 56,
   "id": "8e0f7e22",
   "metadata": {},
   "outputs": [
    {
     "data": {
      "text/plain": [
       "<seaborn.axisgrid.PairGrid at 0x7fe4eab2b7c0>"
      ]
     },
     "execution_count": 56,
     "metadata": {},
     "output_type": "execute_result"
    },
    {
     "data": {
      "image/png": "[encoded data removed]",
      "text/plain": [
       "<Figure size 1440x1440 with 72 Axes>"
      ]
     },
     "metadata": {
      "needs_background": "light"
     },
     "output_type": "display_data"
    }
   ],
   "source": [
    "# we use sns.pairplot to automatically plot several different charts for pairs of features within a dataframe.\n",
    "\n",
    "sns.pairplot(data, diag_kind='kde', markers='+')"
   ]
  },
  {
   "cell_type": "code",
   "execution_count": 95,
   "id": "0bf0f5a4",
   "metadata": {},
   "outputs": [
    {
     "data": {
      "image/png": "[encoded data removed]",
      "text/plain": [
       "<Figure size 432x288 with 1 Axes>"
      ]
     },
     "metadata": {
      "needs_background": "light"
     },
     "output_type": "display_data"
    }
   ],
   "source": [
    "# Visual representation of X split by Histogram:\n",
    "\n",
    "plt.hist(X1)\n",
    "plt.show()"
   ]
  },
  {
   "cell_type": "code",
   "execution_count": 50,
   "id": "0825ced5",
   "metadata": {},
   "outputs": [
    {
     "data": {
      "image/png": "[encoded data removed]",
      "text/plain": [
       "<Figure size 432x288 with 1 Axes>"
      ]
     },
     "metadata": {
      "needs_background": "light"
     },
     "output_type": "display_data"
    }
   ],
   "source": [
    "# Visual representation of Y split by Histogram:\n",
    "\n",
    "plt.hist(y1)\n",
    "plt.show()"
   ]
  },
  {
   "cell_type": "code",
   "execution_count": 60,
   "id": "bc3f597a",
   "metadata": {
    "scrolled": false
   },
   "outputs": [
    {
     "data": {
      "text/plain": [
       "<AxesSubplot:title={'center':'Estimated Relative Performance on Machine Cycle Time'}, xlabel='MYCT', ylabel='ERP'>"
      ]
     },
     "execution_count": 60,
     "metadata": {},
     "output_type": "execute_result"
    },
    {
     "data": {
      "image/png": "[encoded data removed]",
      "text/plain": [
       "<Figure size 864x432 with 1 Axes>"
      ]
     },
     "metadata": {
      "needs_background": "light"
     },
     "output_type": "display_data"
    }
   ],
   "source": [
    "# we use bar plot to show a sequence of values which are at higher level\n",
    "\n",
    "plt.figure(figsize=[12, 6])\n",
    "plt.title('Estimated Relative Performance on Machine Cycle Time')\n",
    "plt.xticks(rotation=75)\n",
    "sns.barplot(x='MYCT', y='ERP', data=data)"
   ]
  },
  {
   "cell_type": "code",
   "execution_count": 61,
   "id": "c6981e21",
   "metadata": {
    "scrolled": false
   },
   "outputs": [
    {
     "data": {
      "text/plain": [
       "<AxesSubplot:title={'center':'Estimated Relative Performance on Minimum Main Memory'}, xlabel='MMIN', ylabel='ERP'>"
      ]
     },
     "execution_count": 61,
     "metadata": {},
     "output_type": "execute_result"
    },
    {
     "data": {
      "image/png": "[encoded data removed]",
      "text/plain": [
       "<Figure size 864x432 with 1 Axes>"
      ]
     },
     "metadata": {
      "needs_background": "light"
     },
     "output_type": "display_data"
    }
   ],
   "source": [
    "plt.figure(figsize=[12, 6])\n",
    "plt.title('Estimated Relative Performance on Minimum Main Memory')\n",
    "sns.barplot(x='MMIN', y='ERP', data=data)"
   ]
  },
  {
   "cell_type": "code",
   "execution_count": 62,
   "id": "fa3dff71",
   "metadata": {},
   "outputs": [
    {
     "data": {
      "text/plain": [
       "<AxesSubplot:title={'center':'Estimated Relative Performance on Maximum Main Memory'}, xlabel='MMAX', ylabel='ERP'>"
      ]
     },
     "execution_count": 62,
     "metadata": {},
     "output_type": "execute_result"
    },
    {
     "data": {
      "image/png": "[encoded data removed]",
      "text/plain": [
       "<Figure size 864x432 with 1 Axes>"
      ]
     },
     "metadata": {
      "needs_background": "light"
     },
     "output_type": "display_data"
    }
   ],
   "source": [
    "plt.figure(figsize=[12, 6])\n",
    "plt.title('Estimated Relative Performance on Maximum Main Memory')\n",
    "sns.barplot(x='MMAX', y='ERP', data=data)"
   ]
  },
  {
   "cell_type": "code",
   "execution_count": 63,
   "id": "afb7a68f",
   "metadata": {
    "scrolled": false
   },
   "outputs": [
    {
     "data": {
      "text/plain": [
       "<AxesSubplot:title={'center':'Estimated Relative Performance on Cache Memory'}, xlabel='CACH', ylabel='ERP'>"
      ]
     },
     "execution_count": 63,
     "metadata": {},
     "output_type": "execute_result"
    },
    {
     "data": {
      "image/png": "[encoded data removed]",
      "text/plain": [
       "<Figure size 864x432 with 1 Axes>"
      ]
     },
     "metadata": {
      "needs_background": "light"
     },
     "output_type": "display_data"
    }
   ],
   "source": [
    "plt.figure(figsize=[12, 6])\n",
    "plt.title('Estimated Relative Performance on Cache Memory')\n",
    "sns.barplot(x='CACH', y='ERP', data=data)"
   ]
  },
  {
   "cell_type": "code",
   "execution_count": 64,
   "id": "68b6d99d",
   "metadata": {},
   "outputs": [
    {
     "data": {
      "text/plain": [
       "<AxesSubplot:title={'center':'Estimated Relative Performance on Minimum Channels'}, xlabel='CHMIN', ylabel='ERP'>"
      ]
     },
     "execution_count": 64,
     "metadata": {},
     "output_type": "execute_result"
    },
    {
     "data": {
      "image/png": "[encoded data removed]",
      "text/plain": [
       "<Figure size 864x432 with 1 Axes>"
      ]
     },
     "metadata": {
      "needs_background": "light"
     },
     "output_type": "display_data"
    }
   ],
   "source": [
    "plt.figure(figsize=[12, 6])\n",
    "plt.title('Estimated Relative Performance on Minimum Channels')\n",
    "sns.barplot(x='CHMIN', y='ERP', data=data)"
   ]
  },
  {
   "cell_type": "code",
   "execution_count": 65,
   "id": "e7190add",
   "metadata": {
    "scrolled": false
   },
   "outputs": [
    {
     "data": {
      "text/plain": [
       "<AxesSubplot:title={'center':'Estimated Relative Performance on Maximum Channels'}, xlabel='CHMAX', ylabel='ERP'>"
      ]
     },
     "execution_count": 65,
     "metadata": {},
     "output_type": "execute_result"
    },
    {
     "data": {
      "image/png": "[encoded data removed]",
      "text/plain": [
       "<Figure size 864x432 with 1 Axes>"
      ]
     },
     "metadata": {
      "needs_background": "light"
     },
     "output_type": "display_data"
    }
   ],
   "source": [
    "plt.figure(figsize=[12, 6])\n",
    "plt.title('Estimated Relative Performance on Maximum Channels')\n",
    "sns.barplot(x='CHMAX', y='ERP', data=data)"
   ]
  },
  {
   "cell_type": "code",
   "execution_count": 67,
   "id": "427fbef1",
   "metadata": {},
   "outputs": [
    {
     "data": {
      "text/plain": [
       "<AxesSubplot:title={'center':'Estimated Relative Performance on Published Relative Performance'}, xlabel='PRP', ylabel='ERP'>"
      ]
     },
     "execution_count": 67,
     "metadata": {},
     "output_type": "execute_result"
    },
    {
     "data": {
      "image/png": "[encoded data removed]",
      "text/plain": [
       "<Figure size 864x432 with 1 Axes>"
      ]
     },
     "metadata": {
      "needs_background": "light"
     },
     "output_type": "display_data"
    }
   ],
   "source": [
    "plt.figure(figsize=[12, 6])\n",
    "plt.xticks(rotation=75)\n",
    "plt.title('Estimated Relative Performance on Published Relative Performance')\n",
    "sns.barplot(x='PRP', y='ERP', data=data)"
   ]
  },
  {
   "cell_type": "code",
   "execution_count": 68,
   "id": "62d3968b",
   "metadata": {},
   "outputs": [
    {
     "data": {
      "text/plain": [
       "<AxesSubplot:title={'center':'Skewness of Estimated Relative Performance'}, xlabel='ERP', ylabel='Density'>"
      ]
     },
     "execution_count": 68,
     "metadata": {},
     "output_type": "execute_result"
    },
    {
     "data": {
      "image/png": "[encoded data removed]",
      "text/plain": [
       "<Figure size 432x288 with 1 Axes>"
      ]
     },
     "metadata": {
      "needs_background": "light"
     },
     "output_type": "display_data"
    }
   ],
   "source": [
    "#Skewness\n",
    "#feature- dependent variable\n",
    "\n",
    "plt.title('Skewness of Estimated Relative Performance')\n",
    "sns.distplot(data['ERP'], fit=norm)"
   ]
  },
  {
   "cell_type": "markdown",
   "id": "d6e6cde8",
   "metadata": {},
   "source": [
    "### train and test split method"
   ]
  },
  {
   "cell_type": "code",
   "execution_count": 48,
   "id": "9ec94098",
   "metadata": {},
   "outputs": [],
   "source": [
    "from sklearn.model_selection import train_test_split\n",
    "\n",
    "X1_train, X1_test, y1_train, y1_test = train_test_split(X1, y1, test_size=0.2, random_state=12)"
   ]
  },
  {
   "cell_type": "markdown",
   "id": "1294b5e7",
   "metadata": {},
   "source": [
    "## Apply the model"
   ]
  },
  {
   "cell_type": "code",
   "execution_count": 49,
   "id": "12362db3",
   "metadata": {},
   "outputs": [
    {
     "data": {
      "text/plain": [
       "LinearRegression()"
      ]
     },
     "execution_count": 49,
     "metadata": {},
     "output_type": "execute_result"
    }
   ],
   "source": [
    "# Linear Regression\n",
    "\n",
    "from sklearn import linear_model\n",
    "model = linear_model.LinearRegression()\n",
    "\n",
    "model.fit(X1_train, y1_train)"
   ]
  },
  {
   "cell_type": "markdown",
   "id": "f62d3cab",
   "metadata": {},
   "source": [
    "#### Now we have trained the model based on X and y\n",
    "#### So,We are going to predict the test data based upon the trained data"
   ]
  },
  {
   "cell_type": "code",
   "execution_count": 50,
   "id": "3e6771bc",
   "metadata": {},
   "outputs": [],
   "source": [
    "y1_pred = model.predict(X1_test)"
   ]
  },
  {
   "cell_type": "code",
   "execution_count": 51,
   "id": "f0b4d365",
   "metadata": {
    "scrolled": true
   },
   "outputs": [
    {
     "data": {
      "text/plain": [
       "array([[42.9347309 ],\n",
       "       [45.89143256],\n",
       "       [81.78550248],\n",
       "       [27.11011813],\n",
       "       [47.10604829],\n",
       "       [23.71124792],\n",
       "       [66.60547887],\n",
       "       [18.38848315],\n",
       "       [76.3599611 ],\n",
       "       [51.96725038],\n",
       "       [73.55135076],\n",
       "       [53.13615573],\n",
       "       [49.82598056],\n",
       "       [59.72238143],\n",
       "       [23.43607619],\n",
       "       [44.43422104],\n",
       "       [29.81435878],\n",
       "       [74.34971853],\n",
       "       [14.79218701],\n",
       "       [21.03755576],\n",
       "       [48.64854229],\n",
       "       [18.66791187],\n",
       "       [78.426876  ],\n",
       "       [19.69240723],\n",
       "       [42.84757647],\n",
       "       [20.01846378],\n",
       "       [34.10142266],\n",
       "       [68.81218521]])"
      ]
     },
     "execution_count": 51,
     "metadata": {},
     "output_type": "execute_result"
    }
   ],
   "source": [
    "y1_pred "
   ]
  },
  {
   "cell_type": "code",
   "execution_count": 52,
   "id": "f4c854a5",
   "metadata": {},
   "outputs": [
    {
     "name": "stdout",
     "output_type": "stream",
     "text": [
      "[[157.53299752]]\n"
     ]
    }
   ],
   "source": [
    "# prediction with new value  \n",
    "\n",
    "print(model.predict([[256,6000,256,198]]))     # 199_ans"
   ]
  },
  {
   "cell_type": "markdown",
   "id": "888601b3",
   "metadata": {},
   "source": [
    "### R2 Score"
   ]
  },
  {
   "cell_type": "code",
   "execution_count": 53,
   "id": "707778a8",
   "metadata": {
    "scrolled": true
   },
   "outputs": [
    {
     "name": "stdout",
     "output_type": "stream",
     "text": [
      "R2 Score 0.962096135821448\n"
     ]
    }
   ],
   "source": [
    "from sklearn.metrics import r2_score\n",
    "\n",
    "print(\"R2 Score\",r2_score(y1_test, y1_pred))"
   ]
  },
  {
   "cell_type": "markdown",
   "id": "06211420",
   "metadata": {},
   "source": [
    "## Other Statistics (Evaluation Metrics) "
   ]
  },
  {
   "cell_type": "markdown",
   "id": "65d1bac1",
   "metadata": {},
   "source": [
    "### Explained Variance Score"
   ]
  },
  {
   "cell_type": "code",
   "execution_count": 54,
   "id": "35cb4b43",
   "metadata": {},
   "outputs": [
    {
     "name": "stdout",
     "output_type": "stream",
     "text": [
      "Explained Variance Score 0.9651520639286648\n"
     ]
    }
   ],
   "source": [
    "from sklearn.metrics import explained_variance_score\n",
    "\n",
    "print(\"Explained Variance Score\",explained_variance_score(y1_test, y1_pred))"
   ]
  },
  {
   "cell_type": "markdown",
   "id": "ad45583d",
   "metadata": {},
   "source": [
    "### Mean Absolute Error"
   ]
  },
  {
   "cell_type": "code",
   "execution_count": 55,
   "id": "210543b8",
   "metadata": {},
   "outputs": [
    {
     "name": "stdout",
     "output_type": "stream",
     "text": [
      "Mean Absolute Error 3.3988802182520517\n"
     ]
    }
   ],
   "source": [
    "from sklearn.metrics import mean_absolute_error\n",
    "\n",
    "print(\"Mean Absolute Error\",mean_absolute_error(y1_test, y1_pred))"
   ]
  },
  {
   "cell_type": "markdown",
   "id": "6b4bbe1f",
   "metadata": {},
   "source": [
    "### Mean Squared Error"
   ]
  },
  {
   "cell_type": "code",
   "execution_count": 56,
   "id": "2dac1a5e",
   "metadata": {},
   "outputs": [
    {
     "name": "stdout",
     "output_type": "stream",
     "text": [
      "Mean Squared Error 15.376398697453283\n"
     ]
    }
   ],
   "source": [
    "from sklearn.metrics import mean_squared_error\n",
    "\n",
    "print(\"Mean Squared Error\",mean_squared_error(y1_test, y1_pred))"
   ]
  },
  {
   "cell_type": "markdown",
   "id": "dd82e8fe",
   "metadata": {},
   "source": [
    "### Mean Squared Log Error"
   ]
  },
  {
   "cell_type": "code",
   "execution_count": 57,
   "id": "44a2deb5",
   "metadata": {},
   "outputs": [
    {
     "name": "stdout",
     "output_type": "stream",
     "text": [
      "Mean Squared Log Error 0.010287123103158552\n"
     ]
    }
   ],
   "source": [
    "from sklearn.metrics import mean_squared_log_error\n",
    "\n",
    "print(\"Mean Squared Log Error\",mean_squared_log_error(y1_test, y1_pred))"
   ]
  },
  {
   "cell_type": "markdown",
   "id": "0d8f777c",
   "metadata": {},
   "source": [
    "### Median Absolute Error"
   ]
  },
  {
   "cell_type": "code",
   "execution_count": 58,
   "id": "8372bad3",
   "metadata": {},
   "outputs": [
    {
     "name": "stdout",
     "output_type": "stream",
     "text": [
      "Median Absolute Error 3.383154587703702\n"
     ]
    }
   ],
   "source": [
    "from sklearn.metrics import median_absolute_error\n",
    "\n",
    "print(\"Median Absolute Error\",median_absolute_error(y1_test, y1_pred))"
   ]
  },
  {
   "cell_type": "markdown",
   "id": "4b9ec565",
   "metadata": {},
   "source": [
    "## Accuracy:"
   ]
  },
  {
   "cell_type": "markdown",
   "id": "fc9222bd",
   "metadata": {},
   "source": [
    "#### This method is called train and test split method. Here we can find the accuracy of the data based upon the model that we are training. In the below cell we have used linear regression."
   ]
  },
  {
   "cell_type": "markdown",
   "id": "c2c2f8af",
   "metadata": {},
   "source": [
    "## Linear Regression:"
   ]
  },
  {
   "cell_type": "code",
   "execution_count": 102,
   "id": "77209775",
   "metadata": {},
   "outputs": [
    {
     "name": "stdout",
     "output_type": "stream",
     "text": [
      "R2 Score 0.962096135821448\n"
     ]
    }
   ],
   "source": [
    "from sklearn.metrics import r2_score \n",
    "from sklearn.model_selection import train_test_split\n",
    "X1_train, X1_test, y1_train, y1_test = train_test_split(X1, y1, test_size=0.2, random_state=12)\n",
    "new_model = linear_model.LinearRegression()\n",
    "new_model.fit(X1_train, y1_train) \n",
    "y1_pred = new_model.predict(X1_test)\n",
    "print(\"R2 Score\",r2_score(y1_test, y1_pred)) "
   ]
  },
  {
   "cell_type": "markdown",
   "id": "2ec53814",
   "metadata": {},
   "source": [
    "#### Trying with various regression algorithms and to conclude one best fit algorithm"
   ]
  },
  {
   "cell_type": "markdown",
   "id": "d11953ce",
   "metadata": {},
   "source": [
    "## Ridge Algorithm"
   ]
  },
  {
   "cell_type": "code",
   "execution_count": 103,
   "id": "921d54df",
   "metadata": {},
   "outputs": [
    {
     "name": "stdout",
     "output_type": "stream",
     "text": [
      "R2 Score 0.9620946051822835\n"
     ]
    }
   ],
   "source": [
    "from sklearn.linear_model import Ridge\n",
    "\n",
    "model_RD = Ridge()\n",
    "model_RD.fit(X1_train, y1_train)\n",
    "y1_pred = model_RD.predict(X1_test)\n",
    "print(\"R2 Score\",r2_score(y1_test,y1_pred))"
   ]
  },
  {
   "cell_type": "markdown",
   "id": "b8f810bf",
   "metadata": {},
   "source": [
    "## Lasso Algorithm"
   ]
  },
  {
   "cell_type": "code",
   "execution_count": 104,
   "id": "b586b0eb",
   "metadata": {},
   "outputs": [
    {
     "name": "stdout",
     "output_type": "stream",
     "text": [
      "R2 Score 0.9618338558591231\n"
     ]
    }
   ],
   "source": [
    "from sklearn.linear_model import Lasso \n",
    "\n",
    "model_LS = Lasso()\n",
    "model_LS.fit(X1_train, y1_train)\n",
    "y1_pred = model_LS.predict(X1_test)\n",
    "print(\"R2 Score\",r2_score(y1_test,y1_pred))"
   ]
  },
  {
   "cell_type": "markdown",
   "id": "eb85aa83",
   "metadata": {},
   "source": [
    "## ElasticNet Algorithm"
   ]
  },
  {
   "cell_type": "code",
   "execution_count": 105,
   "id": "e0e3222f",
   "metadata": {},
   "outputs": [
    {
     "name": "stdout",
     "output_type": "stream",
     "text": [
      "R2 Score 0.9618834026362695\n"
     ]
    }
   ],
   "source": [
    "from sklearn.linear_model import ElasticNet \n",
    "\n",
    "model_EN = ElasticNet()\n",
    "model_EN.fit(X1_train, y1_train)\n",
    "y1_pred = model_EN.predict(X1_test)\n",
    "print(\"R2 Score\",r2_score(y1_test,y1_pred))"
   ]
  },
  {
   "cell_type": "markdown",
   "id": "2ba50fcf",
   "metadata": {},
   "source": [
    "## Support Vector Algorithm"
   ]
  },
  {
   "cell_type": "code",
   "execution_count": 106,
   "id": "efbcaabb",
   "metadata": {},
   "outputs": [
    {
     "name": "stdout",
     "output_type": "stream",
     "text": [
      "R2 Score 0.9333898764813786\n"
     ]
    }
   ],
   "source": [
    "from sklearn import svm \n",
    "\n",
    "model = svm.SVR(kernel='rbf', C=1000)\n",
    "model.fit(X1_train, y1_train) \n",
    "y1_pred = model.predict(X1_test) \n",
    "print(\"R2 Score\",r2_score(y1_test,y1_pred))"
   ]
  },
  {
   "cell_type": "markdown",
   "id": "16975b92",
   "metadata": {},
   "source": [
    "## Random Forest Algorithm"
   ]
  },
  {
   "cell_type": "code",
   "execution_count": 107,
   "id": "a5f0e224",
   "metadata": {},
   "outputs": [
    {
     "name": "stdout",
     "output_type": "stream",
     "text": [
      "R2 Score 0.9608311348454018\n"
     ]
    }
   ],
   "source": [
    "from sklearn.ensemble import RandomForestRegressor\n",
    "\n",
    "model_RF = RandomForestRegressor(max_depth=5, random_state=0)\n",
    "model_RF.fit(X1_train, y1_train)\n",
    "y1_pred = model_RF.predict(X1_test)\n",
    "\n",
    "print(\"R2 Score\",r2_score(y1_test, y1_pred))"
   ]
  },
  {
   "cell_type": "markdown",
   "id": "c5eb47d1",
   "metadata": {},
   "source": [
    "## Gradient Booster Algorithm"
   ]
  },
  {
   "cell_type": "code",
   "execution_count": 108,
   "id": "dc4c9c8f",
   "metadata": {},
   "outputs": [
    {
     "name": "stdout",
     "output_type": "stream",
     "text": [
      "R2 Score 0.979126446900568\n"
     ]
    }
   ],
   "source": [
    "from sklearn.ensemble import GradientBoostingRegressor\n",
    "\n",
    "model = GradientBoostingRegressor()\n",
    "model.fit(X1_train, y1_train)\n",
    "y1_pred = model.predict(X1_test)\n",
    "\n",
    "print(\"R2 Score\",r2_score(y1_test, y1_pred))"
   ]
  },
  {
   "cell_type": "markdown",
   "id": "5aae9e64",
   "metadata": {},
   "source": [
    "# Conclusion"
   ]
  },
  {
   "cell_type": "markdown",
   "id": "91a9cc03",
   "metadata": {},
   "source": [
    "## For this Air Foil dataset Gradient Booster Algorithm is the best fit algorithm by applying feature selection, as it gives the maximum accuracy of 98%"
   ]
  }
 ],
 "metadata": {
  "kernelspec": {
   "display_name": "Python 3",
   "language": "python",
   "name": "python3"
  },
  "language_info": {
   "codemirror_mode": {
    "name": "ipython",
    "version": 3
   },
   "file_extension": ".py",
   "mimetype": "text/x-python",
   "name": "python",
   "nbconvert_exporter": "python",
   "pygments_lexer": "ipython3",
   "version": "3.8.8"
  }
 },
 "nbformat": 4,
 "nbformat_minor": 5
}
