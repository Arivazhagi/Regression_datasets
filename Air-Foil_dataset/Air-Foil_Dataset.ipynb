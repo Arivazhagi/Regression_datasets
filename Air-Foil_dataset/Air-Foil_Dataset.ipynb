{
 "cells": [
  {
   "cell_type": "markdown",
   "id": "c7811fde",
   "metadata": {},
   "source": [
    "# Air_DataSet"
   ]
  },
  {
   "cell_type": "markdown",
   "id": "46ced749",
   "metadata": {},
   "source": [
    "### Importing packages"
   ]
  },
  {
   "cell_type": "code",
   "execution_count": 1,
   "id": "f9f6906c",
   "metadata": {},
   "outputs": [],
   "source": [
    "import numpy as np\n",
    "import pandas as pd\n",
    "import matplotlib.pyplot as plt\n",
    "import seaborn as sns\n",
    "import warnings\n",
    "warnings.filterwarnings('ignore')\n",
    "from sklearn.impute import SimpleImputer\n",
    "from scipy import stats\n",
    "from scipy.stats import norm, skew\n",
    "from sklearn.model_selection import train_test_split\n",
    "from sklearn.linear_model import LinearRegression\n"
   ]
  },
  {
   "cell_type": "markdown",
   "id": "6541903d",
   "metadata": {},
   "source": [
    "### Load the dataset"
   ]
  },
  {
   "cell_type": "code",
   "execution_count": 2,
   "id": "ded3c4e3",
   "metadata": {},
   "outputs": [],
   "source": [
    "# Now we use read.csv() function from pandas to read the data from the csv and stores in the form of a data frame\n",
    "\n",
    "df = pd.read_csv(\"air.csv\")"
   ]
  },
  {
   "cell_type": "markdown",
   "id": "54e77cab",
   "metadata": {},
   "source": [
    "### View the data"
   ]
  },
  {
   "cell_type": "code",
   "execution_count": 3,
   "id": "e99075b3",
   "metadata": {},
   "outputs": [
    {
     "data": {
      "text/html": [
       "<div>\n",
       "<style scoped>\n",
       "    .dataframe tbody tr th:only-of-type {\n",
       "        vertical-align: middle;\n",
       "    }\n",
       "\n",
       "    .dataframe tbody tr th {\n",
       "        vertical-align: top;\n",
       "    }\n",
       "\n",
       "    .dataframe thead th {\n",
       "        text-align: right;\n",
       "    }\n",
       "</style>\n",
       "<table border=\"1\" class=\"dataframe\">\n",
       "  <thead>\n",
       "    <tr style=\"text-align: right;\">\n",
       "      <th></th>\n",
       "      <th>Frequency</th>\n",
       "      <th>Angle of Attack</th>\n",
       "      <th>chord_length</th>\n",
       "      <th>Free_stream</th>\n",
       "      <th>Suction Side</th>\n",
       "      <th>Scaled Sound</th>\n",
       "    </tr>\n",
       "  </thead>\n",
       "  <tbody>\n",
       "    <tr>\n",
       "      <th>0</th>\n",
       "      <td>800</td>\n",
       "      <td>0.0</td>\n",
       "      <td>0.3048</td>\n",
       "      <td>71.3</td>\n",
       "      <td>0.002663</td>\n",
       "      <td>126.201</td>\n",
       "    </tr>\n",
       "    <tr>\n",
       "      <th>1</th>\n",
       "      <td>1000</td>\n",
       "      <td>0.0</td>\n",
       "      <td>0.3048</td>\n",
       "      <td>71.3</td>\n",
       "      <td>0.002663</td>\n",
       "      <td>125.201</td>\n",
       "    </tr>\n",
       "    <tr>\n",
       "      <th>2</th>\n",
       "      <td>1250</td>\n",
       "      <td>0.0</td>\n",
       "      <td>0.3048</td>\n",
       "      <td>71.3</td>\n",
       "      <td>0.002663</td>\n",
       "      <td>125.951</td>\n",
       "    </tr>\n",
       "    <tr>\n",
       "      <th>3</th>\n",
       "      <td>1600</td>\n",
       "      <td>0.0</td>\n",
       "      <td>0.3048</td>\n",
       "      <td>71.3</td>\n",
       "      <td>0.002663</td>\n",
       "      <td>127.591</td>\n",
       "    </tr>\n",
       "    <tr>\n",
       "      <th>4</th>\n",
       "      <td>2000</td>\n",
       "      <td>0.0</td>\n",
       "      <td>0.3048</td>\n",
       "      <td>71.3</td>\n",
       "      <td>0.002663</td>\n",
       "      <td>127.461</td>\n",
       "    </tr>\n",
       "    <tr>\n",
       "      <th>...</th>\n",
       "      <td>...</td>\n",
       "      <td>...</td>\n",
       "      <td>...</td>\n",
       "      <td>...</td>\n",
       "      <td>...</td>\n",
       "      <td>...</td>\n",
       "    </tr>\n",
       "    <tr>\n",
       "      <th>1499</th>\n",
       "      <td>2500</td>\n",
       "      <td>15.6</td>\n",
       "      <td>0.1016</td>\n",
       "      <td>39.6</td>\n",
       "      <td>0.052849</td>\n",
       "      <td>110.264</td>\n",
       "    </tr>\n",
       "    <tr>\n",
       "      <th>1500</th>\n",
       "      <td>3150</td>\n",
       "      <td>15.6</td>\n",
       "      <td>0.1016</td>\n",
       "      <td>39.6</td>\n",
       "      <td>0.052849</td>\n",
       "      <td>109.254</td>\n",
       "    </tr>\n",
       "    <tr>\n",
       "      <th>1501</th>\n",
       "      <td>4000</td>\n",
       "      <td>15.6</td>\n",
       "      <td>0.1016</td>\n",
       "      <td>39.6</td>\n",
       "      <td>0.052849</td>\n",
       "      <td>106.604</td>\n",
       "    </tr>\n",
       "    <tr>\n",
       "      <th>1502</th>\n",
       "      <td>5000</td>\n",
       "      <td>15.6</td>\n",
       "      <td>0.1016</td>\n",
       "      <td>39.6</td>\n",
       "      <td>0.052849</td>\n",
       "      <td>106.224</td>\n",
       "    </tr>\n",
       "    <tr>\n",
       "      <th>1503</th>\n",
       "      <td>6300</td>\n",
       "      <td>15.6</td>\n",
       "      <td>0.1016</td>\n",
       "      <td>39.6</td>\n",
       "      <td>0.052849</td>\n",
       "      <td>104.204</td>\n",
       "    </tr>\n",
       "  </tbody>\n",
       "</table>\n",
       "<p>1504 rows × 6 columns</p>\n",
       "</div>"
      ],
      "text/plain": [
       "      Frequency  Angle of Attack  chord_length  Free_stream  Suction Side  \\\n",
       "0           800              0.0        0.3048         71.3      0.002663   \n",
       "1          1000              0.0        0.3048         71.3      0.002663   \n",
       "2          1250              0.0        0.3048         71.3      0.002663   \n",
       "3          1600              0.0        0.3048         71.3      0.002663   \n",
       "4          2000              0.0        0.3048         71.3      0.002663   \n",
       "...         ...              ...           ...          ...           ...   \n",
       "1499       2500             15.6        0.1016         39.6      0.052849   \n",
       "1500       3150             15.6        0.1016         39.6      0.052849   \n",
       "1501       4000             15.6        0.1016         39.6      0.052849   \n",
       "1502       5000             15.6        0.1016         39.6      0.052849   \n",
       "1503       6300             15.6        0.1016         39.6      0.052849   \n",
       "\n",
       "      Scaled Sound  \n",
       "0          126.201  \n",
       "1          125.201  \n",
       "2          125.951  \n",
       "3          127.591  \n",
       "4          127.461  \n",
       "...            ...  \n",
       "1499       110.264  \n",
       "1500       109.254  \n",
       "1501       106.604  \n",
       "1502       106.224  \n",
       "1503       104.204  \n",
       "\n",
       "[1504 rows x 6 columns]"
      ]
     },
     "execution_count": 3,
     "metadata": {},
     "output_type": "execute_result"
    }
   ],
   "source": [
    "df"
   ]
  },
  {
   "cell_type": "markdown",
   "id": "904ab365",
   "metadata": {},
   "source": [
    "### Deep copy and Shallow copy"
   ]
  },
  {
   "cell_type": "code",
   "execution_count": 4,
   "id": "6e2d9fdd",
   "metadata": {},
   "outputs": [],
   "source": [
    "data = df    # will be using data further by creating a copy from df so that the original is intact"
   ]
  },
  {
   "cell_type": "code",
   "execution_count": 5,
   "id": "13e00e2b",
   "metadata": {},
   "outputs": [
    {
     "data": {
      "text/html": [
       "<div>\n",
       "<style scoped>\n",
       "    .dataframe tbody tr th:only-of-type {\n",
       "        vertical-align: middle;\n",
       "    }\n",
       "\n",
       "    .dataframe tbody tr th {\n",
       "        vertical-align: top;\n",
       "    }\n",
       "\n",
       "    .dataframe thead th {\n",
       "        text-align: right;\n",
       "    }\n",
       "</style>\n",
       "<table border=\"1\" class=\"dataframe\">\n",
       "  <thead>\n",
       "    <tr style=\"text-align: right;\">\n",
       "      <th></th>\n",
       "      <th>Frequency</th>\n",
       "      <th>Angle of Attack</th>\n",
       "      <th>chord_length</th>\n",
       "      <th>Free_stream</th>\n",
       "      <th>Suction Side</th>\n",
       "      <th>Scaled Sound</th>\n",
       "    </tr>\n",
       "  </thead>\n",
       "  <tbody>\n",
       "    <tr>\n",
       "      <th>0</th>\n",
       "      <td>800</td>\n",
       "      <td>0.0</td>\n",
       "      <td>0.3048</td>\n",
       "      <td>71.3</td>\n",
       "      <td>0.002663</td>\n",
       "      <td>126.201</td>\n",
       "    </tr>\n",
       "    <tr>\n",
       "      <th>1</th>\n",
       "      <td>1000</td>\n",
       "      <td>0.0</td>\n",
       "      <td>0.3048</td>\n",
       "      <td>71.3</td>\n",
       "      <td>0.002663</td>\n",
       "      <td>125.201</td>\n",
       "    </tr>\n",
       "    <tr>\n",
       "      <th>2</th>\n",
       "      <td>1250</td>\n",
       "      <td>0.0</td>\n",
       "      <td>0.3048</td>\n",
       "      <td>71.3</td>\n",
       "      <td>0.002663</td>\n",
       "      <td>125.951</td>\n",
       "    </tr>\n",
       "    <tr>\n",
       "      <th>3</th>\n",
       "      <td>1600</td>\n",
       "      <td>0.0</td>\n",
       "      <td>0.3048</td>\n",
       "      <td>71.3</td>\n",
       "      <td>0.002663</td>\n",
       "      <td>127.591</td>\n",
       "    </tr>\n",
       "    <tr>\n",
       "      <th>4</th>\n",
       "      <td>2000</td>\n",
       "      <td>0.0</td>\n",
       "      <td>0.3048</td>\n",
       "      <td>71.3</td>\n",
       "      <td>0.002663</td>\n",
       "      <td>127.461</td>\n",
       "    </tr>\n",
       "    <tr>\n",
       "      <th>...</th>\n",
       "      <td>...</td>\n",
       "      <td>...</td>\n",
       "      <td>...</td>\n",
       "      <td>...</td>\n",
       "      <td>...</td>\n",
       "      <td>...</td>\n",
       "    </tr>\n",
       "    <tr>\n",
       "      <th>1499</th>\n",
       "      <td>2500</td>\n",
       "      <td>15.6</td>\n",
       "      <td>0.1016</td>\n",
       "      <td>39.6</td>\n",
       "      <td>0.052849</td>\n",
       "      <td>110.264</td>\n",
       "    </tr>\n",
       "    <tr>\n",
       "      <th>1500</th>\n",
       "      <td>3150</td>\n",
       "      <td>15.6</td>\n",
       "      <td>0.1016</td>\n",
       "      <td>39.6</td>\n",
       "      <td>0.052849</td>\n",
       "      <td>109.254</td>\n",
       "    </tr>\n",
       "    <tr>\n",
       "      <th>1501</th>\n",
       "      <td>4000</td>\n",
       "      <td>15.6</td>\n",
       "      <td>0.1016</td>\n",
       "      <td>39.6</td>\n",
       "      <td>0.052849</td>\n",
       "      <td>106.604</td>\n",
       "    </tr>\n",
       "    <tr>\n",
       "      <th>1502</th>\n",
       "      <td>5000</td>\n",
       "      <td>15.6</td>\n",
       "      <td>0.1016</td>\n",
       "      <td>39.6</td>\n",
       "      <td>0.052849</td>\n",
       "      <td>106.224</td>\n",
       "    </tr>\n",
       "    <tr>\n",
       "      <th>1503</th>\n",
       "      <td>6300</td>\n",
       "      <td>15.6</td>\n",
       "      <td>0.1016</td>\n",
       "      <td>39.6</td>\n",
       "      <td>0.052849</td>\n",
       "      <td>104.204</td>\n",
       "    </tr>\n",
       "  </tbody>\n",
       "</table>\n",
       "<p>1504 rows × 6 columns</p>\n",
       "</div>"
      ],
      "text/plain": [
       "      Frequency  Angle of Attack  chord_length  Free_stream  Suction Side  \\\n",
       "0           800              0.0        0.3048         71.3      0.002663   \n",
       "1          1000              0.0        0.3048         71.3      0.002663   \n",
       "2          1250              0.0        0.3048         71.3      0.002663   \n",
       "3          1600              0.0        0.3048         71.3      0.002663   \n",
       "4          2000              0.0        0.3048         71.3      0.002663   \n",
       "...         ...              ...           ...          ...           ...   \n",
       "1499       2500             15.6        0.1016         39.6      0.052849   \n",
       "1500       3150             15.6        0.1016         39.6      0.052849   \n",
       "1501       4000             15.6        0.1016         39.6      0.052849   \n",
       "1502       5000             15.6        0.1016         39.6      0.052849   \n",
       "1503       6300             15.6        0.1016         39.6      0.052849   \n",
       "\n",
       "      Scaled Sound  \n",
       "0          126.201  \n",
       "1          125.201  \n",
       "2          125.951  \n",
       "3          127.591  \n",
       "4          127.461  \n",
       "...            ...  \n",
       "1499       110.264  \n",
       "1500       109.254  \n",
       "1501       106.604  \n",
       "1502       106.224  \n",
       "1503       104.204  \n",
       "\n",
       "[1504 rows x 6 columns]"
      ]
     },
     "execution_count": 5,
     "metadata": {},
     "output_type": "execute_result"
    }
   ],
   "source": [
    "# View the copied dataframe\n",
    "data"
   ]
  },
  {
   "cell_type": "markdown",
   "id": "32778d64",
   "metadata": {},
   "source": [
    "### Exploratory Data Analysis"
   ]
  },
  {
   "cell_type": "code",
   "execution_count": 6,
   "id": "819e8955",
   "metadata": {},
   "outputs": [
    {
     "data": {
      "text/html": [
       "<div>\n",
       "<style scoped>\n",
       "    .dataframe tbody tr th:only-of-type {\n",
       "        vertical-align: middle;\n",
       "    }\n",
       "\n",
       "    .dataframe tbody tr th {\n",
       "        vertical-align: top;\n",
       "    }\n",
       "\n",
       "    .dataframe thead th {\n",
       "        text-align: right;\n",
       "    }\n",
       "</style>\n",
       "<table border=\"1\" class=\"dataframe\">\n",
       "  <thead>\n",
       "    <tr style=\"text-align: right;\">\n",
       "      <th></th>\n",
       "      <th>Frequency</th>\n",
       "      <th>Angle of Attack</th>\n",
       "      <th>chord_length</th>\n",
       "      <th>Free_stream</th>\n",
       "      <th>Suction Side</th>\n",
       "      <th>Scaled Sound</th>\n",
       "    </tr>\n",
       "  </thead>\n",
       "  <tbody>\n",
       "    <tr>\n",
       "      <th>0</th>\n",
       "      <td>800</td>\n",
       "      <td>0.0</td>\n",
       "      <td>0.3048</td>\n",
       "      <td>71.3</td>\n",
       "      <td>0.002663</td>\n",
       "      <td>126.201</td>\n",
       "    </tr>\n",
       "    <tr>\n",
       "      <th>1</th>\n",
       "      <td>1000</td>\n",
       "      <td>0.0</td>\n",
       "      <td>0.3048</td>\n",
       "      <td>71.3</td>\n",
       "      <td>0.002663</td>\n",
       "      <td>125.201</td>\n",
       "    </tr>\n",
       "    <tr>\n",
       "      <th>2</th>\n",
       "      <td>1250</td>\n",
       "      <td>0.0</td>\n",
       "      <td>0.3048</td>\n",
       "      <td>71.3</td>\n",
       "      <td>0.002663</td>\n",
       "      <td>125.951</td>\n",
       "    </tr>\n",
       "    <tr>\n",
       "      <th>3</th>\n",
       "      <td>1600</td>\n",
       "      <td>0.0</td>\n",
       "      <td>0.3048</td>\n",
       "      <td>71.3</td>\n",
       "      <td>0.002663</td>\n",
       "      <td>127.591</td>\n",
       "    </tr>\n",
       "    <tr>\n",
       "      <th>4</th>\n",
       "      <td>2000</td>\n",
       "      <td>0.0</td>\n",
       "      <td>0.3048</td>\n",
       "      <td>71.3</td>\n",
       "      <td>0.002663</td>\n",
       "      <td>127.461</td>\n",
       "    </tr>\n",
       "  </tbody>\n",
       "</table>\n",
       "</div>"
      ],
      "text/plain": [
       "   Frequency  Angle of Attack  chord_length  Free_stream  Suction Side  \\\n",
       "0        800              0.0        0.3048         71.3      0.002663   \n",
       "1       1000              0.0        0.3048         71.3      0.002663   \n",
       "2       1250              0.0        0.3048         71.3      0.002663   \n",
       "3       1600              0.0        0.3048         71.3      0.002663   \n",
       "4       2000              0.0        0.3048         71.3      0.002663   \n",
       "\n",
       "   Scaled Sound  \n",
       "0       126.201  \n",
       "1       125.201  \n",
       "2       125.951  \n",
       "3       127.591  \n",
       "4       127.461  "
      ]
     },
     "execution_count": 6,
     "metadata": {},
     "output_type": "execute_result"
    }
   ],
   "source": [
    "# using head function we can retreive the top data\n",
    "\n",
    "data.head()"
   ]
  },
  {
   "cell_type": "code",
   "execution_count": 8,
   "id": "6f48cb95",
   "metadata": {},
   "outputs": [
    {
     "data": {
      "text/html": [
       "<div>\n",
       "<style scoped>\n",
       "    .dataframe tbody tr th:only-of-type {\n",
       "        vertical-align: middle;\n",
       "    }\n",
       "\n",
       "    .dataframe tbody tr th {\n",
       "        vertical-align: top;\n",
       "    }\n",
       "\n",
       "    .dataframe thead th {\n",
       "        text-align: right;\n",
       "    }\n",
       "</style>\n",
       "<table border=\"1\" class=\"dataframe\">\n",
       "  <thead>\n",
       "    <tr style=\"text-align: right;\">\n",
       "      <th></th>\n",
       "      <th>Frequency</th>\n",
       "      <th>Angle of Attack</th>\n",
       "      <th>chord_length</th>\n",
       "      <th>Free_stream</th>\n",
       "      <th>Suction Side</th>\n",
       "      <th>Scaled Sound</th>\n",
       "    </tr>\n",
       "  </thead>\n",
       "  <tbody>\n",
       "    <tr>\n",
       "      <th>1499</th>\n",
       "      <td>2500</td>\n",
       "      <td>15.6</td>\n",
       "      <td>0.1016</td>\n",
       "      <td>39.6</td>\n",
       "      <td>0.052849</td>\n",
       "      <td>110.264</td>\n",
       "    </tr>\n",
       "    <tr>\n",
       "      <th>1500</th>\n",
       "      <td>3150</td>\n",
       "      <td>15.6</td>\n",
       "      <td>0.1016</td>\n",
       "      <td>39.6</td>\n",
       "      <td>0.052849</td>\n",
       "      <td>109.254</td>\n",
       "    </tr>\n",
       "    <tr>\n",
       "      <th>1501</th>\n",
       "      <td>4000</td>\n",
       "      <td>15.6</td>\n",
       "      <td>0.1016</td>\n",
       "      <td>39.6</td>\n",
       "      <td>0.052849</td>\n",
       "      <td>106.604</td>\n",
       "    </tr>\n",
       "    <tr>\n",
       "      <th>1502</th>\n",
       "      <td>5000</td>\n",
       "      <td>15.6</td>\n",
       "      <td>0.1016</td>\n",
       "      <td>39.6</td>\n",
       "      <td>0.052849</td>\n",
       "      <td>106.224</td>\n",
       "    </tr>\n",
       "    <tr>\n",
       "      <th>1503</th>\n",
       "      <td>6300</td>\n",
       "      <td>15.6</td>\n",
       "      <td>0.1016</td>\n",
       "      <td>39.6</td>\n",
       "      <td>0.052849</td>\n",
       "      <td>104.204</td>\n",
       "    </tr>\n",
       "  </tbody>\n",
       "</table>\n",
       "</div>"
      ],
      "text/plain": [
       "      Frequency  Angle of Attack  chord_length  Free_stream  Suction Side  \\\n",
       "1499       2500             15.6        0.1016         39.6      0.052849   \n",
       "1500       3150             15.6        0.1016         39.6      0.052849   \n",
       "1501       4000             15.6        0.1016         39.6      0.052849   \n",
       "1502       5000             15.6        0.1016         39.6      0.052849   \n",
       "1503       6300             15.6        0.1016         39.6      0.052849   \n",
       "\n",
       "      Scaled Sound  \n",
       "1499       110.264  \n",
       "1500       109.254  \n",
       "1501       106.604  \n",
       "1502       106.224  \n",
       "1503       104.204  "
      ]
     },
     "execution_count": 8,
     "metadata": {},
     "output_type": "execute_result"
    }
   ],
   "source": [
    "# using tail function we can retreive the bottom data\n",
    "\n",
    "data.tail()"
   ]
  },
  {
   "cell_type": "code",
   "execution_count": 9,
   "id": "c184f53b",
   "metadata": {
    "scrolled": false
   },
   "outputs": [
    {
     "data": {
      "text/html": [
       "<div>\n",
       "<style scoped>\n",
       "    .dataframe tbody tr th:only-of-type {\n",
       "        vertical-align: middle;\n",
       "    }\n",
       "\n",
       "    .dataframe tbody tr th {\n",
       "        vertical-align: top;\n",
       "    }\n",
       "\n",
       "    .dataframe thead th {\n",
       "        text-align: right;\n",
       "    }\n",
       "</style>\n",
       "<table border=\"1\" class=\"dataframe\">\n",
       "  <thead>\n",
       "    <tr style=\"text-align: right;\">\n",
       "      <th></th>\n",
       "      <th>Frequency</th>\n",
       "      <th>Angle of Attack</th>\n",
       "      <th>chord_length</th>\n",
       "      <th>Free_stream</th>\n",
       "      <th>Suction Side</th>\n",
       "      <th>Scaled Sound</th>\n",
       "    </tr>\n",
       "  </thead>\n",
       "  <tbody>\n",
       "    <tr>\n",
       "      <th>count</th>\n",
       "      <td>1504.00000</td>\n",
       "      <td>1503.000000</td>\n",
       "      <td>1504.000000</td>\n",
       "      <td>1503.000000</td>\n",
       "      <td>1503.000000</td>\n",
       "      <td>1503.000000</td>\n",
       "    </tr>\n",
       "    <tr>\n",
       "      <th>mean</th>\n",
       "      <td>2885.12633</td>\n",
       "      <td>6.782302</td>\n",
       "      <td>0.136593</td>\n",
       "      <td>50.860745</td>\n",
       "      <td>0.011140</td>\n",
       "      <td>124.835943</td>\n",
       "    </tr>\n",
       "    <tr>\n",
       "      <th>std</th>\n",
       "      <td>3151.89955</td>\n",
       "      <td>5.918128</td>\n",
       "      <td>0.093526</td>\n",
       "      <td>15.572784</td>\n",
       "      <td>0.013150</td>\n",
       "      <td>6.898657</td>\n",
       "    </tr>\n",
       "    <tr>\n",
       "      <th>min</th>\n",
       "      <td>200.00000</td>\n",
       "      <td>0.000000</td>\n",
       "      <td>0.025400</td>\n",
       "      <td>31.700000</td>\n",
       "      <td>0.000401</td>\n",
       "      <td>103.380000</td>\n",
       "    </tr>\n",
       "    <tr>\n",
       "      <th>25%</th>\n",
       "      <td>800.00000</td>\n",
       "      <td>2.000000</td>\n",
       "      <td>0.050800</td>\n",
       "      <td>39.600000</td>\n",
       "      <td>0.002535</td>\n",
       "      <td>120.191000</td>\n",
       "    </tr>\n",
       "    <tr>\n",
       "      <th>50%</th>\n",
       "      <td>1600.00000</td>\n",
       "      <td>5.400000</td>\n",
       "      <td>0.101600</td>\n",
       "      <td>39.600000</td>\n",
       "      <td>0.004957</td>\n",
       "      <td>125.721000</td>\n",
       "    </tr>\n",
       "    <tr>\n",
       "      <th>75%</th>\n",
       "      <td>4000.00000</td>\n",
       "      <td>9.900000</td>\n",
       "      <td>0.228600</td>\n",
       "      <td>71.300000</td>\n",
       "      <td>0.015576</td>\n",
       "      <td>129.995500</td>\n",
       "    </tr>\n",
       "    <tr>\n",
       "      <th>max</th>\n",
       "      <td>20000.00000</td>\n",
       "      <td>22.200000</td>\n",
       "      <td>0.304800</td>\n",
       "      <td>71.300000</td>\n",
       "      <td>0.058411</td>\n",
       "      <td>140.987000</td>\n",
       "    </tr>\n",
       "  </tbody>\n",
       "</table>\n",
       "</div>"
      ],
      "text/plain": [
       "         Frequency  Angle of Attack  chord_length  Free_stream  Suction Side  \\\n",
       "count   1504.00000      1503.000000   1504.000000  1503.000000   1503.000000   \n",
       "mean    2885.12633         6.782302      0.136593    50.860745      0.011140   \n",
       "std     3151.89955         5.918128      0.093526    15.572784      0.013150   \n",
       "min      200.00000         0.000000      0.025400    31.700000      0.000401   \n",
       "25%      800.00000         2.000000      0.050800    39.600000      0.002535   \n",
       "50%     1600.00000         5.400000      0.101600    39.600000      0.004957   \n",
       "75%     4000.00000         9.900000      0.228600    71.300000      0.015576   \n",
       "max    20000.00000        22.200000      0.304800    71.300000      0.058411   \n",
       "\n",
       "       Scaled Sound  \n",
       "count   1503.000000  \n",
       "mean     124.835943  \n",
       "std        6.898657  \n",
       "min      103.380000  \n",
       "25%      120.191000  \n",
       "50%      125.721000  \n",
       "75%      129.995500  \n",
       "max      140.987000  "
      ]
     },
     "execution_count": 9,
     "metadata": {},
     "output_type": "execute_result"
    }
   ],
   "source": [
    "# We use .describe function to see the basic statistics details of the data.\n",
    "\n",
    "data.describe()"
   ]
  },
  {
   "cell_type": "code",
   "execution_count": 10,
   "id": "f820e52a",
   "metadata": {},
   "outputs": [
    {
     "name": "stdout",
     "output_type": "stream",
     "text": [
      "<class 'pandas.core.frame.DataFrame'>\n",
      "RangeIndex: 1504 entries, 0 to 1503\n",
      "Data columns (total 6 columns):\n",
      " #   Column           Non-Null Count  Dtype  \n",
      "---  ------           --------------  -----  \n",
      " 0   Frequency        1504 non-null   int64  \n",
      " 1   Angle of Attack  1503 non-null   float64\n",
      " 2   chord_length     1504 non-null   float64\n",
      " 3   Free_stream      1503 non-null   float64\n",
      " 4   Suction Side     1503 non-null   float64\n",
      " 5   Scaled Sound     1503 non-null   float64\n",
      "dtypes: float64(5), int64(1)\n",
      "memory usage: 70.6 KB\n"
     ]
    }
   ],
   "source": [
    "# Get the information about the AirFoil dataframe\n",
    "\n",
    "data.info()"
   ]
  },
  {
   "cell_type": "code",
   "execution_count": 11,
   "id": "cd434d7e",
   "metadata": {},
   "outputs": [
    {
     "data": {
      "text/plain": [
       "(1504, 6)"
      ]
     },
     "execution_count": 11,
     "metadata": {},
     "output_type": "execute_result"
    }
   ],
   "source": [
    "# .shape gives the tuple of the rows and the columns \n",
    "\n",
    "data.shape"
   ]
  },
  {
   "cell_type": "code",
   "execution_count": 12,
   "id": "a7db86bc",
   "metadata": {},
   "outputs": [
    {
     "data": {
      "text/plain": [
       "Frequency          0\n",
       "Angle of Attack    1\n",
       "chord_length       0\n",
       "Free_stream        1\n",
       "Suction Side       1\n",
       "Scaled Sound       1\n",
       "dtype: int64"
      ]
     },
     "execution_count": 12,
     "metadata": {},
     "output_type": "execute_result"
    }
   ],
   "source": [
    "# Missing Data\n",
    "\n",
    "data.isnull().sum()"
   ]
  },
  {
   "cell_type": "markdown",
   "id": "7afc3c02",
   "metadata": {},
   "source": [
    "### Preprocessing"
   ]
  },
  {
   "cell_type": "code",
   "execution_count": 13,
   "id": "b81891f5",
   "metadata": {},
   "outputs": [],
   "source": [
    "from sklearn.impute import SimpleImputer\n",
    "\n",
    "my_imputer = SimpleImputer()\n",
    "\n",
    "new_data = pd.DataFrame(my_imputer.fit_transform(data))\n",
    "\n",
    "new_data.columns = data.columns    #For getting same column name"
   ]
  },
  {
   "cell_type": "code",
   "execution_count": 14,
   "id": "c590d127",
   "metadata": {
    "scrolled": false
   },
   "outputs": [
    {
     "data": {
      "text/plain": [
       "Frequency          0\n",
       "Angle of Attack    0\n",
       "chord_length       0\n",
       "Free_stream        0\n",
       "Suction Side       0\n",
       "Scaled Sound       0\n",
       "dtype: int64"
      ]
     },
     "execution_count": 14,
     "metadata": {},
     "output_type": "execute_result"
    }
   ],
   "source": [
    "new_data.isnull().sum()"
   ]
  },
  {
   "cell_type": "code",
   "execution_count": 15,
   "id": "333ad13c",
   "metadata": {
    "scrolled": true
   },
   "outputs": [
    {
     "data": {
      "text/html": [
       "<div>\n",
       "<style scoped>\n",
       "    .dataframe tbody tr th:only-of-type {\n",
       "        vertical-align: middle;\n",
       "    }\n",
       "\n",
       "    .dataframe tbody tr th {\n",
       "        vertical-align: top;\n",
       "    }\n",
       "\n",
       "    .dataframe thead th {\n",
       "        text-align: right;\n",
       "    }\n",
       "</style>\n",
       "<table border=\"1\" class=\"dataframe\">\n",
       "  <thead>\n",
       "    <tr style=\"text-align: right;\">\n",
       "      <th></th>\n",
       "      <th>Frequency</th>\n",
       "      <th>Angle of Attack</th>\n",
       "      <th>chord_length</th>\n",
       "      <th>Free_stream</th>\n",
       "      <th>Suction Side</th>\n",
       "      <th>Scaled Sound</th>\n",
       "    </tr>\n",
       "  </thead>\n",
       "  <tbody>\n",
       "    <tr>\n",
       "      <th>count</th>\n",
       "      <td>1504.00000</td>\n",
       "      <td>1504.000000</td>\n",
       "      <td>1504.000000</td>\n",
       "      <td>1504.000000</td>\n",
       "      <td>1504.000000</td>\n",
       "      <td>1504.000000</td>\n",
       "    </tr>\n",
       "    <tr>\n",
       "      <th>mean</th>\n",
       "      <td>2885.12633</td>\n",
       "      <td>6.782302</td>\n",
       "      <td>0.136593</td>\n",
       "      <td>50.860745</td>\n",
       "      <td>0.011140</td>\n",
       "      <td>124.835943</td>\n",
       "    </tr>\n",
       "    <tr>\n",
       "      <th>std</th>\n",
       "      <td>3151.89955</td>\n",
       "      <td>5.916159</td>\n",
       "      <td>0.093526</td>\n",
       "      <td>15.567603</td>\n",
       "      <td>0.013146</td>\n",
       "      <td>6.896361</td>\n",
       "    </tr>\n",
       "    <tr>\n",
       "      <th>min</th>\n",
       "      <td>200.00000</td>\n",
       "      <td>0.000000</td>\n",
       "      <td>0.025400</td>\n",
       "      <td>31.700000</td>\n",
       "      <td>0.000401</td>\n",
       "      <td>103.380000</td>\n",
       "    </tr>\n",
       "    <tr>\n",
       "      <th>25%</th>\n",
       "      <td>800.00000</td>\n",
       "      <td>2.000000</td>\n",
       "      <td>0.050800</td>\n",
       "      <td>39.600000</td>\n",
       "      <td>0.002535</td>\n",
       "      <td>120.192000</td>\n",
       "    </tr>\n",
       "    <tr>\n",
       "      <th>50%</th>\n",
       "      <td>1600.00000</td>\n",
       "      <td>5.400000</td>\n",
       "      <td>0.101600</td>\n",
       "      <td>39.600000</td>\n",
       "      <td>0.004957</td>\n",
       "      <td>125.719000</td>\n",
       "    </tr>\n",
       "    <tr>\n",
       "      <th>75%</th>\n",
       "      <td>4000.00000</td>\n",
       "      <td>9.900000</td>\n",
       "      <td>0.228600</td>\n",
       "      <td>71.300000</td>\n",
       "      <td>0.015312</td>\n",
       "      <td>129.993250</td>\n",
       "    </tr>\n",
       "    <tr>\n",
       "      <th>max</th>\n",
       "      <td>20000.00000</td>\n",
       "      <td>22.200000</td>\n",
       "      <td>0.304800</td>\n",
       "      <td>71.300000</td>\n",
       "      <td>0.058411</td>\n",
       "      <td>140.987000</td>\n",
       "    </tr>\n",
       "  </tbody>\n",
       "</table>\n",
       "</div>"
      ],
      "text/plain": [
       "         Frequency  Angle of Attack  chord_length  Free_stream  Suction Side  \\\n",
       "count   1504.00000      1504.000000   1504.000000  1504.000000   1504.000000   \n",
       "mean    2885.12633         6.782302      0.136593    50.860745      0.011140   \n",
       "std     3151.89955         5.916159      0.093526    15.567603      0.013146   \n",
       "min      200.00000         0.000000      0.025400    31.700000      0.000401   \n",
       "25%      800.00000         2.000000      0.050800    39.600000      0.002535   \n",
       "50%     1600.00000         5.400000      0.101600    39.600000      0.004957   \n",
       "75%     4000.00000         9.900000      0.228600    71.300000      0.015312   \n",
       "max    20000.00000        22.200000      0.304800    71.300000      0.058411   \n",
       "\n",
       "       Scaled Sound  \n",
       "count   1504.000000  \n",
       "mean     124.835943  \n",
       "std        6.896361  \n",
       "min      103.380000  \n",
       "25%      120.192000  \n",
       "50%      125.719000  \n",
       "75%      129.993250  \n",
       "max      140.987000  "
      ]
     },
     "execution_count": 15,
     "metadata": {},
     "output_type": "execute_result"
    }
   ],
   "source": [
    "# statistics details of the new_data.\n",
    "\n",
    "new_data.describe()"
   ]
  },
  {
   "cell_type": "markdown",
   "id": "7149a332",
   "metadata": {},
   "source": [
    "### OUTLIERS:"
   ]
  },
  {
   "cell_type": "code",
   "execution_count": 16,
   "id": "4401068a",
   "metadata": {
    "scrolled": false
   },
   "outputs": [
    {
     "data": {
      "image/png": "[encoded data removed]",
      "text/plain": [
       "<Figure size 432x288 with 1 Axes>"
      ]
     },
     "metadata": {
      "needs_background": "light"
     },
     "output_type": "display_data"
    }
   ],
   "source": [
    "# Finding the Outliers in Frequency column:\n",
    "\n",
    "outlier = sns.boxplot(x='Frequency', data=new_data)"
   ]
  },
  {
   "cell_type": "code",
   "execution_count": 17,
   "id": "b71cb6a7",
   "metadata": {},
   "outputs": [
    {
     "name": "stdout",
     "output_type": "stream",
     "text": [
      "-4000.0\n",
      "8800.0\n"
     ]
    }
   ],
   "source": [
    "def outlier(Frequency):\n",
    "    sorted(Frequency)\n",
    "    Q1,Q3 = np.percentile(Frequency, [25,75])\n",
    "    IQR = Q3 - Q1\n",
    "    lower_range = Q1 - (1.5 * IQR)\n",
    "    upper_range = Q3 + (1.5 * IQR)\n",
    "    return lower_range,upper_range\n",
    "\n",
    "low,up = outlier(new_data.Frequency)\n",
    "print(low)\n",
    "print(up)"
   ]
  },
  {
   "cell_type": "code",
   "execution_count": 18,
   "id": "42ce8b16",
   "metadata": {},
   "outputs": [
    {
     "data": {
      "text/html": [
       "<div>\n",
       "<style scoped>\n",
       "    .dataframe tbody tr th:only-of-type {\n",
       "        vertical-align: middle;\n",
       "    }\n",
       "\n",
       "    .dataframe tbody tr th {\n",
       "        vertical-align: top;\n",
       "    }\n",
       "\n",
       "    .dataframe thead th {\n",
       "        text-align: right;\n",
       "    }\n",
       "</style>\n",
       "<table border=\"1\" class=\"dataframe\">\n",
       "  <thead>\n",
       "    <tr style=\"text-align: right;\">\n",
       "      <th></th>\n",
       "      <th>Frequency</th>\n",
       "      <th>Angle of Attack</th>\n",
       "      <th>chord_length</th>\n",
       "      <th>Free_stream</th>\n",
       "      <th>Suction Side</th>\n",
       "      <th>Scaled Sound</th>\n",
       "    </tr>\n",
       "  </thead>\n",
       "  <tbody>\n",
       "    <tr>\n",
       "      <th>11</th>\n",
       "      <td>10000.0</td>\n",
       "      <td>0.0</td>\n",
       "      <td>0.3048</td>\n",
       "      <td>71.3</td>\n",
       "      <td>0.002663</td>\n",
       "      <td>115.391</td>\n",
       "    </tr>\n",
       "    <tr>\n",
       "      <th>12</th>\n",
       "      <td>12500.0</td>\n",
       "      <td>0.0</td>\n",
       "      <td>0.3048</td>\n",
       "      <td>71.3</td>\n",
       "      <td>0.002663</td>\n",
       "      <td>112.241</td>\n",
       "    </tr>\n",
       "    <tr>\n",
       "      <th>13</th>\n",
       "      <td>16000.0</td>\n",
       "      <td>0.0</td>\n",
       "      <td>0.3048</td>\n",
       "      <td>71.3</td>\n",
       "      <td>0.002663</td>\n",
       "      <td>108.721</td>\n",
       "    </tr>\n",
       "    <tr>\n",
       "      <th>27</th>\n",
       "      <td>10000.0</td>\n",
       "      <td>0.0</td>\n",
       "      <td>0.3048</td>\n",
       "      <td>55.5</td>\n",
       "      <td>0.002831</td>\n",
       "      <td>113.076</td>\n",
       "    </tr>\n",
       "    <tr>\n",
       "      <th>28</th>\n",
       "      <td>12500.0</td>\n",
       "      <td>0.0</td>\n",
       "      <td>0.3048</td>\n",
       "      <td>55.5</td>\n",
       "      <td>0.002831</td>\n",
       "      <td>111.076</td>\n",
       "    </tr>\n",
       "    <tr>\n",
       "      <th>...</th>\n",
       "      <td>...</td>\n",
       "      <td>...</td>\n",
       "      <td>...</td>\n",
       "      <td>...</td>\n",
       "      <td>...</td>\n",
       "      <td>...</td>\n",
       "    </tr>\n",
       "    <tr>\n",
       "      <th>1281</th>\n",
       "      <td>10000.0</td>\n",
       "      <td>0.0</td>\n",
       "      <td>0.1016</td>\n",
       "      <td>39.6</td>\n",
       "      <td>0.001463</td>\n",
       "      <td>119.561</td>\n",
       "    </tr>\n",
       "    <tr>\n",
       "      <th>1294</th>\n",
       "      <td>10000.0</td>\n",
       "      <td>0.0</td>\n",
       "      <td>0.1016</td>\n",
       "      <td>31.7</td>\n",
       "      <td>0.001501</td>\n",
       "      <td>115.893</td>\n",
       "    </tr>\n",
       "    <tr>\n",
       "      <th>1306</th>\n",
       "      <td>10000.0</td>\n",
       "      <td>3.3</td>\n",
       "      <td>0.1016</td>\n",
       "      <td>71.3</td>\n",
       "      <td>0.002028</td>\n",
       "      <td>116.694</td>\n",
       "    </tr>\n",
       "    <tr>\n",
       "      <th>1319</th>\n",
       "      <td>10000.0</td>\n",
       "      <td>3.3</td>\n",
       "      <td>0.1016</td>\n",
       "      <td>55.5</td>\n",
       "      <td>0.002211</td>\n",
       "      <td>115.659</td>\n",
       "    </tr>\n",
       "    <tr>\n",
       "      <th>1332</th>\n",
       "      <td>10000.0</td>\n",
       "      <td>3.3</td>\n",
       "      <td>0.1016</td>\n",
       "      <td>39.6</td>\n",
       "      <td>0.002451</td>\n",
       "      <td>115.321</td>\n",
       "    </tr>\n",
       "  </tbody>\n",
       "</table>\n",
       "<p>86 rows × 6 columns</p>\n",
       "</div>"
      ],
      "text/plain": [
       "      Frequency  Angle of Attack  chord_length  Free_stream  Suction Side  \\\n",
       "11      10000.0              0.0        0.3048         71.3      0.002663   \n",
       "12      12500.0              0.0        0.3048         71.3      0.002663   \n",
       "13      16000.0              0.0        0.3048         71.3      0.002663   \n",
       "27      10000.0              0.0        0.3048         55.5      0.002831   \n",
       "28      12500.0              0.0        0.3048         55.5      0.002831   \n",
       "...         ...              ...           ...          ...           ...   \n",
       "1281    10000.0              0.0        0.1016         39.6      0.001463   \n",
       "1294    10000.0              0.0        0.1016         31.7      0.001501   \n",
       "1306    10000.0              3.3        0.1016         71.3      0.002028   \n",
       "1319    10000.0              3.3        0.1016         55.5      0.002211   \n",
       "1332    10000.0              3.3        0.1016         39.6      0.002451   \n",
       "\n",
       "      Scaled Sound  \n",
       "11         115.391  \n",
       "12         112.241  \n",
       "13         108.721  \n",
       "27         113.076  \n",
       "28         111.076  \n",
       "...            ...  \n",
       "1281       119.561  \n",
       "1294       115.893  \n",
       "1306       116.694  \n",
       "1319       115.659  \n",
       "1332       115.321  \n",
       "\n",
       "[86 rows x 6 columns]"
      ]
     },
     "execution_count": 18,
     "metadata": {},
     "output_type": "execute_result"
    }
   ],
   "source": [
    "new_data[(new_data.Frequency < low) | (new_data.Frequency > up)]"
   ]
  },
  {
   "cell_type": "code",
   "execution_count": 19,
   "id": "82679e69",
   "metadata": {},
   "outputs": [],
   "source": [
    "new_data.drop(new_data[(new_data.Frequency < low) | (new_data.Frequency > up)].index, inplace=True)"
   ]
  },
  {
   "cell_type": "code",
   "execution_count": 20,
   "id": "d37a6e6e",
   "metadata": {
    "scrolled": false
   },
   "outputs": [
    {
     "data": {
      "image/png": "[encoded data removed]",
      "text/plain": [
       "<Figure size 432x288 with 1 Axes>"
      ]
     },
     "metadata": {
      "needs_background": "light"
     },
     "output_type": "display_data"
    }
   ],
   "source": [
    "# After removing the outliers in Frequency column\n",
    "\n",
    "outlier = sns.boxplot(x='Frequency', data=new_data)"
   ]
  },
  {
   "cell_type": "markdown",
   "id": "f524f5f2",
   "metadata": {},
   "source": [
    "### Split the dataset"
   ]
  },
  {
   "cell_type": "code",
   "execution_count": 21,
   "id": "13ef1239",
   "metadata": {},
   "outputs": [],
   "source": [
    "# Split X and Y\n",
    "\n",
    "X = new_data[['Frequency','Angle of Attack','chord_length','Free_stream','Suction Side']]\n",
    "y = new_data[['Scaled Sound']]"
   ]
  },
  {
   "cell_type": "code",
   "execution_count": 22,
   "id": "f29ece9a",
   "metadata": {
    "scrolled": false
   },
   "outputs": [
    {
     "data": {
      "text/html": [
       "<div>\n",
       "<style scoped>\n",
       "    .dataframe tbody tr th:only-of-type {\n",
       "        vertical-align: middle;\n",
       "    }\n",
       "\n",
       "    .dataframe tbody tr th {\n",
       "        vertical-align: top;\n",
       "    }\n",
       "\n",
       "    .dataframe thead th {\n",
       "        text-align: right;\n",
       "    }\n",
       "</style>\n",
       "<table border=\"1\" class=\"dataframe\">\n",
       "  <thead>\n",
       "    <tr style=\"text-align: right;\">\n",
       "      <th></th>\n",
       "      <th>Frequency</th>\n",
       "      <th>Angle of Attack</th>\n",
       "      <th>chord_length</th>\n",
       "      <th>Free_stream</th>\n",
       "      <th>Suction Side</th>\n",
       "    </tr>\n",
       "  </thead>\n",
       "  <tbody>\n",
       "    <tr>\n",
       "      <th>0</th>\n",
       "      <td>800.0</td>\n",
       "      <td>0.0</td>\n",
       "      <td>0.3048</td>\n",
       "      <td>71.3</td>\n",
       "      <td>0.002663</td>\n",
       "    </tr>\n",
       "    <tr>\n",
       "      <th>1</th>\n",
       "      <td>1000.0</td>\n",
       "      <td>0.0</td>\n",
       "      <td>0.3048</td>\n",
       "      <td>71.3</td>\n",
       "      <td>0.002663</td>\n",
       "    </tr>\n",
       "    <tr>\n",
       "      <th>2</th>\n",
       "      <td>1250.0</td>\n",
       "      <td>0.0</td>\n",
       "      <td>0.3048</td>\n",
       "      <td>71.3</td>\n",
       "      <td>0.002663</td>\n",
       "    </tr>\n",
       "    <tr>\n",
       "      <th>3</th>\n",
       "      <td>1600.0</td>\n",
       "      <td>0.0</td>\n",
       "      <td>0.3048</td>\n",
       "      <td>71.3</td>\n",
       "      <td>0.002663</td>\n",
       "    </tr>\n",
       "    <tr>\n",
       "      <th>4</th>\n",
       "      <td>2000.0</td>\n",
       "      <td>0.0</td>\n",
       "      <td>0.3048</td>\n",
       "      <td>71.3</td>\n",
       "      <td>0.002663</td>\n",
       "    </tr>\n",
       "    <tr>\n",
       "      <th>...</th>\n",
       "      <td>...</td>\n",
       "      <td>...</td>\n",
       "      <td>...</td>\n",
       "      <td>...</td>\n",
       "      <td>...</td>\n",
       "    </tr>\n",
       "    <tr>\n",
       "      <th>1499</th>\n",
       "      <td>2500.0</td>\n",
       "      <td>15.6</td>\n",
       "      <td>0.1016</td>\n",
       "      <td>39.6</td>\n",
       "      <td>0.052849</td>\n",
       "    </tr>\n",
       "    <tr>\n",
       "      <th>1500</th>\n",
       "      <td>3150.0</td>\n",
       "      <td>15.6</td>\n",
       "      <td>0.1016</td>\n",
       "      <td>39.6</td>\n",
       "      <td>0.052849</td>\n",
       "    </tr>\n",
       "    <tr>\n",
       "      <th>1501</th>\n",
       "      <td>4000.0</td>\n",
       "      <td>15.6</td>\n",
       "      <td>0.1016</td>\n",
       "      <td>39.6</td>\n",
       "      <td>0.052849</td>\n",
       "    </tr>\n",
       "    <tr>\n",
       "      <th>1502</th>\n",
       "      <td>5000.0</td>\n",
       "      <td>15.6</td>\n",
       "      <td>0.1016</td>\n",
       "      <td>39.6</td>\n",
       "      <td>0.052849</td>\n",
       "    </tr>\n",
       "    <tr>\n",
       "      <th>1503</th>\n",
       "      <td>6300.0</td>\n",
       "      <td>15.6</td>\n",
       "      <td>0.1016</td>\n",
       "      <td>39.6</td>\n",
       "      <td>0.052849</td>\n",
       "    </tr>\n",
       "  </tbody>\n",
       "</table>\n",
       "<p>1418 rows × 5 columns</p>\n",
       "</div>"
      ],
      "text/plain": [
       "      Frequency  Angle of Attack  chord_length  Free_stream  Suction Side\n",
       "0         800.0              0.0        0.3048         71.3      0.002663\n",
       "1        1000.0              0.0        0.3048         71.3      0.002663\n",
       "2        1250.0              0.0        0.3048         71.3      0.002663\n",
       "3        1600.0              0.0        0.3048         71.3      0.002663\n",
       "4        2000.0              0.0        0.3048         71.3      0.002663\n",
       "...         ...              ...           ...          ...           ...\n",
       "1499     2500.0             15.6        0.1016         39.6      0.052849\n",
       "1500     3150.0             15.6        0.1016         39.6      0.052849\n",
       "1501     4000.0             15.6        0.1016         39.6      0.052849\n",
       "1502     5000.0             15.6        0.1016         39.6      0.052849\n",
       "1503     6300.0             15.6        0.1016         39.6      0.052849\n",
       "\n",
       "[1418 rows x 5 columns]"
      ]
     },
     "execution_count": 22,
     "metadata": {},
     "output_type": "execute_result"
    }
   ],
   "source": [
    "X"
   ]
  },
  {
   "cell_type": "code",
   "execution_count": 23,
   "id": "7dfedfea",
   "metadata": {
    "scrolled": false
   },
   "outputs": [
    {
     "data": {
      "text/html": [
       "<div>\n",
       "<style scoped>\n",
       "    .dataframe tbody tr th:only-of-type {\n",
       "        vertical-align: middle;\n",
       "    }\n",
       "\n",
       "    .dataframe tbody tr th {\n",
       "        vertical-align: top;\n",
       "    }\n",
       "\n",
       "    .dataframe thead th {\n",
       "        text-align: right;\n",
       "    }\n",
       "</style>\n",
       "<table border=\"1\" class=\"dataframe\">\n",
       "  <thead>\n",
       "    <tr style=\"text-align: right;\">\n",
       "      <th></th>\n",
       "      <th>Scaled Sound</th>\n",
       "    </tr>\n",
       "  </thead>\n",
       "  <tbody>\n",
       "    <tr>\n",
       "      <th>0</th>\n",
       "      <td>126.201</td>\n",
       "    </tr>\n",
       "    <tr>\n",
       "      <th>1</th>\n",
       "      <td>125.201</td>\n",
       "    </tr>\n",
       "    <tr>\n",
       "      <th>2</th>\n",
       "      <td>125.951</td>\n",
       "    </tr>\n",
       "    <tr>\n",
       "      <th>3</th>\n",
       "      <td>127.591</td>\n",
       "    </tr>\n",
       "    <tr>\n",
       "      <th>4</th>\n",
       "      <td>127.461</td>\n",
       "    </tr>\n",
       "    <tr>\n",
       "      <th>...</th>\n",
       "      <td>...</td>\n",
       "    </tr>\n",
       "    <tr>\n",
       "      <th>1499</th>\n",
       "      <td>110.264</td>\n",
       "    </tr>\n",
       "    <tr>\n",
       "      <th>1500</th>\n",
       "      <td>109.254</td>\n",
       "    </tr>\n",
       "    <tr>\n",
       "      <th>1501</th>\n",
       "      <td>106.604</td>\n",
       "    </tr>\n",
       "    <tr>\n",
       "      <th>1502</th>\n",
       "      <td>106.224</td>\n",
       "    </tr>\n",
       "    <tr>\n",
       "      <th>1503</th>\n",
       "      <td>104.204</td>\n",
       "    </tr>\n",
       "  </tbody>\n",
       "</table>\n",
       "<p>1418 rows × 1 columns</p>\n",
       "</div>"
      ],
      "text/plain": [
       "      Scaled Sound\n",
       "0          126.201\n",
       "1          125.201\n",
       "2          125.951\n",
       "3          127.591\n",
       "4          127.461\n",
       "...            ...\n",
       "1499       110.264\n",
       "1500       109.254\n",
       "1501       106.604\n",
       "1502       106.224\n",
       "1503       104.204\n",
       "\n",
       "[1418 rows x 1 columns]"
      ]
     },
     "execution_count": 23,
     "metadata": {},
     "output_type": "execute_result"
    }
   ],
   "source": [
    "y"
   ]
  },
  {
   "cell_type": "code",
   "execution_count": 24,
   "id": "d57f0945",
   "metadata": {},
   "outputs": [
    {
     "data": {
      "text/plain": [
       "((1418, 5), (1418, 1))"
      ]
     },
     "execution_count": 24,
     "metadata": {},
     "output_type": "execute_result"
    }
   ],
   "source": [
    "# .shape gives the tuple of the rows and the columns \n",
    "\n",
    "X.shape, y.shape"
   ]
  },
  {
   "cell_type": "markdown",
   "id": "0743a6e0",
   "metadata": {},
   "source": [
    "##  Visualization"
   ]
  },
  {
   "cell_type": "code",
   "execution_count": 25,
   "id": "c9389780",
   "metadata": {},
   "outputs": [
    {
     "data": {
      "text/html": [
       "<div>\n",
       "<style scoped>\n",
       "    .dataframe tbody tr th:only-of-type {\n",
       "        vertical-align: middle;\n",
       "    }\n",
       "\n",
       "    .dataframe tbody tr th {\n",
       "        vertical-align: top;\n",
       "    }\n",
       "\n",
       "    .dataframe thead th {\n",
       "        text-align: right;\n",
       "    }\n",
       "</style>\n",
       "<table border=\"1\" class=\"dataframe\">\n",
       "  <thead>\n",
       "    <tr style=\"text-align: right;\">\n",
       "      <th></th>\n",
       "      <th>Frequency</th>\n",
       "      <th>Angle of Attack</th>\n",
       "      <th>chord_length</th>\n",
       "      <th>Free_stream</th>\n",
       "      <th>Suction Side</th>\n",
       "      <th>Scaled Sound</th>\n",
       "    </tr>\n",
       "  </thead>\n",
       "  <tbody>\n",
       "    <tr>\n",
       "      <th>Frequency</th>\n",
       "      <td>1.000000</td>\n",
       "      <td>-0.194741</td>\n",
       "      <td>0.005600</td>\n",
       "      <td>0.064566</td>\n",
       "      <td>-0.168815</td>\n",
       "      <td>-0.374312</td>\n",
       "    </tr>\n",
       "    <tr>\n",
       "      <th>Angle of Attack</th>\n",
       "      <td>-0.194741</td>\n",
       "      <td>1.000000</td>\n",
       "      <td>-0.535569</td>\n",
       "      <td>0.082763</td>\n",
       "      <td>0.747251</td>\n",
       "      <td>-0.213554</td>\n",
       "    </tr>\n",
       "    <tr>\n",
       "      <th>chord_length</th>\n",
       "      <td>0.005600</td>\n",
       "      <td>-0.535569</td>\n",
       "      <td>1.000000</td>\n",
       "      <td>-0.009827</td>\n",
       "      <td>-0.237655</td>\n",
       "      <td>-0.198524</td>\n",
       "    </tr>\n",
       "    <tr>\n",
       "      <th>Free_stream</th>\n",
       "      <td>0.064566</td>\n",
       "      <td>0.082763</td>\n",
       "      <td>-0.009827</td>\n",
       "      <td>1.000000</td>\n",
       "      <td>0.014520</td>\n",
       "      <td>0.173753</td>\n",
       "    </tr>\n",
       "    <tr>\n",
       "      <th>Suction Side</th>\n",
       "      <td>-0.168815</td>\n",
       "      <td>0.747251</td>\n",
       "      <td>-0.237655</td>\n",
       "      <td>0.014520</td>\n",
       "      <td>1.000000</td>\n",
       "      <td>-0.370691</td>\n",
       "    </tr>\n",
       "    <tr>\n",
       "      <th>Scaled Sound</th>\n",
       "      <td>-0.374312</td>\n",
       "      <td>-0.213554</td>\n",
       "      <td>-0.198524</td>\n",
       "      <td>0.173753</td>\n",
       "      <td>-0.370691</td>\n",
       "      <td>1.000000</td>\n",
       "    </tr>\n",
       "  </tbody>\n",
       "</table>\n",
       "</div>"
      ],
      "text/plain": [
       "                 Frequency  Angle of Attack  chord_length  Free_stream  \\\n",
       "Frequency         1.000000        -0.194741      0.005600     0.064566   \n",
       "Angle of Attack  -0.194741         1.000000     -0.535569     0.082763   \n",
       "chord_length      0.005600        -0.535569      1.000000    -0.009827   \n",
       "Free_stream       0.064566         0.082763     -0.009827     1.000000   \n",
       "Suction Side     -0.168815         0.747251     -0.237655     0.014520   \n",
       "Scaled Sound     -0.374312        -0.213554     -0.198524     0.173753   \n",
       "\n",
       "                 Suction Side  Scaled Sound  \n",
       "Frequency           -0.168815     -0.374312  \n",
       "Angle of Attack      0.747251     -0.213554  \n",
       "chord_length        -0.237655     -0.198524  \n",
       "Free_stream          0.014520      0.173753  \n",
       "Suction Side         1.000000     -0.370691  \n",
       "Scaled Sound        -0.370691      1.000000  "
      ]
     },
     "execution_count": 25,
     "metadata": {},
     "output_type": "execute_result"
    }
   ],
   "source": [
    "#Correlation:\n",
    "\n",
    "new_data.corr()"
   ]
  },
  {
   "cell_type": "code",
   "execution_count": 26,
   "id": "8ef9a80b",
   "metadata": {
    "scrolled": true
   },
   "outputs": [
    {
     "data": {
      "image/png": "[encoded data removed]",
      "text/plain": [
       "<Figure size 864x432 with 2 Axes>"
      ]
     },
     "metadata": {
      "needs_background": "light"
     },
     "output_type": "display_data"
    }
   ],
   "source": [
    "# Correlation matrix visualization\n",
    "\n",
    "f, ax = plt.subplots(figsize= [12, 6])\n",
    "sns.heatmap(new_data.corr(), annot=True, fmt=\".2f\", cmap=\"magma\")\n",
    "ax.set_title(\"Correlation Matrix\", fontsize=20)\n",
    "plt.show()"
   ]
  },
  {
   "cell_type": "code",
   "execution_count": 27,
   "id": "567e0166",
   "metadata": {},
   "outputs": [
    {
     "data": {
      "text/plain": [
       "<seaborn.axisgrid.PairGrid at 0x7faa9d3a0c70>"
      ]
     },
     "execution_count": 27,
     "metadata": {},
     "output_type": "execute_result"
    },
    {
     "data": {
      "image/png": "[encoded data removed]",
      "text/plain": [
       "<Figure size 1080x1080 with 42 Axes>"
      ]
     },
     "metadata": {
      "needs_background": "light"
     },
     "output_type": "display_data"
    }
   ],
   "source": [
    "# we use sns.pairplot to automatically plot several different charts for pairs of features within a dataframe.\n",
    "\n",
    "sns.pairplot(new_data, diag_kind='kde', markers='+')"
   ]
  },
  {
   "cell_type": "code",
   "execution_count": 28,
   "id": "b354755d",
   "metadata": {},
   "outputs": [
    {
     "data": {
      "image/png": "[encoded data removed]",
      "text/plain": [
       "<Figure size 432x288 with 1 Axes>"
      ]
     },
     "metadata": {
      "needs_background": "light"
     },
     "output_type": "display_data"
    }
   ],
   "source": [
    "# Visual representation of X split by Histogram:\n",
    "\n",
    "plt.hist(X)\n",
    "plt.show()"
   ]
  },
  {
   "cell_type": "code",
   "execution_count": 29,
   "id": "b2f5e873",
   "metadata": {},
   "outputs": [
    {
     "data": {
      "image/png": "[encoded data removed]",
      "text/plain": [
       "<Figure size 432x288 with 1 Axes>"
      ]
     },
     "metadata": {
      "needs_background": "light"
     },
     "output_type": "display_data"
    }
   ],
   "source": [
    "# Visual representation of y split by Histogram:\n",
    "\n",
    "plt.hist(y)\n",
    "plt.show()"
   ]
  },
  {
   "cell_type": "code",
   "execution_count": 30,
   "id": "364a1dab",
   "metadata": {},
   "outputs": [
    {
     "data": {
      "text/plain": [
       "<AxesSubplot:title={'center':'Relation between Frequency and Scaled Sound'}, xlabel='Frequency', ylabel='Scaled Sound'>"
      ]
     },
     "execution_count": 30,
     "metadata": {},
     "output_type": "execute_result"
    },
    {
     "data": {
      "image/png": "[encoded data removed]",
      "text/plain": [
       "<Figure size 864x432 with 1 Axes>"
      ]
     },
     "metadata": {
      "needs_background": "light"
     },
     "output_type": "display_data"
    }
   ],
   "source": [
    "plt.figure(figsize=[12, 6])\n",
    "plt.title('Relation between Frequency and Scaled Sound')\n",
    "plt.xticks(rotation=75)\n",
    "sns.barplot(x='Frequency', y='Scaled Sound', data=new_data)"
   ]
  },
  {
   "cell_type": "code",
   "execution_count": 31,
   "id": "a40e9ea9",
   "metadata": {},
   "outputs": [
    {
     "data": {
      "text/plain": [
       "<AxesSubplot:title={'center':'Comparision with Angle of Attack on Scaled Sound'}, xlabel='Angle of Attack', ylabel='Scaled Sound'>"
      ]
     },
     "execution_count": 31,
     "metadata": {},
     "output_type": "execute_result"
    },
    {
     "data": {
      "image/png": "[encoded data removed]",
      "text/plain": [
       "<Figure size 864x432 with 1 Axes>"
      ]
     },
     "metadata": {
      "needs_background": "light"
     },
     "output_type": "display_data"
    }
   ],
   "source": [
    "plt.figure(figsize=[12, 6])\n",
    "plt.title('Comparision with Angle of Attack on Scaled Sound')\n",
    "plt.xticks(rotation=75)\n",
    "sns.barplot(x='Angle of Attack', y='Scaled Sound', data=new_data)"
   ]
  },
  {
   "cell_type": "code",
   "execution_count": 34,
   "id": "87c47171",
   "metadata": {},
   "outputs": [
    {
     "data": {
      "text/plain": [
       "<AxesSubplot:title={'center':'Skewness of Scaled Sound'}, xlabel='Scaled Sound', ylabel='Density'>"
      ]
     },
     "execution_count": 34,
     "metadata": {},
     "output_type": "execute_result"
    },
    {
     "data": {
      "image/png": "[encoded data removed]",
      "text/plain": [
       "<Figure size 432x288 with 1 Axes>"
      ]
     },
     "metadata": {
      "needs_background": "light"
     },
     "output_type": "display_data"
    }
   ],
   "source": [
    "#Skewness:(feature- dependent variable)\n",
    "\n",
    "plt.title('Skewness of Scaled Sound')\n",
    "sns.distplot(new_data['Scaled Sound'], fit=norm)"
   ]
  },
  {
   "cell_type": "markdown",
   "id": "13fb1fce",
   "metadata": {},
   "source": [
    "### train and test split method"
   ]
  },
  {
   "cell_type": "code",
   "execution_count": 35,
   "id": "2f98f9ed",
   "metadata": {},
   "outputs": [],
   "source": [
    "from sklearn.model_selection import train_test_split\n",
    "\n",
    "X_train, X_test, y_train, y_test = train_test_split(X, y, test_size=0.2, random_state=12)"
   ]
  },
  {
   "cell_type": "markdown",
   "id": "9db17796",
   "metadata": {},
   "source": [
    "### Apply the model:"
   ]
  },
  {
   "cell_type": "code",
   "execution_count": 36,
   "id": "f4e3010b",
   "metadata": {},
   "outputs": [
    {
     "data": {
      "text/plain": [
       "LinearRegression()"
      ]
     },
     "execution_count": 36,
     "metadata": {},
     "output_type": "execute_result"
    }
   ],
   "source": [
    "# Linear Algorithm\n",
    "\n",
    "from sklearn import linear_model \n",
    "model = linear_model.LinearRegression()\n",
    "\n",
    "model.fit(X_train, y_train)"
   ]
  },
  {
   "cell_type": "markdown",
   "id": "16708c71",
   "metadata": {},
   "source": [
    "#### Now we have trained the model based on X and y\n",
    "#### So,We are going to predict the test data based upon the trained data"
   ]
  },
  {
   "cell_type": "code",
   "execution_count": 37,
   "id": "ab8f9b13",
   "metadata": {},
   "outputs": [],
   "source": [
    "y_pred = model.predict(X_test)"
   ]
  },
  {
   "cell_type": "code",
   "execution_count": 38,
   "id": "70c99178",
   "metadata": {
    "scrolled": false
   },
   "outputs": [
    {
     "data": {
      "text/plain": [
       "array([[125.39389874],\n",
       "       [122.41476934],\n",
       "       [126.34822687],\n",
       "       [123.47970381],\n",
       "       [119.65562431],\n",
       "       [127.05747478],\n",
       "       [133.51906626],\n",
       "       [120.20301354],\n",
       "       [121.55547681],\n",
       "       [120.267228  ],\n",
       "       [120.12151294],\n",
       "       [131.39736546],\n",
       "       [130.90768539],\n",
       "       [128.14662241],\n",
       "       [122.76024904],\n",
       "       [120.12675767],\n",
       "       [114.88159713],\n",
       "       [117.3275399 ],\n",
       "       [123.59336716],\n",
       "       [125.96159917],\n",
       "       [123.01300494],\n",
       "       [123.43701102],\n",
       "       [126.55229512],\n",
       "       [116.74964742],\n",
       "       [119.29292691],\n",
       "       [126.72284465],\n",
       "       [125.75916638],\n",
       "       [126.03329798],\n",
       "       [125.6787463 ],\n",
       "       [125.25912542],\n",
       "       [118.63335485],\n",
       "       [128.15788074],\n",
       "       [127.34191039],\n",
       "       [126.68143957],\n",
       "       [128.79198913],\n",
       "       [125.94710642],\n",
       "       [127.27388668],\n",
       "       [126.92821377],\n",
       "       [126.28427058],\n",
       "       [127.92404651],\n",
       "       [131.52076736],\n",
       "       [120.17189598],\n",
       "       [120.92818113],\n",
       "       [125.5227309 ],\n",
       "       [131.39510592],\n",
       "       [126.26315191],\n",
       "       [123.84958026],\n",
       "       [122.93506583],\n",
       "       [116.13300429],\n",
       "       [120.61237822],\n",
       "       [130.4528729 ],\n",
       "       [123.67096553],\n",
       "       [129.68397866],\n",
       "       [126.81936023],\n",
       "       [126.41458548],\n",
       "       [125.34086132],\n",
       "       [124.3834271 ],\n",
       "       [117.37849187],\n",
       "       [119.9420873 ],\n",
       "       [128.02721636],\n",
       "       [129.14441581],\n",
       "       [117.25382944],\n",
       "       [124.9244953 ],\n",
       "       [128.19453142],\n",
       "       [122.5912509 ],\n",
       "       [124.20780199],\n",
       "       [124.86916622],\n",
       "       [122.0270441 ],\n",
       "       [123.97924131],\n",
       "       [125.88862873],\n",
       "       [131.85930598],\n",
       "       [115.44153164],\n",
       "       [124.29837594],\n",
       "       [127.18710304],\n",
       "       [132.0368871 ],\n",
       "       [125.10444324],\n",
       "       [126.98987127],\n",
       "       [125.17932227],\n",
       "       [123.46781422],\n",
       "       [122.75652496],\n",
       "       [136.85626523],\n",
       "       [126.93137464],\n",
       "       [126.11335351],\n",
       "       [119.79636471],\n",
       "       [127.24039245],\n",
       "       [128.15156176],\n",
       "       [131.74426071],\n",
       "       [127.31041151],\n",
       "       [118.32294265],\n",
       "       [115.36983828],\n",
       "       [125.24645246],\n",
       "       [123.59734692],\n",
       "       [124.68091508],\n",
       "       [127.13163766],\n",
       "       [125.96399479],\n",
       "       [131.48808951],\n",
       "       [129.7188868 ],\n",
       "       [119.01313898],\n",
       "       [124.98163909],\n",
       "       [117.9030856 ],\n",
       "       [115.47858656],\n",
       "       [115.95018821],\n",
       "       [118.13140965],\n",
       "       [114.2390205 ],\n",
       "       [123.8733062 ],\n",
       "       [116.46034229],\n",
       "       [122.60031297],\n",
       "       [130.30981755],\n",
       "       [119.13530004],\n",
       "       [128.2161197 ],\n",
       "       [122.17092224],\n",
       "       [116.0900104 ],\n",
       "       [122.45836894],\n",
       "       [119.00303909],\n",
       "       [121.09311523],\n",
       "       [127.78571779],\n",
       "       [133.13147198],\n",
       "       [129.47578272],\n",
       "       [120.81628027],\n",
       "       [122.79201029],\n",
       "       [130.98614431],\n",
       "       [125.32405582],\n",
       "       [124.67510933],\n",
       "       [128.31887682],\n",
       "       [121.34199271],\n",
       "       [127.83676352],\n",
       "       [128.45108896],\n",
       "       [127.85409554],\n",
       "       [127.63984303],\n",
       "       [123.34785687],\n",
       "       [125.44963351],\n",
       "       [122.01399265],\n",
       "       [128.13103601],\n",
       "       [123.06530246],\n",
       "       [128.10316193],\n",
       "       [129.99374047],\n",
       "       [123.71771256],\n",
       "       [125.38366964],\n",
       "       [130.88497012],\n",
       "       [121.2440401 ],\n",
       "       [128.06682155],\n",
       "       [127.27159703],\n",
       "       [114.26086573],\n",
       "       [125.57847507],\n",
       "       [122.6832529 ],\n",
       "       [118.08223044],\n",
       "       [123.96513944],\n",
       "       [130.80950319],\n",
       "       [126.2962293 ],\n",
       "       [123.17481262],\n",
       "       [131.20350104],\n",
       "       [132.05310313],\n",
       "       [126.38289782],\n",
       "       [125.21530103],\n",
       "       [121.22061273],\n",
       "       [120.52297882],\n",
       "       [131.60442489],\n",
       "       [124.36158187],\n",
       "       [118.23189274],\n",
       "       [129.262014  ],\n",
       "       [119.06654642],\n",
       "       [123.47580351],\n",
       "       [121.82351638],\n",
       "       [124.80526048],\n",
       "       [128.34414457],\n",
       "       [124.94768832],\n",
       "       [118.01325286],\n",
       "       [128.71964666],\n",
       "       [121.70575213],\n",
       "       [123.03270477],\n",
       "       [123.85517595],\n",
       "       [133.41013051],\n",
       "       [126.59171711],\n",
       "       [121.02895011],\n",
       "       [126.12948144],\n",
       "       [131.01574974],\n",
       "       [125.85170864],\n",
       "       [127.84851458],\n",
       "       [132.38710431],\n",
       "       [125.5174904 ],\n",
       "       [122.93990755],\n",
       "       [122.71027646],\n",
       "       [133.12443502],\n",
       "       [125.31672063],\n",
       "       [132.39697936],\n",
       "       [129.0471679 ],\n",
       "       [124.61305819],\n",
       "       [129.27627359],\n",
       "       [124.1863488 ],\n",
       "       [123.25293128],\n",
       "       [112.95401808],\n",
       "       [131.49355053],\n",
       "       [120.50350079],\n",
       "       [129.69452815],\n",
       "       [127.96556716],\n",
       "       [126.24586085],\n",
       "       [122.68368355],\n",
       "       [121.50166198],\n",
       "       [126.49022436],\n",
       "       [129.53392597],\n",
       "       [133.85369639],\n",
       "       [128.5342199 ],\n",
       "       [127.13663505],\n",
       "       [130.03509578],\n",
       "       [121.01578432],\n",
       "       [124.08226974],\n",
       "       [125.28745388],\n",
       "       [133.89293988],\n",
       "       [127.30498078],\n",
       "       [128.59275374],\n",
       "       [124.01138794],\n",
       "       [131.4205808 ],\n",
       "       [126.17536394],\n",
       "       [119.5306563 ],\n",
       "       [127.48282193],\n",
       "       [129.59900755],\n",
       "       [122.00117252],\n",
       "       [130.06464866],\n",
       "       [127.91096985],\n",
       "       [123.65489004],\n",
       "       [127.62498986],\n",
       "       [120.84115624],\n",
       "       [116.64287584],\n",
       "       [131.22937262],\n",
       "       [128.99943202],\n",
       "       [120.49803848],\n",
       "       [127.31055275],\n",
       "       [128.2723832 ],\n",
       "       [128.35914495],\n",
       "       [123.09256814],\n",
       "       [120.25444479],\n",
       "       [127.99316872],\n",
       "       [126.88669312],\n",
       "       [114.30711423],\n",
       "       [125.57677452],\n",
       "       [132.23394078],\n",
       "       [118.83012834],\n",
       "       [131.00229314],\n",
       "       [121.47016905],\n",
       "       [125.53860138],\n",
       "       [136.5216351 ],\n",
       "       [127.73975979],\n",
       "       [127.21581025],\n",
       "       [125.43889122],\n",
       "       [127.43390167],\n",
       "       [128.18063975],\n",
       "       [128.52021117],\n",
       "       [132.51517588],\n",
       "       [129.8782313 ],\n",
       "       [127.48835365],\n",
       "       [125.13011707],\n",
       "       [127.21448886],\n",
       "       [125.32804068],\n",
       "       [127.96546842],\n",
       "       [124.06919284],\n",
       "       [126.94364819],\n",
       "       [124.61111994],\n",
       "       [122.28552886],\n",
       "       [128.05604846],\n",
       "       [121.98120119],\n",
       "       [123.77094262],\n",
       "       [117.07903859],\n",
       "       [126.95581532],\n",
       "       [118.51922415],\n",
       "       [123.02870052],\n",
       "       [129.25196975],\n",
       "       [122.48127191],\n",
       "       [120.55902315],\n",
       "       [125.00828893],\n",
       "       [117.69740014],\n",
       "       [131.15345938],\n",
       "       [122.33693479],\n",
       "       [124.80082679],\n",
       "       [122.28123497],\n",
       "       [123.85171867],\n",
       "       [121.33648851],\n",
       "       [114.04156599],\n",
       "       [127.65393671],\n",
       "       [122.29553452],\n",
       "       [125.6418358 ],\n",
       "       [122.10596629],\n",
       "       [125.10097686],\n",
       "       [130.77459371],\n",
       "       [126.35594043]])"
      ]
     },
     "execution_count": 38,
     "metadata": {},
     "output_type": "execute_result"
    }
   ],
   "source": [
    "y_pred"
   ]
  },
  {
   "cell_type": "code",
   "execution_count": 39,
   "id": "0b8e5f90",
   "metadata": {
    "scrolled": true
   },
   "outputs": [
    {
     "name": "stdout",
     "output_type": "stream",
     "text": [
      "[[128.79633203]]\n"
     ]
    }
   ],
   "source": [
    "# prediction with new value\n",
    "\n",
    "print(model.predict([[800,0,0.3048,71.3,0.00266337]]))"
   ]
  },
  {
   "cell_type": "markdown",
   "id": "9d930dde",
   "metadata": {},
   "source": [
    "### R2 Score"
   ]
  },
  {
   "cell_type": "code",
   "execution_count": 40,
   "id": "0c5214a4",
   "metadata": {},
   "outputs": [
    {
     "name": "stdout",
     "output_type": "stream",
     "text": [
      "R2 Score 0.4816967419533017\n"
     ]
    }
   ],
   "source": [
    "from sklearn.metrics import r2_score \n",
    "\n",
    "print(\"R2 Score\",r2_score(y_test, y_pred))"
   ]
  },
  {
   "cell_type": "markdown",
   "id": "ba720c29",
   "metadata": {},
   "source": [
    "# Accuracy:"
   ]
  },
  {
   "cell_type": "markdown",
   "id": "0ec845a9",
   "metadata": {},
   "source": [
    "### This method is called train and test split method. Here we can find the accuracy of the data based upon the model that we are training. In the below cell we have used linear regression."
   ]
  },
  {
   "cell_type": "markdown",
   "id": "91e693da",
   "metadata": {},
   "source": [
    "# Linear Regression Algorithm"
   ]
  },
  {
   "cell_type": "code",
   "execution_count": 41,
   "id": "050dd88b",
   "metadata": {},
   "outputs": [
    {
     "name": "stdout",
     "output_type": "stream",
     "text": [
      "R2 Score 0.4816967419533017\n"
     ]
    }
   ],
   "source": [
    "from sklearn.metrics import r2_score \n",
    "from sklearn.model_selection import train_test_split\n",
    "X_train, X_test, y_train, y_test = train_test_split(X, y, test_size=0.2, random_state=12)\n",
    "new_model = linear_model.LinearRegression()\n",
    "new_model.fit(X_train, y_train) \n",
    "y_pred = new_model.predict(X_test)\n",
    "print(\"R2 Score\",r2_score(y_test, y_pred)) "
   ]
  },
  {
   "cell_type": "markdown",
   "id": "16376c30",
   "metadata": {},
   "source": [
    "#### Trying with various regression algorithms and to conclude one best fit algorithm"
   ]
  },
  {
   "cell_type": "markdown",
   "id": "b5689b9e",
   "metadata": {},
   "source": [
    "# Ridge Algorithm"
   ]
  },
  {
   "cell_type": "code",
   "execution_count": 42,
   "id": "809c9775",
   "metadata": {},
   "outputs": [
    {
     "name": "stdout",
     "output_type": "stream",
     "text": [
      "R2 Score 0.4142717563701418\n"
     ]
    }
   ],
   "source": [
    "from sklearn.linear_model import Ridge\n",
    "\n",
    "model_RD = Ridge()\n",
    "model_RD.fit(X_train, y_train)\n",
    "y_pred = model_RD.predict(X_test)\n",
    "print(\"R2 Score\",r2_score(y_test,y_pred))"
   ]
  },
  {
   "cell_type": "markdown",
   "id": "85cbb6d8",
   "metadata": {},
   "source": [
    "# Lasso Algorithm"
   ]
  },
  {
   "cell_type": "code",
   "execution_count": 43,
   "id": "d884168d",
   "metadata": {},
   "outputs": [
    {
     "name": "stdout",
     "output_type": "stream",
     "text": [
      "R2 Score 0.14532046314979508\n"
     ]
    }
   ],
   "source": [
    "from sklearn.linear_model import Lasso \n",
    "\n",
    "model_LS = Lasso()\n",
    "model_LS.fit(X_train, y_train)\n",
    "y_pred = model_LS.predict(X_test)\n",
    "print(\"R2 Score\",r2_score(y_test,y_pred))"
   ]
  },
  {
   "cell_type": "markdown",
   "id": "7bd4ec5d",
   "metadata": {},
   "source": [
    "# Elastic Net Regression Algorithm"
   ]
  },
  {
   "cell_type": "code",
   "execution_count": 44,
   "id": "22bf1b25",
   "metadata": {},
   "outputs": [
    {
     "name": "stdout",
     "output_type": "stream",
     "text": [
      "R2 Score 0.1444395905552588\n"
     ]
    }
   ],
   "source": [
    "from sklearn.linear_model import ElasticNet \n",
    "\n",
    "model_EN = ElasticNet()\n",
    "model_EN.fit(X_train, y_train)\n",
    "y_pred = model_EN.predict(X_test)\n",
    "print(\"R2 Score\",r2_score(y_test,y_pred))"
   ]
  },
  {
   "cell_type": "markdown",
   "id": "d308c474",
   "metadata": {},
   "source": [
    "# Support Vector Algorithm"
   ]
  },
  {
   "cell_type": "code",
   "execution_count": 45,
   "id": "14417e45",
   "metadata": {},
   "outputs": [
    {
     "name": "stdout",
     "output_type": "stream",
     "text": [
      "R2 Score 0.09446846855025637\n"
     ]
    }
   ],
   "source": [
    "from sklearn import svm \n",
    "\n",
    "model = svm.SVR(kernel='rbf', C=1000)\n",
    "model.fit(X_train, y_train) \n",
    "y_pred = model.predict(X_test) \n",
    "print(\"R2 Score\",r2_score(y_test,y_pred))"
   ]
  },
  {
   "cell_type": "markdown",
   "id": "59335798",
   "metadata": {},
   "source": [
    "# Random Forest Regreesion Algorithm"
   ]
  },
  {
   "cell_type": "code",
   "execution_count": 46,
   "id": "376e0cbc",
   "metadata": {},
   "outputs": [
    {
     "name": "stdout",
     "output_type": "stream",
     "text": [
      "R2 Score 0.722832352874246\n"
     ]
    }
   ],
   "source": [
    "from sklearn.ensemble import RandomForestRegressor\n",
    "\n",
    "model_RF = RandomForestRegressor(max_depth=5, random_state=0)\n",
    "model_RF.fit(X_train, y_train)\n",
    "y_pred = model_RF.predict(X_test)\n",
    "\n",
    "print(\"R2 Score\",r2_score(y_test, y_pred))"
   ]
  },
  {
   "cell_type": "markdown",
   "id": "8989501b",
   "metadata": {},
   "source": [
    "# Gradien Booster Algorithm"
   ]
  },
  {
   "cell_type": "code",
   "execution_count": 47,
   "id": "44c5f880",
   "metadata": {},
   "outputs": [
    {
     "name": "stdout",
     "output_type": "stream",
     "text": [
      "R2 Score 0.8486609291508966\n"
     ]
    }
   ],
   "source": [
    "from sklearn.ensemble import GradientBoostingRegressor\n",
    "\n",
    "model = GradientBoostingRegressor()\n",
    "model.fit(X_train, y_train)\n",
    "y_pred = model.predict(X_test)\n",
    "\n",
    "print(\"R2 Score\",r2_score(y_test, y_pred))"
   ]
  },
  {
   "cell_type": "markdown",
   "id": "40f2868e",
   "metadata": {},
   "source": [
    "# Conclusion"
   ]
  },
  {
   "cell_type": "markdown",
   "id": "62552b5a",
   "metadata": {},
   "source": [
    "## For this Air Foil dataset Gradient Booster Algorithm is the best fit algorithm as it gives the maximum accuracy of 85%"
   ]
  }
 ],
 "metadata": {
  "kernelspec": {
   "display_name": "Python 3",
   "language": "python",
   "name": "python3"
  },
  "language_info": {
   "codemirror_mode": {
    "name": "ipython",
    "version": 3
   },
   "file_extension": ".py",
   "mimetype": "text/x-python",
   "name": "python",
   "nbconvert_exporter": "python",
   "pygments_lexer": "ipython3",
   "version": "3.8.8"
  }
 },
 "nbformat": 4,
 "nbformat_minor": 5
}
