{
 "cells": [
  {
   "cell_type": "markdown",
   "id": "c7811fde",
   "metadata": {},
   "source": [
    "# Air_DataSet"
   ]
  },
  {
   "cell_type": "code",
   "execution_count": 2,
   "id": "f9f6906c",
   "metadata": {},
   "outputs": [],
   "source": [
    "# Importing packages\n",
    "\n",
    "import numpy as np\n",
    "import pandas as pd\n",
    "import matplotlib.pyplot as plt"
   ]
  },
  {
   "cell_type": "code",
   "execution_count": 3,
   "id": "ded3c4e3",
   "metadata": {},
   "outputs": [
    {
     "name": "stdout",
     "output_type": "stream",
     "text": [
      "      Frequency  Angle of Attack  chord_length  Free_stream  Suction Side  \\\n",
      "0           800              0.0        0.3048         71.3      0.002663   \n",
      "1          1000              0.0        0.3048         71.3      0.002663   \n",
      "2          1250              0.0        0.3048         71.3      0.002663   \n",
      "3          1600              0.0        0.3048         71.3      0.002663   \n",
      "4          2000              0.0        0.3048         71.3      0.002663   \n",
      "...         ...              ...           ...          ...           ...   \n",
      "1499       2500             15.6        0.1016         39.6      0.052849   \n",
      "1500       3150             15.6        0.1016         39.6      0.052849   \n",
      "1501       4000             15.6        0.1016         39.6      0.052849   \n",
      "1502       5000             15.6        0.1016         39.6      0.052849   \n",
      "1503       6300             15.6        0.1016         39.6      0.052849   \n",
      "\n",
      "      Scaled Sound  \n",
      "0          126.201  \n",
      "1          125.201  \n",
      "2          125.951  \n",
      "3          127.591  \n",
      "4          127.461  \n",
      "...            ...  \n",
      "1499       110.264  \n",
      "1500       109.254  \n",
      "1501       106.604  \n",
      "1502       106.224  \n",
      "1503       104.204  \n",
      "\n",
      "[1504 rows x 6 columns]\n"
     ]
    }
   ],
   "source": [
    "# Loading data\n",
    "\n",
    "df = pd.read_csv(\"air.csv\")\n",
    "print(df)"
   ]
  },
  {
   "cell_type": "code",
   "execution_count": 4,
   "id": "6e2d9fdd",
   "metadata": {},
   "outputs": [],
   "source": [
    "# Deep copy and Shallow copy\n",
    "\n",
    "data = df"
   ]
  },
  {
   "cell_type": "code",
   "execution_count": 5,
   "id": "819e8955",
   "metadata": {},
   "outputs": [
    {
     "data": {
      "text/html": [
       "<div>\n",
       "<style scoped>\n",
       "    .dataframe tbody tr th:only-of-type {\n",
       "        vertical-align: middle;\n",
       "    }\n",
       "\n",
       "    .dataframe tbody tr th {\n",
       "        vertical-align: top;\n",
       "    }\n",
       "\n",
       "    .dataframe thead th {\n",
       "        text-align: right;\n",
       "    }\n",
       "</style>\n",
       "<table border=\"1\" class=\"dataframe\">\n",
       "  <thead>\n",
       "    <tr style=\"text-align: right;\">\n",
       "      <th></th>\n",
       "      <th>Frequency</th>\n",
       "      <th>Angle of Attack</th>\n",
       "      <th>chord_length</th>\n",
       "      <th>Free_stream</th>\n",
       "      <th>Suction Side</th>\n",
       "      <th>Scaled Sound</th>\n",
       "    </tr>\n",
       "  </thead>\n",
       "  <tbody>\n",
       "    <tr>\n",
       "      <th>0</th>\n",
       "      <td>800</td>\n",
       "      <td>0.0</td>\n",
       "      <td>0.3048</td>\n",
       "      <td>71.3</td>\n",
       "      <td>0.002663</td>\n",
       "      <td>126.201</td>\n",
       "    </tr>\n",
       "    <tr>\n",
       "      <th>1</th>\n",
       "      <td>1000</td>\n",
       "      <td>0.0</td>\n",
       "      <td>0.3048</td>\n",
       "      <td>71.3</td>\n",
       "      <td>0.002663</td>\n",
       "      <td>125.201</td>\n",
       "    </tr>\n",
       "    <tr>\n",
       "      <th>2</th>\n",
       "      <td>1250</td>\n",
       "      <td>0.0</td>\n",
       "      <td>0.3048</td>\n",
       "      <td>71.3</td>\n",
       "      <td>0.002663</td>\n",
       "      <td>125.951</td>\n",
       "    </tr>\n",
       "    <tr>\n",
       "      <th>3</th>\n",
       "      <td>1600</td>\n",
       "      <td>0.0</td>\n",
       "      <td>0.3048</td>\n",
       "      <td>71.3</td>\n",
       "      <td>0.002663</td>\n",
       "      <td>127.591</td>\n",
       "    </tr>\n",
       "    <tr>\n",
       "      <th>4</th>\n",
       "      <td>2000</td>\n",
       "      <td>0.0</td>\n",
       "      <td>0.3048</td>\n",
       "      <td>71.3</td>\n",
       "      <td>0.002663</td>\n",
       "      <td>127.461</td>\n",
       "    </tr>\n",
       "  </tbody>\n",
       "</table>\n",
       "</div>"
      ],
      "text/plain": [
       "   Frequency  Angle of Attack  chord_length  Free_stream  Suction Side  \\\n",
       "0        800              0.0        0.3048         71.3      0.002663   \n",
       "1       1000              0.0        0.3048         71.3      0.002663   \n",
       "2       1250              0.0        0.3048         71.3      0.002663   \n",
       "3       1600              0.0        0.3048         71.3      0.002663   \n",
       "4       2000              0.0        0.3048         71.3      0.002663   \n",
       "\n",
       "   Scaled Sound  \n",
       "0       126.201  \n",
       "1       125.201  \n",
       "2       125.951  \n",
       "3       127.591  \n",
       "4       127.461  "
      ]
     },
     "execution_count": 5,
     "metadata": {},
     "output_type": "execute_result"
    }
   ],
   "source": [
    "# EDA\n",
    "\n",
    "data.head()"
   ]
  },
  {
   "cell_type": "code",
   "execution_count": 6,
   "id": "6f48cb95",
   "metadata": {},
   "outputs": [
    {
     "data": {
      "text/html": [
       "<div>\n",
       "<style scoped>\n",
       "    .dataframe tbody tr th:only-of-type {\n",
       "        vertical-align: middle;\n",
       "    }\n",
       "\n",
       "    .dataframe tbody tr th {\n",
       "        vertical-align: top;\n",
       "    }\n",
       "\n",
       "    .dataframe thead th {\n",
       "        text-align: right;\n",
       "    }\n",
       "</style>\n",
       "<table border=\"1\" class=\"dataframe\">\n",
       "  <thead>\n",
       "    <tr style=\"text-align: right;\">\n",
       "      <th></th>\n",
       "      <th>Frequency</th>\n",
       "      <th>Angle of Attack</th>\n",
       "      <th>chord_length</th>\n",
       "      <th>Free_stream</th>\n",
       "      <th>Suction Side</th>\n",
       "      <th>Scaled Sound</th>\n",
       "    </tr>\n",
       "  </thead>\n",
       "  <tbody>\n",
       "    <tr>\n",
       "      <th>1499</th>\n",
       "      <td>2500</td>\n",
       "      <td>15.6</td>\n",
       "      <td>0.1016</td>\n",
       "      <td>39.6</td>\n",
       "      <td>0.052849</td>\n",
       "      <td>110.264</td>\n",
       "    </tr>\n",
       "    <tr>\n",
       "      <th>1500</th>\n",
       "      <td>3150</td>\n",
       "      <td>15.6</td>\n",
       "      <td>0.1016</td>\n",
       "      <td>39.6</td>\n",
       "      <td>0.052849</td>\n",
       "      <td>109.254</td>\n",
       "    </tr>\n",
       "    <tr>\n",
       "      <th>1501</th>\n",
       "      <td>4000</td>\n",
       "      <td>15.6</td>\n",
       "      <td>0.1016</td>\n",
       "      <td>39.6</td>\n",
       "      <td>0.052849</td>\n",
       "      <td>106.604</td>\n",
       "    </tr>\n",
       "    <tr>\n",
       "      <th>1502</th>\n",
       "      <td>5000</td>\n",
       "      <td>15.6</td>\n",
       "      <td>0.1016</td>\n",
       "      <td>39.6</td>\n",
       "      <td>0.052849</td>\n",
       "      <td>106.224</td>\n",
       "    </tr>\n",
       "    <tr>\n",
       "      <th>1503</th>\n",
       "      <td>6300</td>\n",
       "      <td>15.6</td>\n",
       "      <td>0.1016</td>\n",
       "      <td>39.6</td>\n",
       "      <td>0.052849</td>\n",
       "      <td>104.204</td>\n",
       "    </tr>\n",
       "  </tbody>\n",
       "</table>\n",
       "</div>"
      ],
      "text/plain": [
       "      Frequency  Angle of Attack  chord_length  Free_stream  Suction Side  \\\n",
       "1499       2500             15.6        0.1016         39.6      0.052849   \n",
       "1500       3150             15.6        0.1016         39.6      0.052849   \n",
       "1501       4000             15.6        0.1016         39.6      0.052849   \n",
       "1502       5000             15.6        0.1016         39.6      0.052849   \n",
       "1503       6300             15.6        0.1016         39.6      0.052849   \n",
       "\n",
       "      Scaled Sound  \n",
       "1499       110.264  \n",
       "1500       109.254  \n",
       "1501       106.604  \n",
       "1502       106.224  \n",
       "1503       104.204  "
      ]
     },
     "execution_count": 6,
     "metadata": {},
     "output_type": "execute_result"
    }
   ],
   "source": [
    "data.tail()"
   ]
  },
  {
   "cell_type": "code",
   "execution_count": 7,
   "id": "c184f53b",
   "metadata": {},
   "outputs": [
    {
     "data": {
      "text/html": [
       "<div>\n",
       "<style scoped>\n",
       "    .dataframe tbody tr th:only-of-type {\n",
       "        vertical-align: middle;\n",
       "    }\n",
       "\n",
       "    .dataframe tbody tr th {\n",
       "        vertical-align: top;\n",
       "    }\n",
       "\n",
       "    .dataframe thead th {\n",
       "        text-align: right;\n",
       "    }\n",
       "</style>\n",
       "<table border=\"1\" class=\"dataframe\">\n",
       "  <thead>\n",
       "    <tr style=\"text-align: right;\">\n",
       "      <th></th>\n",
       "      <th>Frequency</th>\n",
       "      <th>Angle of Attack</th>\n",
       "      <th>chord_length</th>\n",
       "      <th>Free_stream</th>\n",
       "      <th>Suction Side</th>\n",
       "      <th>Scaled Sound</th>\n",
       "    </tr>\n",
       "  </thead>\n",
       "  <tbody>\n",
       "    <tr>\n",
       "      <th>count</th>\n",
       "      <td>1504.00000</td>\n",
       "      <td>1503.000000</td>\n",
       "      <td>1504.000000</td>\n",
       "      <td>1503.000000</td>\n",
       "      <td>1503.000000</td>\n",
       "      <td>1503.000000</td>\n",
       "    </tr>\n",
       "    <tr>\n",
       "      <th>mean</th>\n",
       "      <td>2885.12633</td>\n",
       "      <td>6.782302</td>\n",
       "      <td>0.136593</td>\n",
       "      <td>50.860745</td>\n",
       "      <td>0.011140</td>\n",
       "      <td>124.835943</td>\n",
       "    </tr>\n",
       "    <tr>\n",
       "      <th>std</th>\n",
       "      <td>3151.89955</td>\n",
       "      <td>5.918128</td>\n",
       "      <td>0.093526</td>\n",
       "      <td>15.572784</td>\n",
       "      <td>0.013150</td>\n",
       "      <td>6.898657</td>\n",
       "    </tr>\n",
       "    <tr>\n",
       "      <th>min</th>\n",
       "      <td>200.00000</td>\n",
       "      <td>0.000000</td>\n",
       "      <td>0.025400</td>\n",
       "      <td>31.700000</td>\n",
       "      <td>0.000401</td>\n",
       "      <td>103.380000</td>\n",
       "    </tr>\n",
       "    <tr>\n",
       "      <th>25%</th>\n",
       "      <td>800.00000</td>\n",
       "      <td>2.000000</td>\n",
       "      <td>0.050800</td>\n",
       "      <td>39.600000</td>\n",
       "      <td>0.002535</td>\n",
       "      <td>120.191000</td>\n",
       "    </tr>\n",
       "    <tr>\n",
       "      <th>50%</th>\n",
       "      <td>1600.00000</td>\n",
       "      <td>5.400000</td>\n",
       "      <td>0.101600</td>\n",
       "      <td>39.600000</td>\n",
       "      <td>0.004957</td>\n",
       "      <td>125.721000</td>\n",
       "    </tr>\n",
       "    <tr>\n",
       "      <th>75%</th>\n",
       "      <td>4000.00000</td>\n",
       "      <td>9.900000</td>\n",
       "      <td>0.228600</td>\n",
       "      <td>71.300000</td>\n",
       "      <td>0.015576</td>\n",
       "      <td>129.995500</td>\n",
       "    </tr>\n",
       "    <tr>\n",
       "      <th>max</th>\n",
       "      <td>20000.00000</td>\n",
       "      <td>22.200000</td>\n",
       "      <td>0.304800</td>\n",
       "      <td>71.300000</td>\n",
       "      <td>0.058411</td>\n",
       "      <td>140.987000</td>\n",
       "    </tr>\n",
       "  </tbody>\n",
       "</table>\n",
       "</div>"
      ],
      "text/plain": [
       "         Frequency  Angle of Attack  chord_length  Free_stream  Suction Side  \\\n",
       "count   1504.00000      1503.000000   1504.000000  1503.000000   1503.000000   \n",
       "mean    2885.12633         6.782302      0.136593    50.860745      0.011140   \n",
       "std     3151.89955         5.918128      0.093526    15.572784      0.013150   \n",
       "min      200.00000         0.000000      0.025400    31.700000      0.000401   \n",
       "25%      800.00000         2.000000      0.050800    39.600000      0.002535   \n",
       "50%     1600.00000         5.400000      0.101600    39.600000      0.004957   \n",
       "75%     4000.00000         9.900000      0.228600    71.300000      0.015576   \n",
       "max    20000.00000        22.200000      0.304800    71.300000      0.058411   \n",
       "\n",
       "       Scaled Sound  \n",
       "count   1503.000000  \n",
       "mean     124.835943  \n",
       "std        6.898657  \n",
       "min      103.380000  \n",
       "25%      120.191000  \n",
       "50%      125.721000  \n",
       "75%      129.995500  \n",
       "max      140.987000  "
      ]
     },
     "execution_count": 7,
     "metadata": {},
     "output_type": "execute_result"
    }
   ],
   "source": [
    "data.describe()"
   ]
  },
  {
   "cell_type": "code",
   "execution_count": 9,
   "id": "f820e52a",
   "metadata": {},
   "outputs": [
    {
     "name": "stdout",
     "output_type": "stream",
     "text": [
      "<class 'pandas.core.frame.DataFrame'>\n",
      "RangeIndex: 1504 entries, 0 to 1503\n",
      "Data columns (total 6 columns):\n",
      " #   Column           Non-Null Count  Dtype  \n",
      "---  ------           --------------  -----  \n",
      " 0   Frequency        1504 non-null   int64  \n",
      " 1   Angle of Attack  1503 non-null   float64\n",
      " 2   chord_length     1504 non-null   float64\n",
      " 3   Free_stream      1503 non-null   float64\n",
      " 4   Suction Side     1503 non-null   float64\n",
      " 5   Scaled Sound     1503 non-null   float64\n",
      "dtypes: float64(5), int64(1)\n",
      "memory usage: 70.6 KB\n"
     ]
    }
   ],
   "source": [
    "data.info()"
   ]
  },
  {
   "cell_type": "code",
   "execution_count": 11,
   "id": "a7db86bc",
   "metadata": {},
   "outputs": [
    {
     "data": {
      "text/plain": [
       "Frequency          0\n",
       "Angle of Attack    1\n",
       "chord_length       0\n",
       "Free_stream        1\n",
       "Suction Side       1\n",
       "Scaled Sound       1\n",
       "dtype: int64"
      ]
     },
     "execution_count": 11,
     "metadata": {},
     "output_type": "execute_result"
    }
   ],
   "source": [
    "data.isnull().sum()"
   ]
  },
  {
   "cell_type": "code",
   "execution_count": 36,
   "id": "b81891f5",
   "metadata": {},
   "outputs": [],
   "source": [
    "# Preprocessing\n",
    "\n",
    "from sklearn.impute import SimpleImputer\n",
    "\n",
    "my_imputer = SimpleImputer()\n",
    "\n",
    "new_data = pd.DataFrame(my_imputer.fit_transform(data))\n",
    "#new = pd.DataFrame(new_data, columns=data.columns)\n",
    "new_data.columns = data.columns"
   ]
  },
  {
   "cell_type": "code",
   "execution_count": 37,
   "id": "c590d127",
   "metadata": {
    "scrolled": false
   },
   "outputs": [
    {
     "data": {
      "text/plain": [
       "Frequency          0\n",
       "Angle of Attack    0\n",
       "chord_length       0\n",
       "Free_stream        0\n",
       "Suction Side       0\n",
       "Scaled Sound       0\n",
       "dtype: int64"
      ]
     },
     "execution_count": 37,
     "metadata": {},
     "output_type": "execute_result"
    }
   ],
   "source": [
    "new_data.isnull().sum()"
   ]
  },
  {
   "cell_type": "code",
   "execution_count": 38,
   "id": "333ad13c",
   "metadata": {},
   "outputs": [
    {
     "data": {
      "text/html": [
       "<div>\n",
       "<style scoped>\n",
       "    .dataframe tbody tr th:only-of-type {\n",
       "        vertical-align: middle;\n",
       "    }\n",
       "\n",
       "    .dataframe tbody tr th {\n",
       "        vertical-align: top;\n",
       "    }\n",
       "\n",
       "    .dataframe thead th {\n",
       "        text-align: right;\n",
       "    }\n",
       "</style>\n",
       "<table border=\"1\" class=\"dataframe\">\n",
       "  <thead>\n",
       "    <tr style=\"text-align: right;\">\n",
       "      <th></th>\n",
       "      <th>Frequency</th>\n",
       "      <th>Angle of Attack</th>\n",
       "      <th>chord_length</th>\n",
       "      <th>Free_stream</th>\n",
       "      <th>Suction Side</th>\n",
       "      <th>Scaled Sound</th>\n",
       "    </tr>\n",
       "  </thead>\n",
       "  <tbody>\n",
       "    <tr>\n",
       "      <th>count</th>\n",
       "      <td>1504.00000</td>\n",
       "      <td>1504.000000</td>\n",
       "      <td>1504.000000</td>\n",
       "      <td>1504.000000</td>\n",
       "      <td>1504.000000</td>\n",
       "      <td>1504.000000</td>\n",
       "    </tr>\n",
       "    <tr>\n",
       "      <th>mean</th>\n",
       "      <td>2885.12633</td>\n",
       "      <td>6.782302</td>\n",
       "      <td>0.136593</td>\n",
       "      <td>50.860745</td>\n",
       "      <td>0.011140</td>\n",
       "      <td>124.835943</td>\n",
       "    </tr>\n",
       "    <tr>\n",
       "      <th>std</th>\n",
       "      <td>3151.89955</td>\n",
       "      <td>5.916159</td>\n",
       "      <td>0.093526</td>\n",
       "      <td>15.567603</td>\n",
       "      <td>0.013146</td>\n",
       "      <td>6.896361</td>\n",
       "    </tr>\n",
       "    <tr>\n",
       "      <th>min</th>\n",
       "      <td>200.00000</td>\n",
       "      <td>0.000000</td>\n",
       "      <td>0.025400</td>\n",
       "      <td>31.700000</td>\n",
       "      <td>0.000401</td>\n",
       "      <td>103.380000</td>\n",
       "    </tr>\n",
       "    <tr>\n",
       "      <th>25%</th>\n",
       "      <td>800.00000</td>\n",
       "      <td>2.000000</td>\n",
       "      <td>0.050800</td>\n",
       "      <td>39.600000</td>\n",
       "      <td>0.002535</td>\n",
       "      <td>120.192000</td>\n",
       "    </tr>\n",
       "    <tr>\n",
       "      <th>50%</th>\n",
       "      <td>1600.00000</td>\n",
       "      <td>5.400000</td>\n",
       "      <td>0.101600</td>\n",
       "      <td>39.600000</td>\n",
       "      <td>0.004957</td>\n",
       "      <td>125.719000</td>\n",
       "    </tr>\n",
       "    <tr>\n",
       "      <th>75%</th>\n",
       "      <td>4000.00000</td>\n",
       "      <td>9.900000</td>\n",
       "      <td>0.228600</td>\n",
       "      <td>71.300000</td>\n",
       "      <td>0.015312</td>\n",
       "      <td>129.993250</td>\n",
       "    </tr>\n",
       "    <tr>\n",
       "      <th>max</th>\n",
       "      <td>20000.00000</td>\n",
       "      <td>22.200000</td>\n",
       "      <td>0.304800</td>\n",
       "      <td>71.300000</td>\n",
       "      <td>0.058411</td>\n",
       "      <td>140.987000</td>\n",
       "    </tr>\n",
       "  </tbody>\n",
       "</table>\n",
       "</div>"
      ],
      "text/plain": [
       "         Frequency  Angle of Attack  chord_length  Free_stream  Suction Side  \\\n",
       "count   1504.00000      1504.000000   1504.000000  1504.000000   1504.000000   \n",
       "mean    2885.12633         6.782302      0.136593    50.860745      0.011140   \n",
       "std     3151.89955         5.916159      0.093526    15.567603      0.013146   \n",
       "min      200.00000         0.000000      0.025400    31.700000      0.000401   \n",
       "25%      800.00000         2.000000      0.050800    39.600000      0.002535   \n",
       "50%     1600.00000         5.400000      0.101600    39.600000      0.004957   \n",
       "75%     4000.00000         9.900000      0.228600    71.300000      0.015312   \n",
       "max    20000.00000        22.200000      0.304800    71.300000      0.058411   \n",
       "\n",
       "       Scaled Sound  \n",
       "count   1504.000000  \n",
       "mean     124.835943  \n",
       "std        6.896361  \n",
       "min      103.380000  \n",
       "25%      120.192000  \n",
       "50%      125.719000  \n",
       "75%      129.993250  \n",
       "max      140.987000  "
      ]
     },
     "execution_count": 38,
     "metadata": {},
     "output_type": "execute_result"
    }
   ],
   "source": [
    "new_data.describe()"
   ]
  },
  {
   "cell_type": "code",
   "execution_count": 43,
   "id": "13ef1239",
   "metadata": {},
   "outputs": [],
   "source": [
    "# Split X and Y\n",
    "\n",
    "X = new_data[['Frequency','Angle of Attack','chord_length','Free_stream','Suction Side']]\n",
    "y = new_data[['Scaled Sound']]"
   ]
  },
  {
   "cell_type": "code",
   "execution_count": 44,
   "id": "f29ece9a",
   "metadata": {
    "scrolled": true
   },
   "outputs": [
    {
     "data": {
      "text/html": [
       "<div>\n",
       "<style scoped>\n",
       "    .dataframe tbody tr th:only-of-type {\n",
       "        vertical-align: middle;\n",
       "    }\n",
       "\n",
       "    .dataframe tbody tr th {\n",
       "        vertical-align: top;\n",
       "    }\n",
       "\n",
       "    .dataframe thead th {\n",
       "        text-align: right;\n",
       "    }\n",
       "</style>\n",
       "<table border=\"1\" class=\"dataframe\">\n",
       "  <thead>\n",
       "    <tr style=\"text-align: right;\">\n",
       "      <th></th>\n",
       "      <th>Frequency</th>\n",
       "      <th>Angle of Attack</th>\n",
       "      <th>chord_length</th>\n",
       "      <th>Free_stream</th>\n",
       "      <th>Suction Side</th>\n",
       "    </tr>\n",
       "  </thead>\n",
       "  <tbody>\n",
       "    <tr>\n",
       "      <th>0</th>\n",
       "      <td>800.0</td>\n",
       "      <td>0.0</td>\n",
       "      <td>0.3048</td>\n",
       "      <td>71.3</td>\n",
       "      <td>0.002663</td>\n",
       "    </tr>\n",
       "    <tr>\n",
       "      <th>1</th>\n",
       "      <td>1000.0</td>\n",
       "      <td>0.0</td>\n",
       "      <td>0.3048</td>\n",
       "      <td>71.3</td>\n",
       "      <td>0.002663</td>\n",
       "    </tr>\n",
       "    <tr>\n",
       "      <th>2</th>\n",
       "      <td>1250.0</td>\n",
       "      <td>0.0</td>\n",
       "      <td>0.3048</td>\n",
       "      <td>71.3</td>\n",
       "      <td>0.002663</td>\n",
       "    </tr>\n",
       "    <tr>\n",
       "      <th>3</th>\n",
       "      <td>1600.0</td>\n",
       "      <td>0.0</td>\n",
       "      <td>0.3048</td>\n",
       "      <td>71.3</td>\n",
       "      <td>0.002663</td>\n",
       "    </tr>\n",
       "    <tr>\n",
       "      <th>4</th>\n",
       "      <td>2000.0</td>\n",
       "      <td>0.0</td>\n",
       "      <td>0.3048</td>\n",
       "      <td>71.3</td>\n",
       "      <td>0.002663</td>\n",
       "    </tr>\n",
       "    <tr>\n",
       "      <th>...</th>\n",
       "      <td>...</td>\n",
       "      <td>...</td>\n",
       "      <td>...</td>\n",
       "      <td>...</td>\n",
       "      <td>...</td>\n",
       "    </tr>\n",
       "    <tr>\n",
       "      <th>1499</th>\n",
       "      <td>2500.0</td>\n",
       "      <td>15.6</td>\n",
       "      <td>0.1016</td>\n",
       "      <td>39.6</td>\n",
       "      <td>0.052849</td>\n",
       "    </tr>\n",
       "    <tr>\n",
       "      <th>1500</th>\n",
       "      <td>3150.0</td>\n",
       "      <td>15.6</td>\n",
       "      <td>0.1016</td>\n",
       "      <td>39.6</td>\n",
       "      <td>0.052849</td>\n",
       "    </tr>\n",
       "    <tr>\n",
       "      <th>1501</th>\n",
       "      <td>4000.0</td>\n",
       "      <td>15.6</td>\n",
       "      <td>0.1016</td>\n",
       "      <td>39.6</td>\n",
       "      <td>0.052849</td>\n",
       "    </tr>\n",
       "    <tr>\n",
       "      <th>1502</th>\n",
       "      <td>5000.0</td>\n",
       "      <td>15.6</td>\n",
       "      <td>0.1016</td>\n",
       "      <td>39.6</td>\n",
       "      <td>0.052849</td>\n",
       "    </tr>\n",
       "    <tr>\n",
       "      <th>1503</th>\n",
       "      <td>6300.0</td>\n",
       "      <td>15.6</td>\n",
       "      <td>0.1016</td>\n",
       "      <td>39.6</td>\n",
       "      <td>0.052849</td>\n",
       "    </tr>\n",
       "  </tbody>\n",
       "</table>\n",
       "<p>1504 rows × 5 columns</p>\n",
       "</div>"
      ],
      "text/plain": [
       "      Frequency  Angle of Attack  chord_length  Free_stream  Suction Side\n",
       "0         800.0              0.0        0.3048         71.3      0.002663\n",
       "1        1000.0              0.0        0.3048         71.3      0.002663\n",
       "2        1250.0              0.0        0.3048         71.3      0.002663\n",
       "3        1600.0              0.0        0.3048         71.3      0.002663\n",
       "4        2000.0              0.0        0.3048         71.3      0.002663\n",
       "...         ...              ...           ...          ...           ...\n",
       "1499     2500.0             15.6        0.1016         39.6      0.052849\n",
       "1500     3150.0             15.6        0.1016         39.6      0.052849\n",
       "1501     4000.0             15.6        0.1016         39.6      0.052849\n",
       "1502     5000.0             15.6        0.1016         39.6      0.052849\n",
       "1503     6300.0             15.6        0.1016         39.6      0.052849\n",
       "\n",
       "[1504 rows x 5 columns]"
      ]
     },
     "execution_count": 44,
     "metadata": {},
     "output_type": "execute_result"
    }
   ],
   "source": [
    "X"
   ]
  },
  {
   "cell_type": "code",
   "execution_count": 45,
   "id": "7dfedfea",
   "metadata": {},
   "outputs": [
    {
     "data": {
      "text/html": [
       "<div>\n",
       "<style scoped>\n",
       "    .dataframe tbody tr th:only-of-type {\n",
       "        vertical-align: middle;\n",
       "    }\n",
       "\n",
       "    .dataframe tbody tr th {\n",
       "        vertical-align: top;\n",
       "    }\n",
       "\n",
       "    .dataframe thead th {\n",
       "        text-align: right;\n",
       "    }\n",
       "</style>\n",
       "<table border=\"1\" class=\"dataframe\">\n",
       "  <thead>\n",
       "    <tr style=\"text-align: right;\">\n",
       "      <th></th>\n",
       "      <th>Scaled Sound</th>\n",
       "    </tr>\n",
       "  </thead>\n",
       "  <tbody>\n",
       "    <tr>\n",
       "      <th>0</th>\n",
       "      <td>126.201</td>\n",
       "    </tr>\n",
       "    <tr>\n",
       "      <th>1</th>\n",
       "      <td>125.201</td>\n",
       "    </tr>\n",
       "    <tr>\n",
       "      <th>2</th>\n",
       "      <td>125.951</td>\n",
       "    </tr>\n",
       "    <tr>\n",
       "      <th>3</th>\n",
       "      <td>127.591</td>\n",
       "    </tr>\n",
       "    <tr>\n",
       "      <th>4</th>\n",
       "      <td>127.461</td>\n",
       "    </tr>\n",
       "    <tr>\n",
       "      <th>...</th>\n",
       "      <td>...</td>\n",
       "    </tr>\n",
       "    <tr>\n",
       "      <th>1499</th>\n",
       "      <td>110.264</td>\n",
       "    </tr>\n",
       "    <tr>\n",
       "      <th>1500</th>\n",
       "      <td>109.254</td>\n",
       "    </tr>\n",
       "    <tr>\n",
       "      <th>1501</th>\n",
       "      <td>106.604</td>\n",
       "    </tr>\n",
       "    <tr>\n",
       "      <th>1502</th>\n",
       "      <td>106.224</td>\n",
       "    </tr>\n",
       "    <tr>\n",
       "      <th>1503</th>\n",
       "      <td>104.204</td>\n",
       "    </tr>\n",
       "  </tbody>\n",
       "</table>\n",
       "<p>1504 rows × 1 columns</p>\n",
       "</div>"
      ],
      "text/plain": [
       "      Scaled Sound\n",
       "0          126.201\n",
       "1          125.201\n",
       "2          125.951\n",
       "3          127.591\n",
       "4          127.461\n",
       "...            ...\n",
       "1499       110.264\n",
       "1500       109.254\n",
       "1501       106.604\n",
       "1502       106.224\n",
       "1503       104.204\n",
       "\n",
       "[1504 rows x 1 columns]"
      ]
     },
     "execution_count": 45,
     "metadata": {},
     "output_type": "execute_result"
    }
   ],
   "source": [
    "y"
   ]
  },
  {
   "cell_type": "code",
   "execution_count": 50,
   "id": "6629593f",
   "metadata": {},
   "outputs": [
    {
     "data": {
      "image/png": "[encoded data removed]",
      "text/plain": [
       "<Figure size 432x288 with 1 Axes>"
      ]
     },
     "metadata": {
      "needs_background": "light"
     },
     "output_type": "display_data"
    }
   ],
   "source": [
    "# Visualization \n",
    "\n",
    "plt.hist(X)\n",
    "plt.show()"
   ]
  },
  {
   "cell_type": "code",
   "execution_count": 57,
   "id": "d35abfbc",
   "metadata": {},
   "outputs": [
    {
     "data": {
      "text/plain": [
       "((1504, 5), (1504, 1))"
      ]
     },
     "execution_count": 57,
     "metadata": {},
     "output_type": "execute_result"
    }
   ],
   "source": [
    "X.shape,y.shape"
   ]
  },
  {
   "cell_type": "code",
   "execution_count": 59,
   "id": "f4e3010b",
   "metadata": {},
   "outputs": [
    {
     "data": {
      "text/plain": [
       "LinearRegression()"
      ]
     },
     "execution_count": 59,
     "metadata": {},
     "output_type": "execute_result"
    }
   ],
   "source": [
    "# Linear Algorithm\n",
    "\n",
    "from sklearn import linear_model \n",
    "model = linear_model.LinearRegression()\n",
    "model.fit(X,y)"
   ]
  },
  {
   "cell_type": "markdown",
   "id": "16708c71",
   "metadata": {},
   "source": [
    "# Now we have trained the model based on X and y\n",
    "# So,We are going to predict the test data based upon the trained data"
   ]
  },
  {
   "cell_type": "code",
   "execution_count": 61,
   "id": "0b8e5f90",
   "metadata": {
    "scrolled": true
   },
   "outputs": [
    {
     "name": "stdout",
     "output_type": "stream",
     "text": [
      "[[127.65759491]]\n"
     ]
    }
   ],
   "source": [
    "print(model.predict([[800,0,0.3048,71.3,0.00266337]]))"
   ]
  },
  {
   "cell_type": "code",
   "execution_count": null,
   "id": "a608b498",
   "metadata": {},
   "outputs": [],
   "source": [
    "# Accuracy"
   ]
  },
  {
   "cell_type": "markdown",
   "id": "0ec845a9",
   "metadata": {},
   "source": [
    "# This method is called train and test split method. Here we can find the accuracy of the data based upon the model that we are training. In the below cell we have used linear regression."
   ]
  },
  {
   "cell_type": "code",
   "execution_count": 67,
   "id": "050dd88b",
   "metadata": {},
   "outputs": [
    {
     "name": "stdout",
     "output_type": "stream",
     "text": [
      "R2 Score 0.4732325666346989\n"
     ]
    }
   ],
   "source": [
    "from sklearn.metrics import r2_score \n",
    "from sklearn.model_selection import train_test_split\n",
    "X_train, X_test, y_train, y_test = train_test_split(X, y, test_size=0.2, random_state=12)\n",
    "new_model = linear_model.LinearRegression()\n",
    "new_model.fit(X_train, y_train) \n",
    "y_pred = new_model.predict(X_test)\n",
    "print(\"R2 Score\",r2_score(y_test, y_pred)) "
   ]
  },
  {
   "cell_type": "markdown",
   "id": "b5689b9e",
   "metadata": {},
   "source": [
    "# Ridge Algorithm"
   ]
  },
  {
   "cell_type": "code",
   "execution_count": 69,
   "id": "809c9775",
   "metadata": {},
   "outputs": [
    {
     "name": "stdout",
     "output_type": "stream",
     "text": [
      "R2 Score 0.48836239915426205\n"
     ]
    }
   ],
   "source": [
    "from sklearn.linear_model import Ridge\n",
    "\n",
    "model_RD = Ridge()\n",
    "model_RD.fit(X_train, y_train)\n",
    "y_pred = model_RD.predict(X_test)\n",
    "print(\"R2 Score\",r2_score(y_test,y_pred))"
   ]
  },
  {
   "cell_type": "markdown",
   "id": "85cbb6d8",
   "metadata": {},
   "source": [
    "# Lasso Algorithm"
   ]
  },
  {
   "cell_type": "code",
   "execution_count": 70,
   "id": "d884168d",
   "metadata": {},
   "outputs": [
    {
     "name": "stdout",
     "output_type": "stream",
     "text": [
      "R2 Score 0.271466454357538\n"
     ]
    }
   ],
   "source": [
    "from sklearn.linear_model import Lasso \n",
    "\n",
    "model_LS = Lasso()\n",
    "model_Ls.fit(X_train, y_train)\n",
    "y_pred = model_LS.predict(X_test)\n",
    "print(\"R2 Score\",r2_score(y_test,y_pred))"
   ]
  },
  {
   "cell_type": "markdown",
   "id": "7bd4ec5d",
   "metadata": {},
   "source": [
    "# Elastic Net Regression"
   ]
  },
  {
   "cell_type": "code",
   "execution_count": 71,
   "id": "22bf1b25",
   "metadata": {},
   "outputs": [
    {
     "name": "stdout",
     "output_type": "stream",
     "text": [
      "R2 Score 0.271466454357538\n"
     ]
    }
   ],
   "source": [
    "from sklearn.linear_model import ElasticNet \n",
    "\n",
    "model_EN = Lasso()\n",
    "model_EN.fit(X_train, y_train)\n",
    "y_pred = model_EN.predict(X_test)\n",
    "print(\"R2 Score\",r2_score(y_test,y_pred))"
   ]
  },
  {
   "cell_type": "markdown",
   "id": "d308c474",
   "metadata": {},
   "source": [
    "# Support Vector Algorithm"
   ]
  },
  {
   "cell_type": "code",
   "execution_count": 72,
   "id": "14417e45",
   "metadata": {},
   "outputs": [
    {
     "name": "stderr",
     "output_type": "stream",
     "text": [
      "/home/iy/anaconda3/lib/python3.8/site-packages/sklearn/utils/validation.py:63: DataConversionWarning: A column-vector y was passed when a 1d array was expected. Please change the shape of y to (n_samples, ), for example using ravel().\n",
      "  return f(*args, **kwargs)\n"
     ]
    },
    {
     "name": "stdout",
     "output_type": "stream",
     "text": [
      "R2 Score 0.214065173369695\n"
     ]
    }
   ],
   "source": [
    "from sklearn import svm \n",
    "\n",
    "model = svm.SVR(kernel='rbf', C=1000)\n",
    "model.fit(X_train, y_train) \n",
    "y_pred = model.predict(X_test) \n",
    "print(\"R2 Score\",r2_score(y_test,y_pred))"
   ]
  },
  {
   "cell_type": "markdown",
   "id": "59335798",
   "metadata": {},
   "source": [
    "# Random Forest Regreesion"
   ]
  },
  {
   "cell_type": "code",
   "execution_count": 73,
   "id": "376e0cbc",
   "metadata": {},
   "outputs": [
    {
     "name": "stderr",
     "output_type": "stream",
     "text": [
      "<ipython-input-73-227b41f0ed93>:4: DataConversionWarning: A column-vector y was passed when a 1d array was expected. Please change the shape of y to (n_samples,), for example using ravel().\n",
      "  model_RF.fit(X_train, y_train)\n"
     ]
    },
    {
     "name": "stdout",
     "output_type": "stream",
     "text": [
      "R2 Score 0.6823250833112939\n"
     ]
    }
   ],
   "source": [
    "from sklearn.ensemble import RandomForestRegressor\n",
    "\n",
    "model_RF = RandomForestRegressor(max_depth=5, random_state=0)\n",
    "model_RF.fit(X_train, y_train)\n",
    "y_pred = model_RF.predict(X_test)\n",
    "\n",
    "print(\"R2 Score\",r2_score(y_test, y_pred))"
   ]
  },
  {
   "cell_type": "markdown",
   "id": "8989501b",
   "metadata": {},
   "source": [
    "# Gradien Booster"
   ]
  },
  {
   "cell_type": "code",
   "execution_count": 74,
   "id": "44c5f880",
   "metadata": {},
   "outputs": [
    {
     "name": "stderr",
     "output_type": "stream",
     "text": [
      "/home/iy/anaconda3/lib/python3.8/site-packages/sklearn/utils/validation.py:63: DataConversionWarning: A column-vector y was passed when a 1d array was expected. Please change the shape of y to (n_samples, ), for example using ravel().\n",
      "  return f(*args, **kwargs)\n"
     ]
    },
    {
     "name": "stdout",
     "output_type": "stream",
     "text": [
      "R2 Score 0.8590464863609104\n"
     ]
    }
   ],
   "source": [
    "from sklearn.ensemble import GradientBoostingRegressor\n",
    "\n",
    "model = GradientBoostingRegressor()\n",
    "model.fit(X_train, y_train)\n",
    "y_pred = model.predict(X_test)\n",
    "\n",
    "print(\"R2 Score\",r2_score(y_test, y_pred))"
   ]
  },
  {
   "cell_type": "markdown",
   "id": "40f2868e",
   "metadata": {},
   "source": [
    "# Conclusion"
   ]
  },
  {
   "cell_type": "markdown",
   "id": "62552b5a",
   "metadata": {},
   "source": [
    "## For this Air Foil dataset Gradient Booster gives the maximum accuracy of 85%"
   ]
  }
 ],
 "metadata": {
  "kernelspec": {
   "display_name": "Python 3",
   "language": "python",
   "name": "python3"
  },
  "language_info": {
   "codemirror_mode": {
    "name": "ipython",
    "version": 3
   },
   "file_extension": ".py",
   "mimetype": "text/x-python",
   "name": "python",
   "nbconvert_exporter": "python",
   "pygments_lexer": "ipython3",
   "version": "3.8.8"
  }
 },
 "nbformat": 4,
 "nbformat_minor": 5
}
