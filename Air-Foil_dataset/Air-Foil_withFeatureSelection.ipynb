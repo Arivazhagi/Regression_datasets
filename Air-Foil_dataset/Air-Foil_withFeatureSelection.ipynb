{
 "cells": [
  {
   "cell_type": "markdown",
   "id": "c7811fde",
   "metadata": {},
   "source": [
    "# Air_Foil_DataSet"
   ]
  },
  {
   "cell_type": "markdown",
   "id": "46ced749",
   "metadata": {},
   "source": [
    "### Importing packages"
   ]
  },
  {
   "cell_type": "code",
   "execution_count": 1,
   "id": "f9f6906c",
   "metadata": {},
   "outputs": [],
   "source": [
    "import numpy as np\n",
    "import pandas as pd\n",
    "import matplotlib.pyplot as plt\n",
    "import seaborn as sns\n",
    "import warnings\n",
    "warnings.filterwarnings('ignore')\n",
    "from sklearn.impute import SimpleImputer\n",
    "from scipy import stats\n",
    "from scipy.stats import norm, skew\n",
    "from sklearn.model_selection import train_test_split\n",
    "from sklearn.linear_model import LinearRegression\n"
   ]
  },
  {
   "cell_type": "markdown",
   "id": "6541903d",
   "metadata": {},
   "source": [
    "### Load the dataset"
   ]
  },
  {
   "cell_type": "code",
   "execution_count": 2,
   "id": "ded3c4e3",
   "metadata": {},
   "outputs": [],
   "source": [
    "# Now we use read.csv() function from pandas to read the data from the csv and stores in the form of a data frame\n",
    "\n",
    "df = pd.read_csv(\"air.csv\")"
   ]
  },
  {
   "cell_type": "markdown",
   "id": "54e77cab",
   "metadata": {},
   "source": [
    "### View the data"
   ]
  },
  {
   "cell_type": "code",
   "execution_count": 3,
   "id": "e99075b3",
   "metadata": {},
   "outputs": [
    {
     "data": {
      "text/html": [
       "<div>\n",
       "<style scoped>\n",
       "    .dataframe tbody tr th:only-of-type {\n",
       "        vertical-align: middle;\n",
       "    }\n",
       "\n",
       "    .dataframe tbody tr th {\n",
       "        vertical-align: top;\n",
       "    }\n",
       "\n",
       "    .dataframe thead th {\n",
       "        text-align: right;\n",
       "    }\n",
       "</style>\n",
       "<table border=\"1\" class=\"dataframe\">\n",
       "  <thead>\n",
       "    <tr style=\"text-align: right;\">\n",
       "      <th></th>\n",
       "      <th>Frequency</th>\n",
       "      <th>Angle of Attack</th>\n",
       "      <th>chord_length</th>\n",
       "      <th>Free_stream</th>\n",
       "      <th>Suction Side</th>\n",
       "      <th>Scaled Sound</th>\n",
       "    </tr>\n",
       "  </thead>\n",
       "  <tbody>\n",
       "    <tr>\n",
       "      <th>0</th>\n",
       "      <td>800</td>\n",
       "      <td>0.0</td>\n",
       "      <td>0.3048</td>\n",
       "      <td>71.3</td>\n",
       "      <td>0.002663</td>\n",
       "      <td>126.201</td>\n",
       "    </tr>\n",
       "    <tr>\n",
       "      <th>1</th>\n",
       "      <td>1000</td>\n",
       "      <td>0.0</td>\n",
       "      <td>0.3048</td>\n",
       "      <td>71.3</td>\n",
       "      <td>0.002663</td>\n",
       "      <td>125.201</td>\n",
       "    </tr>\n",
       "    <tr>\n",
       "      <th>2</th>\n",
       "      <td>1250</td>\n",
       "      <td>0.0</td>\n",
       "      <td>0.3048</td>\n",
       "      <td>71.3</td>\n",
       "      <td>0.002663</td>\n",
       "      <td>125.951</td>\n",
       "    </tr>\n",
       "    <tr>\n",
       "      <th>3</th>\n",
       "      <td>1600</td>\n",
       "      <td>0.0</td>\n",
       "      <td>0.3048</td>\n",
       "      <td>71.3</td>\n",
       "      <td>0.002663</td>\n",
       "      <td>127.591</td>\n",
       "    </tr>\n",
       "    <tr>\n",
       "      <th>4</th>\n",
       "      <td>2000</td>\n",
       "      <td>0.0</td>\n",
       "      <td>0.3048</td>\n",
       "      <td>71.3</td>\n",
       "      <td>0.002663</td>\n",
       "      <td>127.461</td>\n",
       "    </tr>\n",
       "    <tr>\n",
       "      <th>...</th>\n",
       "      <td>...</td>\n",
       "      <td>...</td>\n",
       "      <td>...</td>\n",
       "      <td>...</td>\n",
       "      <td>...</td>\n",
       "      <td>...</td>\n",
       "    </tr>\n",
       "    <tr>\n",
       "      <th>1499</th>\n",
       "      <td>2500</td>\n",
       "      <td>15.6</td>\n",
       "      <td>0.1016</td>\n",
       "      <td>39.6</td>\n",
       "      <td>0.052849</td>\n",
       "      <td>110.264</td>\n",
       "    </tr>\n",
       "    <tr>\n",
       "      <th>1500</th>\n",
       "      <td>3150</td>\n",
       "      <td>15.6</td>\n",
       "      <td>0.1016</td>\n",
       "      <td>39.6</td>\n",
       "      <td>0.052849</td>\n",
       "      <td>109.254</td>\n",
       "    </tr>\n",
       "    <tr>\n",
       "      <th>1501</th>\n",
       "      <td>4000</td>\n",
       "      <td>15.6</td>\n",
       "      <td>0.1016</td>\n",
       "      <td>39.6</td>\n",
       "      <td>0.052849</td>\n",
       "      <td>106.604</td>\n",
       "    </tr>\n",
       "    <tr>\n",
       "      <th>1502</th>\n",
       "      <td>5000</td>\n",
       "      <td>15.6</td>\n",
       "      <td>0.1016</td>\n",
       "      <td>39.6</td>\n",
       "      <td>0.052849</td>\n",
       "      <td>106.224</td>\n",
       "    </tr>\n",
       "    <tr>\n",
       "      <th>1503</th>\n",
       "      <td>6300</td>\n",
       "      <td>15.6</td>\n",
       "      <td>0.1016</td>\n",
       "      <td>39.6</td>\n",
       "      <td>0.052849</td>\n",
       "      <td>104.204</td>\n",
       "    </tr>\n",
       "  </tbody>\n",
       "</table>\n",
       "<p>1504 rows × 6 columns</p>\n",
       "</div>"
      ],
      "text/plain": [
       "      Frequency  Angle of Attack  chord_length  Free_stream  Suction Side  \\\n",
       "0           800              0.0        0.3048         71.3      0.002663   \n",
       "1          1000              0.0        0.3048         71.3      0.002663   \n",
       "2          1250              0.0        0.3048         71.3      0.002663   \n",
       "3          1600              0.0        0.3048         71.3      0.002663   \n",
       "4          2000              0.0        0.3048         71.3      0.002663   \n",
       "...         ...              ...           ...          ...           ...   \n",
       "1499       2500             15.6        0.1016         39.6      0.052849   \n",
       "1500       3150             15.6        0.1016         39.6      0.052849   \n",
       "1501       4000             15.6        0.1016         39.6      0.052849   \n",
       "1502       5000             15.6        0.1016         39.6      0.052849   \n",
       "1503       6300             15.6        0.1016         39.6      0.052849   \n",
       "\n",
       "      Scaled Sound  \n",
       "0          126.201  \n",
       "1          125.201  \n",
       "2          125.951  \n",
       "3          127.591  \n",
       "4          127.461  \n",
       "...            ...  \n",
       "1499       110.264  \n",
       "1500       109.254  \n",
       "1501       106.604  \n",
       "1502       106.224  \n",
       "1503       104.204  \n",
       "\n",
       "[1504 rows x 6 columns]"
      ]
     },
     "execution_count": 3,
     "metadata": {},
     "output_type": "execute_result"
    }
   ],
   "source": [
    "df"
   ]
  },
  {
   "cell_type": "markdown",
   "id": "904ab365",
   "metadata": {},
   "source": [
    "### Deep copy and Shallow copy"
   ]
  },
  {
   "cell_type": "code",
   "execution_count": 4,
   "id": "6e2d9fdd",
   "metadata": {},
   "outputs": [],
   "source": [
    "data = df    # will be using data further by creating a copy from df so that the original is intact"
   ]
  },
  {
   "cell_type": "code",
   "execution_count": 5,
   "id": "13e00e2b",
   "metadata": {
    "scrolled": true
   },
   "outputs": [
    {
     "data": {
      "text/html": [
       "<div>\n",
       "<style scoped>\n",
       "    .dataframe tbody tr th:only-of-type {\n",
       "        vertical-align: middle;\n",
       "    }\n",
       "\n",
       "    .dataframe tbody tr th {\n",
       "        vertical-align: top;\n",
       "    }\n",
       "\n",
       "    .dataframe thead th {\n",
       "        text-align: right;\n",
       "    }\n",
       "</style>\n",
       "<table border=\"1\" class=\"dataframe\">\n",
       "  <thead>\n",
       "    <tr style=\"text-align: right;\">\n",
       "      <th></th>\n",
       "      <th>Frequency</th>\n",
       "      <th>Angle of Attack</th>\n",
       "      <th>chord_length</th>\n",
       "      <th>Free_stream</th>\n",
       "      <th>Suction Side</th>\n",
       "      <th>Scaled Sound</th>\n",
       "    </tr>\n",
       "  </thead>\n",
       "  <tbody>\n",
       "    <tr>\n",
       "      <th>0</th>\n",
       "      <td>800</td>\n",
       "      <td>0.0</td>\n",
       "      <td>0.3048</td>\n",
       "      <td>71.3</td>\n",
       "      <td>0.002663</td>\n",
       "      <td>126.201</td>\n",
       "    </tr>\n",
       "    <tr>\n",
       "      <th>1</th>\n",
       "      <td>1000</td>\n",
       "      <td>0.0</td>\n",
       "      <td>0.3048</td>\n",
       "      <td>71.3</td>\n",
       "      <td>0.002663</td>\n",
       "      <td>125.201</td>\n",
       "    </tr>\n",
       "    <tr>\n",
       "      <th>2</th>\n",
       "      <td>1250</td>\n",
       "      <td>0.0</td>\n",
       "      <td>0.3048</td>\n",
       "      <td>71.3</td>\n",
       "      <td>0.002663</td>\n",
       "      <td>125.951</td>\n",
       "    </tr>\n",
       "    <tr>\n",
       "      <th>3</th>\n",
       "      <td>1600</td>\n",
       "      <td>0.0</td>\n",
       "      <td>0.3048</td>\n",
       "      <td>71.3</td>\n",
       "      <td>0.002663</td>\n",
       "      <td>127.591</td>\n",
       "    </tr>\n",
       "    <tr>\n",
       "      <th>4</th>\n",
       "      <td>2000</td>\n",
       "      <td>0.0</td>\n",
       "      <td>0.3048</td>\n",
       "      <td>71.3</td>\n",
       "      <td>0.002663</td>\n",
       "      <td>127.461</td>\n",
       "    </tr>\n",
       "    <tr>\n",
       "      <th>...</th>\n",
       "      <td>...</td>\n",
       "      <td>...</td>\n",
       "      <td>...</td>\n",
       "      <td>...</td>\n",
       "      <td>...</td>\n",
       "      <td>...</td>\n",
       "    </tr>\n",
       "    <tr>\n",
       "      <th>1499</th>\n",
       "      <td>2500</td>\n",
       "      <td>15.6</td>\n",
       "      <td>0.1016</td>\n",
       "      <td>39.6</td>\n",
       "      <td>0.052849</td>\n",
       "      <td>110.264</td>\n",
       "    </tr>\n",
       "    <tr>\n",
       "      <th>1500</th>\n",
       "      <td>3150</td>\n",
       "      <td>15.6</td>\n",
       "      <td>0.1016</td>\n",
       "      <td>39.6</td>\n",
       "      <td>0.052849</td>\n",
       "      <td>109.254</td>\n",
       "    </tr>\n",
       "    <tr>\n",
       "      <th>1501</th>\n",
       "      <td>4000</td>\n",
       "      <td>15.6</td>\n",
       "      <td>0.1016</td>\n",
       "      <td>39.6</td>\n",
       "      <td>0.052849</td>\n",
       "      <td>106.604</td>\n",
       "    </tr>\n",
       "    <tr>\n",
       "      <th>1502</th>\n",
       "      <td>5000</td>\n",
       "      <td>15.6</td>\n",
       "      <td>0.1016</td>\n",
       "      <td>39.6</td>\n",
       "      <td>0.052849</td>\n",
       "      <td>106.224</td>\n",
       "    </tr>\n",
       "    <tr>\n",
       "      <th>1503</th>\n",
       "      <td>6300</td>\n",
       "      <td>15.6</td>\n",
       "      <td>0.1016</td>\n",
       "      <td>39.6</td>\n",
       "      <td>0.052849</td>\n",
       "      <td>104.204</td>\n",
       "    </tr>\n",
       "  </tbody>\n",
       "</table>\n",
       "<p>1504 rows × 6 columns</p>\n",
       "</div>"
      ],
      "text/plain": [
       "      Frequency  Angle of Attack  chord_length  Free_stream  Suction Side  \\\n",
       "0           800              0.0        0.3048         71.3      0.002663   \n",
       "1          1000              0.0        0.3048         71.3      0.002663   \n",
       "2          1250              0.0        0.3048         71.3      0.002663   \n",
       "3          1600              0.0        0.3048         71.3      0.002663   \n",
       "4          2000              0.0        0.3048         71.3      0.002663   \n",
       "...         ...              ...           ...          ...           ...   \n",
       "1499       2500             15.6        0.1016         39.6      0.052849   \n",
       "1500       3150             15.6        0.1016         39.6      0.052849   \n",
       "1501       4000             15.6        0.1016         39.6      0.052849   \n",
       "1502       5000             15.6        0.1016         39.6      0.052849   \n",
       "1503       6300             15.6        0.1016         39.6      0.052849   \n",
       "\n",
       "      Scaled Sound  \n",
       "0          126.201  \n",
       "1          125.201  \n",
       "2          125.951  \n",
       "3          127.591  \n",
       "4          127.461  \n",
       "...            ...  \n",
       "1499       110.264  \n",
       "1500       109.254  \n",
       "1501       106.604  \n",
       "1502       106.224  \n",
       "1503       104.204  \n",
       "\n",
       "[1504 rows x 6 columns]"
      ]
     },
     "execution_count": 5,
     "metadata": {},
     "output_type": "execute_result"
    }
   ],
   "source": [
    "# View the copied dataframe\n",
    "data"
   ]
  },
  {
   "cell_type": "markdown",
   "id": "32778d64",
   "metadata": {},
   "source": [
    "### Exploratory Data Analysis"
   ]
  },
  {
   "cell_type": "code",
   "execution_count": 6,
   "id": "819e8955",
   "metadata": {},
   "outputs": [
    {
     "data": {
      "text/html": [
       "<div>\n",
       "<style scoped>\n",
       "    .dataframe tbody tr th:only-of-type {\n",
       "        vertical-align: middle;\n",
       "    }\n",
       "\n",
       "    .dataframe tbody tr th {\n",
       "        vertical-align: top;\n",
       "    }\n",
       "\n",
       "    .dataframe thead th {\n",
       "        text-align: right;\n",
       "    }\n",
       "</style>\n",
       "<table border=\"1\" class=\"dataframe\">\n",
       "  <thead>\n",
       "    <tr style=\"text-align: right;\">\n",
       "      <th></th>\n",
       "      <th>Frequency</th>\n",
       "      <th>Angle of Attack</th>\n",
       "      <th>chord_length</th>\n",
       "      <th>Free_stream</th>\n",
       "      <th>Suction Side</th>\n",
       "      <th>Scaled Sound</th>\n",
       "    </tr>\n",
       "  </thead>\n",
       "  <tbody>\n",
       "    <tr>\n",
       "      <th>0</th>\n",
       "      <td>800</td>\n",
       "      <td>0.0</td>\n",
       "      <td>0.3048</td>\n",
       "      <td>71.3</td>\n",
       "      <td>0.002663</td>\n",
       "      <td>126.201</td>\n",
       "    </tr>\n",
       "    <tr>\n",
       "      <th>1</th>\n",
       "      <td>1000</td>\n",
       "      <td>0.0</td>\n",
       "      <td>0.3048</td>\n",
       "      <td>71.3</td>\n",
       "      <td>0.002663</td>\n",
       "      <td>125.201</td>\n",
       "    </tr>\n",
       "    <tr>\n",
       "      <th>2</th>\n",
       "      <td>1250</td>\n",
       "      <td>0.0</td>\n",
       "      <td>0.3048</td>\n",
       "      <td>71.3</td>\n",
       "      <td>0.002663</td>\n",
       "      <td>125.951</td>\n",
       "    </tr>\n",
       "    <tr>\n",
       "      <th>3</th>\n",
       "      <td>1600</td>\n",
       "      <td>0.0</td>\n",
       "      <td>0.3048</td>\n",
       "      <td>71.3</td>\n",
       "      <td>0.002663</td>\n",
       "      <td>127.591</td>\n",
       "    </tr>\n",
       "    <tr>\n",
       "      <th>4</th>\n",
       "      <td>2000</td>\n",
       "      <td>0.0</td>\n",
       "      <td>0.3048</td>\n",
       "      <td>71.3</td>\n",
       "      <td>0.002663</td>\n",
       "      <td>127.461</td>\n",
       "    </tr>\n",
       "  </tbody>\n",
       "</table>\n",
       "</div>"
      ],
      "text/plain": [
       "   Frequency  Angle of Attack  chord_length  Free_stream  Suction Side  \\\n",
       "0        800              0.0        0.3048         71.3      0.002663   \n",
       "1       1000              0.0        0.3048         71.3      0.002663   \n",
       "2       1250              0.0        0.3048         71.3      0.002663   \n",
       "3       1600              0.0        0.3048         71.3      0.002663   \n",
       "4       2000              0.0        0.3048         71.3      0.002663   \n",
       "\n",
       "   Scaled Sound  \n",
       "0       126.201  \n",
       "1       125.201  \n",
       "2       125.951  \n",
       "3       127.591  \n",
       "4       127.461  "
      ]
     },
     "execution_count": 6,
     "metadata": {},
     "output_type": "execute_result"
    }
   ],
   "source": [
    "# using head function we can retreive the top data\n",
    "\n",
    "data.head()"
   ]
  },
  {
   "cell_type": "code",
   "execution_count": 7,
   "id": "6f48cb95",
   "metadata": {},
   "outputs": [
    {
     "data": {
      "text/html": [
       "<div>\n",
       "<style scoped>\n",
       "    .dataframe tbody tr th:only-of-type {\n",
       "        vertical-align: middle;\n",
       "    }\n",
       "\n",
       "    .dataframe tbody tr th {\n",
       "        vertical-align: top;\n",
       "    }\n",
       "\n",
       "    .dataframe thead th {\n",
       "        text-align: right;\n",
       "    }\n",
       "</style>\n",
       "<table border=\"1\" class=\"dataframe\">\n",
       "  <thead>\n",
       "    <tr style=\"text-align: right;\">\n",
       "      <th></th>\n",
       "      <th>Frequency</th>\n",
       "      <th>Angle of Attack</th>\n",
       "      <th>chord_length</th>\n",
       "      <th>Free_stream</th>\n",
       "      <th>Suction Side</th>\n",
       "      <th>Scaled Sound</th>\n",
       "    </tr>\n",
       "  </thead>\n",
       "  <tbody>\n",
       "    <tr>\n",
       "      <th>1499</th>\n",
       "      <td>2500</td>\n",
       "      <td>15.6</td>\n",
       "      <td>0.1016</td>\n",
       "      <td>39.6</td>\n",
       "      <td>0.052849</td>\n",
       "      <td>110.264</td>\n",
       "    </tr>\n",
       "    <tr>\n",
       "      <th>1500</th>\n",
       "      <td>3150</td>\n",
       "      <td>15.6</td>\n",
       "      <td>0.1016</td>\n",
       "      <td>39.6</td>\n",
       "      <td>0.052849</td>\n",
       "      <td>109.254</td>\n",
       "    </tr>\n",
       "    <tr>\n",
       "      <th>1501</th>\n",
       "      <td>4000</td>\n",
       "      <td>15.6</td>\n",
       "      <td>0.1016</td>\n",
       "      <td>39.6</td>\n",
       "      <td>0.052849</td>\n",
       "      <td>106.604</td>\n",
       "    </tr>\n",
       "    <tr>\n",
       "      <th>1502</th>\n",
       "      <td>5000</td>\n",
       "      <td>15.6</td>\n",
       "      <td>0.1016</td>\n",
       "      <td>39.6</td>\n",
       "      <td>0.052849</td>\n",
       "      <td>106.224</td>\n",
       "    </tr>\n",
       "    <tr>\n",
       "      <th>1503</th>\n",
       "      <td>6300</td>\n",
       "      <td>15.6</td>\n",
       "      <td>0.1016</td>\n",
       "      <td>39.6</td>\n",
       "      <td>0.052849</td>\n",
       "      <td>104.204</td>\n",
       "    </tr>\n",
       "  </tbody>\n",
       "</table>\n",
       "</div>"
      ],
      "text/plain": [
       "      Frequency  Angle of Attack  chord_length  Free_stream  Suction Side  \\\n",
       "1499       2500             15.6        0.1016         39.6      0.052849   \n",
       "1500       3150             15.6        0.1016         39.6      0.052849   \n",
       "1501       4000             15.6        0.1016         39.6      0.052849   \n",
       "1502       5000             15.6        0.1016         39.6      0.052849   \n",
       "1503       6300             15.6        0.1016         39.6      0.052849   \n",
       "\n",
       "      Scaled Sound  \n",
       "1499       110.264  \n",
       "1500       109.254  \n",
       "1501       106.604  \n",
       "1502       106.224  \n",
       "1503       104.204  "
      ]
     },
     "execution_count": 7,
     "metadata": {},
     "output_type": "execute_result"
    }
   ],
   "source": [
    "# using tail function we can retreive the bottom data\n",
    "\n",
    "data.tail()"
   ]
  },
  {
   "cell_type": "code",
   "execution_count": 8,
   "id": "c184f53b",
   "metadata": {
    "scrolled": false
   },
   "outputs": [
    {
     "data": {
      "text/html": [
       "<div>\n",
       "<style scoped>\n",
       "    .dataframe tbody tr th:only-of-type {\n",
       "        vertical-align: middle;\n",
       "    }\n",
       "\n",
       "    .dataframe tbody tr th {\n",
       "        vertical-align: top;\n",
       "    }\n",
       "\n",
       "    .dataframe thead th {\n",
       "        text-align: right;\n",
       "    }\n",
       "</style>\n",
       "<table border=\"1\" class=\"dataframe\">\n",
       "  <thead>\n",
       "    <tr style=\"text-align: right;\">\n",
       "      <th></th>\n",
       "      <th>Frequency</th>\n",
       "      <th>Angle of Attack</th>\n",
       "      <th>chord_length</th>\n",
       "      <th>Free_stream</th>\n",
       "      <th>Suction Side</th>\n",
       "      <th>Scaled Sound</th>\n",
       "    </tr>\n",
       "  </thead>\n",
       "  <tbody>\n",
       "    <tr>\n",
       "      <th>count</th>\n",
       "      <td>1504.00000</td>\n",
       "      <td>1503.000000</td>\n",
       "      <td>1504.000000</td>\n",
       "      <td>1503.000000</td>\n",
       "      <td>1503.000000</td>\n",
       "      <td>1503.000000</td>\n",
       "    </tr>\n",
       "    <tr>\n",
       "      <th>mean</th>\n",
       "      <td>2885.12633</td>\n",
       "      <td>6.782302</td>\n",
       "      <td>0.136593</td>\n",
       "      <td>50.860745</td>\n",
       "      <td>0.011140</td>\n",
       "      <td>124.835943</td>\n",
       "    </tr>\n",
       "    <tr>\n",
       "      <th>std</th>\n",
       "      <td>3151.89955</td>\n",
       "      <td>5.918128</td>\n",
       "      <td>0.093526</td>\n",
       "      <td>15.572784</td>\n",
       "      <td>0.013150</td>\n",
       "      <td>6.898657</td>\n",
       "    </tr>\n",
       "    <tr>\n",
       "      <th>min</th>\n",
       "      <td>200.00000</td>\n",
       "      <td>0.000000</td>\n",
       "      <td>0.025400</td>\n",
       "      <td>31.700000</td>\n",
       "      <td>0.000401</td>\n",
       "      <td>103.380000</td>\n",
       "    </tr>\n",
       "    <tr>\n",
       "      <th>25%</th>\n",
       "      <td>800.00000</td>\n",
       "      <td>2.000000</td>\n",
       "      <td>0.050800</td>\n",
       "      <td>39.600000</td>\n",
       "      <td>0.002535</td>\n",
       "      <td>120.191000</td>\n",
       "    </tr>\n",
       "    <tr>\n",
       "      <th>50%</th>\n",
       "      <td>1600.00000</td>\n",
       "      <td>5.400000</td>\n",
       "      <td>0.101600</td>\n",
       "      <td>39.600000</td>\n",
       "      <td>0.004957</td>\n",
       "      <td>125.721000</td>\n",
       "    </tr>\n",
       "    <tr>\n",
       "      <th>75%</th>\n",
       "      <td>4000.00000</td>\n",
       "      <td>9.900000</td>\n",
       "      <td>0.228600</td>\n",
       "      <td>71.300000</td>\n",
       "      <td>0.015576</td>\n",
       "      <td>129.995500</td>\n",
       "    </tr>\n",
       "    <tr>\n",
       "      <th>max</th>\n",
       "      <td>20000.00000</td>\n",
       "      <td>22.200000</td>\n",
       "      <td>0.304800</td>\n",
       "      <td>71.300000</td>\n",
       "      <td>0.058411</td>\n",
       "      <td>140.987000</td>\n",
       "    </tr>\n",
       "  </tbody>\n",
       "</table>\n",
       "</div>"
      ],
      "text/plain": [
       "         Frequency  Angle of Attack  chord_length  Free_stream  Suction Side  \\\n",
       "count   1504.00000      1503.000000   1504.000000  1503.000000   1503.000000   \n",
       "mean    2885.12633         6.782302      0.136593    50.860745      0.011140   \n",
       "std     3151.89955         5.918128      0.093526    15.572784      0.013150   \n",
       "min      200.00000         0.000000      0.025400    31.700000      0.000401   \n",
       "25%      800.00000         2.000000      0.050800    39.600000      0.002535   \n",
       "50%     1600.00000         5.400000      0.101600    39.600000      0.004957   \n",
       "75%     4000.00000         9.900000      0.228600    71.300000      0.015576   \n",
       "max    20000.00000        22.200000      0.304800    71.300000      0.058411   \n",
       "\n",
       "       Scaled Sound  \n",
       "count   1503.000000  \n",
       "mean     124.835943  \n",
       "std        6.898657  \n",
       "min      103.380000  \n",
       "25%      120.191000  \n",
       "50%      125.721000  \n",
       "75%      129.995500  \n",
       "max      140.987000  "
      ]
     },
     "execution_count": 8,
     "metadata": {},
     "output_type": "execute_result"
    }
   ],
   "source": [
    "# We use .describe function to see the basic statistics details of the data.\n",
    "\n",
    "data.describe()"
   ]
  },
  {
   "cell_type": "code",
   "execution_count": 9,
   "id": "f820e52a",
   "metadata": {
    "scrolled": true
   },
   "outputs": [
    {
     "name": "stdout",
     "output_type": "stream",
     "text": [
      "<class 'pandas.core.frame.DataFrame'>\n",
      "RangeIndex: 1504 entries, 0 to 1503\n",
      "Data columns (total 6 columns):\n",
      " #   Column           Non-Null Count  Dtype  \n",
      "---  ------           --------------  -----  \n",
      " 0   Frequency        1504 non-null   int64  \n",
      " 1   Angle of Attack  1503 non-null   float64\n",
      " 2   chord_length     1504 non-null   float64\n",
      " 3   Free_stream      1503 non-null   float64\n",
      " 4   Suction Side     1503 non-null   float64\n",
      " 5   Scaled Sound     1503 non-null   float64\n",
      "dtypes: float64(5), int64(1)\n",
      "memory usage: 70.6 KB\n"
     ]
    }
   ],
   "source": [
    "# Get the information about the AirFoil dataframe\n",
    "\n",
    "data.info()"
   ]
  },
  {
   "cell_type": "code",
   "execution_count": 10,
   "id": "cd434d7e",
   "metadata": {},
   "outputs": [
    {
     "data": {
      "text/plain": [
       "(1504, 6)"
      ]
     },
     "execution_count": 10,
     "metadata": {},
     "output_type": "execute_result"
    }
   ],
   "source": [
    "# .shape gives the tuple of the rows and the columns \n",
    "\n",
    "data.shape"
   ]
  },
  {
   "cell_type": "code",
   "execution_count": 11,
   "id": "a7db86bc",
   "metadata": {},
   "outputs": [
    {
     "data": {
      "text/plain": [
       "Frequency          0\n",
       "Angle of Attack    1\n",
       "chord_length       0\n",
       "Free_stream        1\n",
       "Suction Side       1\n",
       "Scaled Sound       1\n",
       "dtype: int64"
      ]
     },
     "execution_count": 11,
     "metadata": {},
     "output_type": "execute_result"
    }
   ],
   "source": [
    "# Missing Data\n",
    "\n",
    "data.isnull().sum()"
   ]
  },
  {
   "cell_type": "markdown",
   "id": "7afc3c02",
   "metadata": {},
   "source": [
    "### Preprocessing"
   ]
  },
  {
   "cell_type": "code",
   "execution_count": 12,
   "id": "b81891f5",
   "metadata": {},
   "outputs": [],
   "source": [
    "from sklearn.impute import SimpleImputer\n",
    "\n",
    "my_imputer = SimpleImputer()\n",
    "\n",
    "new_data = pd.DataFrame(my_imputer.fit_transform(data))\n",
    "\n",
    "new_data.columns = data.columns    #For getting same column name"
   ]
  },
  {
   "cell_type": "code",
   "execution_count": 13,
   "id": "c590d127",
   "metadata": {
    "scrolled": false
   },
   "outputs": [
    {
     "data": {
      "text/plain": [
       "Frequency          0\n",
       "Angle of Attack    0\n",
       "chord_length       0\n",
       "Free_stream        0\n",
       "Suction Side       0\n",
       "Scaled Sound       0\n",
       "dtype: int64"
      ]
     },
     "execution_count": 13,
     "metadata": {},
     "output_type": "execute_result"
    }
   ],
   "source": [
    "new_data.isnull().sum()"
   ]
  },
  {
   "cell_type": "code",
   "execution_count": 14,
   "id": "333ad13c",
   "metadata": {
    "scrolled": true
   },
   "outputs": [
    {
     "data": {
      "text/html": [
       "<div>\n",
       "<style scoped>\n",
       "    .dataframe tbody tr th:only-of-type {\n",
       "        vertical-align: middle;\n",
       "    }\n",
       "\n",
       "    .dataframe tbody tr th {\n",
       "        vertical-align: top;\n",
       "    }\n",
       "\n",
       "    .dataframe thead th {\n",
       "        text-align: right;\n",
       "    }\n",
       "</style>\n",
       "<table border=\"1\" class=\"dataframe\">\n",
       "  <thead>\n",
       "    <tr style=\"text-align: right;\">\n",
       "      <th></th>\n",
       "      <th>Frequency</th>\n",
       "      <th>Angle of Attack</th>\n",
       "      <th>chord_length</th>\n",
       "      <th>Free_stream</th>\n",
       "      <th>Suction Side</th>\n",
       "      <th>Scaled Sound</th>\n",
       "    </tr>\n",
       "  </thead>\n",
       "  <tbody>\n",
       "    <tr>\n",
       "      <th>count</th>\n",
       "      <td>1504.00000</td>\n",
       "      <td>1504.000000</td>\n",
       "      <td>1504.000000</td>\n",
       "      <td>1504.000000</td>\n",
       "      <td>1504.000000</td>\n",
       "      <td>1504.000000</td>\n",
       "    </tr>\n",
       "    <tr>\n",
       "      <th>mean</th>\n",
       "      <td>2885.12633</td>\n",
       "      <td>6.782302</td>\n",
       "      <td>0.136593</td>\n",
       "      <td>50.860745</td>\n",
       "      <td>0.011140</td>\n",
       "      <td>124.835943</td>\n",
       "    </tr>\n",
       "    <tr>\n",
       "      <th>std</th>\n",
       "      <td>3151.89955</td>\n",
       "      <td>5.916159</td>\n",
       "      <td>0.093526</td>\n",
       "      <td>15.567603</td>\n",
       "      <td>0.013146</td>\n",
       "      <td>6.896361</td>\n",
       "    </tr>\n",
       "    <tr>\n",
       "      <th>min</th>\n",
       "      <td>200.00000</td>\n",
       "      <td>0.000000</td>\n",
       "      <td>0.025400</td>\n",
       "      <td>31.700000</td>\n",
       "      <td>0.000401</td>\n",
       "      <td>103.380000</td>\n",
       "    </tr>\n",
       "    <tr>\n",
       "      <th>25%</th>\n",
       "      <td>800.00000</td>\n",
       "      <td>2.000000</td>\n",
       "      <td>0.050800</td>\n",
       "      <td>39.600000</td>\n",
       "      <td>0.002535</td>\n",
       "      <td>120.192000</td>\n",
       "    </tr>\n",
       "    <tr>\n",
       "      <th>50%</th>\n",
       "      <td>1600.00000</td>\n",
       "      <td>5.400000</td>\n",
       "      <td>0.101600</td>\n",
       "      <td>39.600000</td>\n",
       "      <td>0.004957</td>\n",
       "      <td>125.719000</td>\n",
       "    </tr>\n",
       "    <tr>\n",
       "      <th>75%</th>\n",
       "      <td>4000.00000</td>\n",
       "      <td>9.900000</td>\n",
       "      <td>0.228600</td>\n",
       "      <td>71.300000</td>\n",
       "      <td>0.015312</td>\n",
       "      <td>129.993250</td>\n",
       "    </tr>\n",
       "    <tr>\n",
       "      <th>max</th>\n",
       "      <td>20000.00000</td>\n",
       "      <td>22.200000</td>\n",
       "      <td>0.304800</td>\n",
       "      <td>71.300000</td>\n",
       "      <td>0.058411</td>\n",
       "      <td>140.987000</td>\n",
       "    </tr>\n",
       "  </tbody>\n",
       "</table>\n",
       "</div>"
      ],
      "text/plain": [
       "         Frequency  Angle of Attack  chord_length  Free_stream  Suction Side  \\\n",
       "count   1504.00000      1504.000000   1504.000000  1504.000000   1504.000000   \n",
       "mean    2885.12633         6.782302      0.136593    50.860745      0.011140   \n",
       "std     3151.89955         5.916159      0.093526    15.567603      0.013146   \n",
       "min      200.00000         0.000000      0.025400    31.700000      0.000401   \n",
       "25%      800.00000         2.000000      0.050800    39.600000      0.002535   \n",
       "50%     1600.00000         5.400000      0.101600    39.600000      0.004957   \n",
       "75%     4000.00000         9.900000      0.228600    71.300000      0.015312   \n",
       "max    20000.00000        22.200000      0.304800    71.300000      0.058411   \n",
       "\n",
       "       Scaled Sound  \n",
       "count   1504.000000  \n",
       "mean     124.835943  \n",
       "std        6.896361  \n",
       "min      103.380000  \n",
       "25%      120.192000  \n",
       "50%      125.719000  \n",
       "75%      129.993250  \n",
       "max      140.987000  "
      ]
     },
     "execution_count": 14,
     "metadata": {},
     "output_type": "execute_result"
    }
   ],
   "source": [
    "# statistics details of the new_data.\n",
    "\n",
    "new_data.describe()"
   ]
  },
  {
   "cell_type": "markdown",
   "id": "7149a332",
   "metadata": {},
   "source": [
    "### OUTLIERS:"
   ]
  },
  {
   "cell_type": "code",
   "execution_count": 14,
   "id": "4401068a",
   "metadata": {
    "scrolled": false
   },
   "outputs": [
    {
     "data": {
      "image/png": "[encoded data removed]",
      "text/plain": [
       "<Figure size 432x288 with 1 Axes>"
      ]
     },
     "metadata": {
      "needs_background": "light"
     },
     "output_type": "display_data"
    }
   ],
   "source": [
    "# Finding the Outliers in Frequency column:\n",
    "\n",
    "outlier = sns.boxplot(x='Frequency', data=new_data)"
   ]
  },
  {
   "cell_type": "code",
   "execution_count": 15,
   "id": "b71cb6a7",
   "metadata": {},
   "outputs": [
    {
     "name": "stdout",
     "output_type": "stream",
     "text": [
      "-4000.0\n",
      "8800.0\n"
     ]
    }
   ],
   "source": [
    "def outlier(Frequency):\n",
    "    sorted(Frequency)\n",
    "    Q1,Q3 = np.percentile(Frequency, [25,75])\n",
    "    IQR = Q3 - Q1\n",
    "    lower_range = Q1 - (1.5 * IQR)\n",
    "    upper_range = Q3 + (1.5 * IQR)\n",
    "    return lower_range,upper_range\n",
    "\n",
    "low,up = outlier(new_data.Frequency)\n",
    "print(low)\n",
    "print(up)"
   ]
  },
  {
   "cell_type": "code",
   "execution_count": 16,
   "id": "42ce8b16",
   "metadata": {},
   "outputs": [
    {
     "data": {
      "text/html": [
       "<div>\n",
       "<style scoped>\n",
       "    .dataframe tbody tr th:only-of-type {\n",
       "        vertical-align: middle;\n",
       "    }\n",
       "\n",
       "    .dataframe tbody tr th {\n",
       "        vertical-align: top;\n",
       "    }\n",
       "\n",
       "    .dataframe thead th {\n",
       "        text-align: right;\n",
       "    }\n",
       "</style>\n",
       "<table border=\"1\" class=\"dataframe\">\n",
       "  <thead>\n",
       "    <tr style=\"text-align: right;\">\n",
       "      <th></th>\n",
       "      <th>Frequency</th>\n",
       "      <th>Angle of Attack</th>\n",
       "      <th>chord_length</th>\n",
       "      <th>Free_stream</th>\n",
       "      <th>Suction Side</th>\n",
       "      <th>Scaled Sound</th>\n",
       "    </tr>\n",
       "  </thead>\n",
       "  <tbody>\n",
       "    <tr>\n",
       "      <th>11</th>\n",
       "      <td>10000.0</td>\n",
       "      <td>0.0</td>\n",
       "      <td>0.3048</td>\n",
       "      <td>71.3</td>\n",
       "      <td>0.002663</td>\n",
       "      <td>115.391</td>\n",
       "    </tr>\n",
       "    <tr>\n",
       "      <th>12</th>\n",
       "      <td>12500.0</td>\n",
       "      <td>0.0</td>\n",
       "      <td>0.3048</td>\n",
       "      <td>71.3</td>\n",
       "      <td>0.002663</td>\n",
       "      <td>112.241</td>\n",
       "    </tr>\n",
       "    <tr>\n",
       "      <th>13</th>\n",
       "      <td>16000.0</td>\n",
       "      <td>0.0</td>\n",
       "      <td>0.3048</td>\n",
       "      <td>71.3</td>\n",
       "      <td>0.002663</td>\n",
       "      <td>108.721</td>\n",
       "    </tr>\n",
       "    <tr>\n",
       "      <th>27</th>\n",
       "      <td>10000.0</td>\n",
       "      <td>0.0</td>\n",
       "      <td>0.3048</td>\n",
       "      <td>55.5</td>\n",
       "      <td>0.002831</td>\n",
       "      <td>113.076</td>\n",
       "    </tr>\n",
       "    <tr>\n",
       "      <th>28</th>\n",
       "      <td>12500.0</td>\n",
       "      <td>0.0</td>\n",
       "      <td>0.3048</td>\n",
       "      <td>55.5</td>\n",
       "      <td>0.002831</td>\n",
       "      <td>111.076</td>\n",
       "    </tr>\n",
       "    <tr>\n",
       "      <th>...</th>\n",
       "      <td>...</td>\n",
       "      <td>...</td>\n",
       "      <td>...</td>\n",
       "      <td>...</td>\n",
       "      <td>...</td>\n",
       "      <td>...</td>\n",
       "    </tr>\n",
       "    <tr>\n",
       "      <th>1281</th>\n",
       "      <td>10000.0</td>\n",
       "      <td>0.0</td>\n",
       "      <td>0.1016</td>\n",
       "      <td>39.6</td>\n",
       "      <td>0.001463</td>\n",
       "      <td>119.561</td>\n",
       "    </tr>\n",
       "    <tr>\n",
       "      <th>1294</th>\n",
       "      <td>10000.0</td>\n",
       "      <td>0.0</td>\n",
       "      <td>0.1016</td>\n",
       "      <td>31.7</td>\n",
       "      <td>0.001501</td>\n",
       "      <td>115.893</td>\n",
       "    </tr>\n",
       "    <tr>\n",
       "      <th>1306</th>\n",
       "      <td>10000.0</td>\n",
       "      <td>3.3</td>\n",
       "      <td>0.1016</td>\n",
       "      <td>71.3</td>\n",
       "      <td>0.002028</td>\n",
       "      <td>116.694</td>\n",
       "    </tr>\n",
       "    <tr>\n",
       "      <th>1319</th>\n",
       "      <td>10000.0</td>\n",
       "      <td>3.3</td>\n",
       "      <td>0.1016</td>\n",
       "      <td>55.5</td>\n",
       "      <td>0.002211</td>\n",
       "      <td>115.659</td>\n",
       "    </tr>\n",
       "    <tr>\n",
       "      <th>1332</th>\n",
       "      <td>10000.0</td>\n",
       "      <td>3.3</td>\n",
       "      <td>0.1016</td>\n",
       "      <td>39.6</td>\n",
       "      <td>0.002451</td>\n",
       "      <td>115.321</td>\n",
       "    </tr>\n",
       "  </tbody>\n",
       "</table>\n",
       "<p>86 rows × 6 columns</p>\n",
       "</div>"
      ],
      "text/plain": [
       "      Frequency  Angle of Attack  chord_length  Free_stream  Suction Side  \\\n",
       "11      10000.0              0.0        0.3048         71.3      0.002663   \n",
       "12      12500.0              0.0        0.3048         71.3      0.002663   \n",
       "13      16000.0              0.0        0.3048         71.3      0.002663   \n",
       "27      10000.0              0.0        0.3048         55.5      0.002831   \n",
       "28      12500.0              0.0        0.3048         55.5      0.002831   \n",
       "...         ...              ...           ...          ...           ...   \n",
       "1281    10000.0              0.0        0.1016         39.6      0.001463   \n",
       "1294    10000.0              0.0        0.1016         31.7      0.001501   \n",
       "1306    10000.0              3.3        0.1016         71.3      0.002028   \n",
       "1319    10000.0              3.3        0.1016         55.5      0.002211   \n",
       "1332    10000.0              3.3        0.1016         39.6      0.002451   \n",
       "\n",
       "      Scaled Sound  \n",
       "11         115.391  \n",
       "12         112.241  \n",
       "13         108.721  \n",
       "27         113.076  \n",
       "28         111.076  \n",
       "...            ...  \n",
       "1281       119.561  \n",
       "1294       115.893  \n",
       "1306       116.694  \n",
       "1319       115.659  \n",
       "1332       115.321  \n",
       "\n",
       "[86 rows x 6 columns]"
      ]
     },
     "execution_count": 16,
     "metadata": {},
     "output_type": "execute_result"
    }
   ],
   "source": [
    "new_data[(new_data.Frequency < low) | (new_data.Frequency > up)]"
   ]
  },
  {
   "cell_type": "code",
   "execution_count": 17,
   "id": "82679e69",
   "metadata": {},
   "outputs": [],
   "source": [
    "new_data.drop(new_data[(new_data.Frequency < low) | (new_data.Frequency > up)].index, inplace=True)"
   ]
  },
  {
   "cell_type": "code",
   "execution_count": 18,
   "id": "d37a6e6e",
   "metadata": {
    "scrolled": true
   },
   "outputs": [
    {
     "data": {
      "image/png": "[encoded data removed]",
      "text/plain": [
       "<Figure size 432x288 with 1 Axes>"
      ]
     },
     "metadata": {
      "needs_background": "light"
     },
     "output_type": "display_data"
    }
   ],
   "source": [
    "# After removing the outliers in Frequency column\n",
    "\n",
    "outlier = sns.boxplot(x='Frequency', data=new_data)"
   ]
  },
  {
   "cell_type": "markdown",
   "id": "98db51a5",
   "metadata": {},
   "source": [
    "## Feature Selection"
   ]
  },
  {
   "cell_type": "code",
   "execution_count": 19,
   "id": "3c80a6dc",
   "metadata": {},
   "outputs": [],
   "source": [
    "# SPLLITING DATASET\n",
    "X = new_data[['Frequency','Angle of Attack','chord_length','Free_stream','Suction Side']]\n",
    "y = new_data[['Scaled Sound']]"
   ]
  },
  {
   "cell_type": "code",
   "execution_count": 20,
   "id": "711bf5b5",
   "metadata": {},
   "outputs": [],
   "source": [
    "# FEATURE SELECTION - UNIVERATE SELECTION\n",
    "# PEARSON'S CORRELATION FEATURE SELECTION\n",
    "# (DO NOT ACCEPT NEGATIVE VALUES)\n",
    "\n",
    "from sklearn.feature_selection import SelectKBest\n",
    "from sklearn.feature_selection import f_regression\n",
    "\n",
    "bestfeatures = SelectKBest(score_func=f_regression, k=4)\n",
    "fit = bestfeatures.fit(X,y)"
   ]
  },
  {
   "cell_type": "code",
   "execution_count": 21,
   "id": "7424b3ec",
   "metadata": {},
   "outputs": [
    {
     "name": "stdout",
     "output_type": "stream",
     "text": [
      "         col_names    accuracy\n",
      "0        Frequency  230.720833\n",
      "4     Suction Side  225.571529\n",
      "1  Angle of Attack   67.663036\n",
      "2     chord_length   58.096572\n"
     ]
    }
   ],
   "source": [
    "dfscores = pd.DataFrame(fit.scores_)\n",
    "dfcolumns = pd.DataFrame(new_data.columns)\n",
    "\n",
    "# CONCAT TWO DATAFRAMES FOR BETTER VISUALIZATION \n",
    "featureScores = pd.concat([dfcolumns,dfscores],axis=1)\n",
    "\n",
    "featureScores.columns = ['col_names','accuracy']              # NAMING THE DATAFRAME COLUMNS\n",
    "print(featureScores.nlargest(4,'accuracy'))                   # PRINT THE BEST FEATURES"
   ]
  },
  {
   "cell_type": "markdown",
   "id": "f524f5f2",
   "metadata": {},
   "source": [
    "### Split the dataset"
   ]
  },
  {
   "cell_type": "code",
   "execution_count": 22,
   "id": "13ef1239",
   "metadata": {},
   "outputs": [],
   "source": [
    "# Split X and Y\n",
    "\n",
    "X1 = new_data[['Frequency','Angle of Attack','chord_length','Suction Side']]   \n",
    "y1 = new_data[['Scaled Sound']]"
   ]
  },
  {
   "cell_type": "code",
   "execution_count": 23,
   "id": "f29ece9a",
   "metadata": {
    "scrolled": false
   },
   "outputs": [
    {
     "data": {
      "text/html": [
       "<div>\n",
       "<style scoped>\n",
       "    .dataframe tbody tr th:only-of-type {\n",
       "        vertical-align: middle;\n",
       "    }\n",
       "\n",
       "    .dataframe tbody tr th {\n",
       "        vertical-align: top;\n",
       "    }\n",
       "\n",
       "    .dataframe thead th {\n",
       "        text-align: right;\n",
       "    }\n",
       "</style>\n",
       "<table border=\"1\" class=\"dataframe\">\n",
       "  <thead>\n",
       "    <tr style=\"text-align: right;\">\n",
       "      <th></th>\n",
       "      <th>Frequency</th>\n",
       "      <th>Angle of Attack</th>\n",
       "      <th>chord_length</th>\n",
       "      <th>Suction Side</th>\n",
       "    </tr>\n",
       "  </thead>\n",
       "  <tbody>\n",
       "    <tr>\n",
       "      <th>0</th>\n",
       "      <td>800.0</td>\n",
       "      <td>0.0</td>\n",
       "      <td>0.3048</td>\n",
       "      <td>0.002663</td>\n",
       "    </tr>\n",
       "    <tr>\n",
       "      <th>1</th>\n",
       "      <td>1000.0</td>\n",
       "      <td>0.0</td>\n",
       "      <td>0.3048</td>\n",
       "      <td>0.002663</td>\n",
       "    </tr>\n",
       "    <tr>\n",
       "      <th>2</th>\n",
       "      <td>1250.0</td>\n",
       "      <td>0.0</td>\n",
       "      <td>0.3048</td>\n",
       "      <td>0.002663</td>\n",
       "    </tr>\n",
       "    <tr>\n",
       "      <th>3</th>\n",
       "      <td>1600.0</td>\n",
       "      <td>0.0</td>\n",
       "      <td>0.3048</td>\n",
       "      <td>0.002663</td>\n",
       "    </tr>\n",
       "    <tr>\n",
       "      <th>4</th>\n",
       "      <td>2000.0</td>\n",
       "      <td>0.0</td>\n",
       "      <td>0.3048</td>\n",
       "      <td>0.002663</td>\n",
       "    </tr>\n",
       "    <tr>\n",
       "      <th>...</th>\n",
       "      <td>...</td>\n",
       "      <td>...</td>\n",
       "      <td>...</td>\n",
       "      <td>...</td>\n",
       "    </tr>\n",
       "    <tr>\n",
       "      <th>1499</th>\n",
       "      <td>2500.0</td>\n",
       "      <td>15.6</td>\n",
       "      <td>0.1016</td>\n",
       "      <td>0.052849</td>\n",
       "    </tr>\n",
       "    <tr>\n",
       "      <th>1500</th>\n",
       "      <td>3150.0</td>\n",
       "      <td>15.6</td>\n",
       "      <td>0.1016</td>\n",
       "      <td>0.052849</td>\n",
       "    </tr>\n",
       "    <tr>\n",
       "      <th>1501</th>\n",
       "      <td>4000.0</td>\n",
       "      <td>15.6</td>\n",
       "      <td>0.1016</td>\n",
       "      <td>0.052849</td>\n",
       "    </tr>\n",
       "    <tr>\n",
       "      <th>1502</th>\n",
       "      <td>5000.0</td>\n",
       "      <td>15.6</td>\n",
       "      <td>0.1016</td>\n",
       "      <td>0.052849</td>\n",
       "    </tr>\n",
       "    <tr>\n",
       "      <th>1503</th>\n",
       "      <td>6300.0</td>\n",
       "      <td>15.6</td>\n",
       "      <td>0.1016</td>\n",
       "      <td>0.052849</td>\n",
       "    </tr>\n",
       "  </tbody>\n",
       "</table>\n",
       "<p>1418 rows × 4 columns</p>\n",
       "</div>"
      ],
      "text/plain": [
       "      Frequency  Angle of Attack  chord_length  Suction Side\n",
       "0         800.0              0.0        0.3048      0.002663\n",
       "1        1000.0              0.0        0.3048      0.002663\n",
       "2        1250.0              0.0        0.3048      0.002663\n",
       "3        1600.0              0.0        0.3048      0.002663\n",
       "4        2000.0              0.0        0.3048      0.002663\n",
       "...         ...              ...           ...           ...\n",
       "1499     2500.0             15.6        0.1016      0.052849\n",
       "1500     3150.0             15.6        0.1016      0.052849\n",
       "1501     4000.0             15.6        0.1016      0.052849\n",
       "1502     5000.0             15.6        0.1016      0.052849\n",
       "1503     6300.0             15.6        0.1016      0.052849\n",
       "\n",
       "[1418 rows x 4 columns]"
      ]
     },
     "execution_count": 23,
     "metadata": {},
     "output_type": "execute_result"
    }
   ],
   "source": [
    "X1"
   ]
  },
  {
   "cell_type": "code",
   "execution_count": 24,
   "id": "7dfedfea",
   "metadata": {
    "scrolled": false
   },
   "outputs": [
    {
     "data": {
      "text/html": [
       "<div>\n",
       "<style scoped>\n",
       "    .dataframe tbody tr th:only-of-type {\n",
       "        vertical-align: middle;\n",
       "    }\n",
       "\n",
       "    .dataframe tbody tr th {\n",
       "        vertical-align: top;\n",
       "    }\n",
       "\n",
       "    .dataframe thead th {\n",
       "        text-align: right;\n",
       "    }\n",
       "</style>\n",
       "<table border=\"1\" class=\"dataframe\">\n",
       "  <thead>\n",
       "    <tr style=\"text-align: right;\">\n",
       "      <th></th>\n",
       "      <th>Scaled Sound</th>\n",
       "    </tr>\n",
       "  </thead>\n",
       "  <tbody>\n",
       "    <tr>\n",
       "      <th>0</th>\n",
       "      <td>126.201</td>\n",
       "    </tr>\n",
       "    <tr>\n",
       "      <th>1</th>\n",
       "      <td>125.201</td>\n",
       "    </tr>\n",
       "    <tr>\n",
       "      <th>2</th>\n",
       "      <td>125.951</td>\n",
       "    </tr>\n",
       "    <tr>\n",
       "      <th>3</th>\n",
       "      <td>127.591</td>\n",
       "    </tr>\n",
       "    <tr>\n",
       "      <th>4</th>\n",
       "      <td>127.461</td>\n",
       "    </tr>\n",
       "    <tr>\n",
       "      <th>...</th>\n",
       "      <td>...</td>\n",
       "    </tr>\n",
       "    <tr>\n",
       "      <th>1499</th>\n",
       "      <td>110.264</td>\n",
       "    </tr>\n",
       "    <tr>\n",
       "      <th>1500</th>\n",
       "      <td>109.254</td>\n",
       "    </tr>\n",
       "    <tr>\n",
       "      <th>1501</th>\n",
       "      <td>106.604</td>\n",
       "    </tr>\n",
       "    <tr>\n",
       "      <th>1502</th>\n",
       "      <td>106.224</td>\n",
       "    </tr>\n",
       "    <tr>\n",
       "      <th>1503</th>\n",
       "      <td>104.204</td>\n",
       "    </tr>\n",
       "  </tbody>\n",
       "</table>\n",
       "<p>1418 rows × 1 columns</p>\n",
       "</div>"
      ],
      "text/plain": [
       "      Scaled Sound\n",
       "0          126.201\n",
       "1          125.201\n",
       "2          125.951\n",
       "3          127.591\n",
       "4          127.461\n",
       "...            ...\n",
       "1499       110.264\n",
       "1500       109.254\n",
       "1501       106.604\n",
       "1502       106.224\n",
       "1503       104.204\n",
       "\n",
       "[1418 rows x 1 columns]"
      ]
     },
     "execution_count": 24,
     "metadata": {},
     "output_type": "execute_result"
    }
   ],
   "source": [
    "y1"
   ]
  },
  {
   "cell_type": "code",
   "execution_count": 25,
   "id": "d57f0945",
   "metadata": {},
   "outputs": [
    {
     "data": {
      "text/plain": [
       "((1418, 4), (1418, 1))"
      ]
     },
     "execution_count": 25,
     "metadata": {},
     "output_type": "execute_result"
    }
   ],
   "source": [
    "# .shape gives the tuple of the rows and the columns \n",
    "\n",
    "X1.shape, y1.shape"
   ]
  },
  {
   "cell_type": "markdown",
   "id": "0743a6e0",
   "metadata": {},
   "source": [
    "##  Visualization"
   ]
  },
  {
   "cell_type": "code",
   "execution_count": 37,
   "id": "c9389780",
   "metadata": {
    "scrolled": true
   },
   "outputs": [
    {
     "data": {
      "text/html": [
       "<div>\n",
       "<style scoped>\n",
       "    .dataframe tbody tr th:only-of-type {\n",
       "        vertical-align: middle;\n",
       "    }\n",
       "\n",
       "    .dataframe tbody tr th {\n",
       "        vertical-align: top;\n",
       "    }\n",
       "\n",
       "    .dataframe thead th {\n",
       "        text-align: right;\n",
       "    }\n",
       "</style>\n",
       "<table border=\"1\" class=\"dataframe\">\n",
       "  <thead>\n",
       "    <tr style=\"text-align: right;\">\n",
       "      <th></th>\n",
       "      <th>Frequency</th>\n",
       "      <th>Angle of Attack</th>\n",
       "      <th>chord_length</th>\n",
       "      <th>Free_stream</th>\n",
       "      <th>Suction Side</th>\n",
       "      <th>Scaled Sound</th>\n",
       "    </tr>\n",
       "  </thead>\n",
       "  <tbody>\n",
       "    <tr>\n",
       "      <th>Frequency</th>\n",
       "      <td>1.000000</td>\n",
       "      <td>-0.194741</td>\n",
       "      <td>0.005600</td>\n",
       "      <td>0.064566</td>\n",
       "      <td>-0.168815</td>\n",
       "      <td>-0.374312</td>\n",
       "    </tr>\n",
       "    <tr>\n",
       "      <th>Angle of Attack</th>\n",
       "      <td>-0.194741</td>\n",
       "      <td>1.000000</td>\n",
       "      <td>-0.535569</td>\n",
       "      <td>0.082763</td>\n",
       "      <td>0.747251</td>\n",
       "      <td>-0.213554</td>\n",
       "    </tr>\n",
       "    <tr>\n",
       "      <th>chord_length</th>\n",
       "      <td>0.005600</td>\n",
       "      <td>-0.535569</td>\n",
       "      <td>1.000000</td>\n",
       "      <td>-0.009827</td>\n",
       "      <td>-0.237655</td>\n",
       "      <td>-0.198524</td>\n",
       "    </tr>\n",
       "    <tr>\n",
       "      <th>Free_stream</th>\n",
       "      <td>0.064566</td>\n",
       "      <td>0.082763</td>\n",
       "      <td>-0.009827</td>\n",
       "      <td>1.000000</td>\n",
       "      <td>0.014520</td>\n",
       "      <td>0.173753</td>\n",
       "    </tr>\n",
       "    <tr>\n",
       "      <th>Suction Side</th>\n",
       "      <td>-0.168815</td>\n",
       "      <td>0.747251</td>\n",
       "      <td>-0.237655</td>\n",
       "      <td>0.014520</td>\n",
       "      <td>1.000000</td>\n",
       "      <td>-0.370691</td>\n",
       "    </tr>\n",
       "    <tr>\n",
       "      <th>Scaled Sound</th>\n",
       "      <td>-0.374312</td>\n",
       "      <td>-0.213554</td>\n",
       "      <td>-0.198524</td>\n",
       "      <td>0.173753</td>\n",
       "      <td>-0.370691</td>\n",
       "      <td>1.000000</td>\n",
       "    </tr>\n",
       "  </tbody>\n",
       "</table>\n",
       "</div>"
      ],
      "text/plain": [
       "                 Frequency  Angle of Attack  chord_length  Free_stream  \\\n",
       "Frequency         1.000000        -0.194741      0.005600     0.064566   \n",
       "Angle of Attack  -0.194741         1.000000     -0.535569     0.082763   \n",
       "chord_length      0.005600        -0.535569      1.000000    -0.009827   \n",
       "Free_stream       0.064566         0.082763     -0.009827     1.000000   \n",
       "Suction Side     -0.168815         0.747251     -0.237655     0.014520   \n",
       "Scaled Sound     -0.374312        -0.213554     -0.198524     0.173753   \n",
       "\n",
       "                 Suction Side  Scaled Sound  \n",
       "Frequency           -0.168815     -0.374312  \n",
       "Angle of Attack      0.747251     -0.213554  \n",
       "chord_length        -0.237655     -0.198524  \n",
       "Free_stream          0.014520      0.173753  \n",
       "Suction Side         1.000000     -0.370691  \n",
       "Scaled Sound        -0.370691      1.000000  "
      ]
     },
     "execution_count": 37,
     "metadata": {},
     "output_type": "execute_result"
    }
   ],
   "source": [
    "#Correlation:\n",
    "\n",
    "new_data.corr()"
   ]
  },
  {
   "cell_type": "code",
   "execution_count": 26,
   "id": "8ef9a80b",
   "metadata": {
    "scrolled": true
   },
   "outputs": [
    {
     "data": {
      "image/png": "[encoded data removed]",
      "text/plain": [
       "<Figure size 864x432 with 2 Axes>"
      ]
     },
     "metadata": {
      "needs_background": "light"
     },
     "output_type": "display_data"
    }
   ],
   "source": [
    "# Correlation matrix visualization\n",
    "\n",
    "f, ax = plt.subplots(figsize= [12, 6])\n",
    "sns.heatmap(new_data.corr(), annot=True, fmt=\".2f\", cmap=\"magma\")\n",
    "ax.set_title(\"Correlation Matrix\", fontsize=20)\n",
    "plt.show()"
   ]
  },
  {
   "cell_type": "code",
   "execution_count": 39,
   "id": "dfce6866",
   "metadata": {},
   "outputs": [],
   "source": [
    "corrmat = new_data.corr()\n",
    "top_corr_features = corrmat.index"
   ]
  },
  {
   "cell_type": "code",
   "execution_count": 41,
   "id": "bdd4dac8",
   "metadata": {
    "scrolled": true
   },
   "outputs": [
    {
     "data": {
      "image/png": "[encoded data removed]",
      "text/plain": [
       "<Figure size 1080x720 with 2 Axes>"
      ]
     },
     "metadata": {
      "needs_background": "light"
     },
     "output_type": "display_data"
    }
   ],
   "source": [
    "plt.figure(figsize=(15,10))\n",
    "# PLOT THE HEAT MAP\n",
    "g=sns.heatmap(new_data[top_corr_features].corr(),annot=True,cmap=\"RdYlGn\")"
   ]
  },
  {
   "cell_type": "code",
   "execution_count": 27,
   "id": "567e0166",
   "metadata": {},
   "outputs": [
    {
     "data": {
      "text/plain": [
       "<seaborn.axisgrid.PairGrid at 0x7faa9d3a0c70>"
      ]
     },
     "execution_count": 27,
     "metadata": {},
     "output_type": "execute_result"
    },
    {
     "data": {
      "image/png": "[encoded data removed]",
      "text/plain": [
       "<Figure size 1080x1080 with 42 Axes>"
      ]
     },
     "metadata": {
      "needs_background": "light"
     },
     "output_type": "display_data"
    }
   ],
   "source": [
    "# we use sns.pairplot to automatically plot several different charts for pairs of features within a dataframe.\n",
    "\n",
    "sns.pairplot(new_data, diag_kind='kde', markers='+')"
   ]
  },
  {
   "cell_type": "code",
   "execution_count": 42,
   "id": "b354755d",
   "metadata": {},
   "outputs": [
    {
     "data": {
      "image/png": "[encoded data removed]",
      "text/plain": [
       "<Figure size 432x288 with 1 Axes>"
      ]
     },
     "metadata": {
      "needs_background": "light"
     },
     "output_type": "display_data"
    }
   ],
   "source": [
    "# Visual representation of X split by Histogram:\n",
    "\n",
    "plt.hist(X1)\n",
    "plt.show()"
   ]
  },
  {
   "cell_type": "code",
   "execution_count": 43,
   "id": "b2f5e873",
   "metadata": {},
   "outputs": [
    {
     "data": {
      "image/png": "[encoded data removed]",
      "text/plain": [
       "<Figure size 432x288 with 1 Axes>"
      ]
     },
     "metadata": {
      "needs_background": "light"
     },
     "output_type": "display_data"
    }
   ],
   "source": [
    "# Visual representation of y split by Histogram:\n",
    "\n",
    "plt.hist(y1)\n",
    "plt.show()"
   ]
  },
  {
   "cell_type": "code",
   "execution_count": 44,
   "id": "364a1dab",
   "metadata": {},
   "outputs": [
    {
     "data": {
      "text/plain": [
       "<AxesSubplot:title={'center':'Relation between Frequency and Scaled Sound'}, xlabel='Frequency', ylabel='Scaled Sound'>"
      ]
     },
     "execution_count": 44,
     "metadata": {},
     "output_type": "execute_result"
    },
    {
     "data": {
      "image/png": "[encoded data removed]",
      "text/plain": [
       "<Figure size 864x432 with 1 Axes>"
      ]
     },
     "metadata": {
      "needs_background": "light"
     },
     "output_type": "display_data"
    }
   ],
   "source": [
    "plt.figure(figsize=[12, 6])\n",
    "plt.title('Relation between Frequency and Scaled Sound')\n",
    "plt.xticks(rotation=75)\n",
    "sns.barplot(x='Frequency', y='Scaled Sound', data=new_data)"
   ]
  },
  {
   "cell_type": "code",
   "execution_count": 45,
   "id": "a40e9ea9",
   "metadata": {},
   "outputs": [
    {
     "data": {
      "text/plain": [
       "<AxesSubplot:title={'center':'Comparision with Angle of Attack on Scaled Sound'}, xlabel='Angle of Attack', ylabel='Scaled Sound'>"
      ]
     },
     "execution_count": 45,
     "metadata": {},
     "output_type": "execute_result"
    },
    {
     "data": {
      "image/png": "[encoded data removed]",
      "text/plain": [
       "<Figure size 864x432 with 1 Axes>"
      ]
     },
     "metadata": {
      "needs_background": "light"
     },
     "output_type": "display_data"
    }
   ],
   "source": [
    "plt.figure(figsize=[12, 6])\n",
    "plt.title('Comparision with Angle of Attack on Scaled Sound')\n",
    "plt.xticks(rotation=75)\n",
    "sns.barplot(x='Angle of Attack', y='Scaled Sound', data=new_data)"
   ]
  },
  {
   "cell_type": "code",
   "execution_count": 46,
   "id": "87c47171",
   "metadata": {},
   "outputs": [
    {
     "data": {
      "text/plain": [
       "<AxesSubplot:title={'center':'Skewness of Scaled Sound'}, xlabel='Scaled Sound', ylabel='Density'>"
      ]
     },
     "execution_count": 46,
     "metadata": {},
     "output_type": "execute_result"
    },
    {
     "data": {
      "image/png": "[encoded data removed]",
      "text/plain": [
       "<Figure size 432x288 with 1 Axes>"
      ]
     },
     "metadata": {
      "needs_background": "light"
     },
     "output_type": "display_data"
    }
   ],
   "source": [
    "#Skewness:(feature- dependent variable)\n",
    "\n",
    "plt.title('Skewness of Scaled Sound')\n",
    "sns.distplot(new_data['Scaled Sound'], fit=norm)"
   ]
  },
  {
   "cell_type": "markdown",
   "id": "13fb1fce",
   "metadata": {},
   "source": [
    "### train and test split method"
   ]
  },
  {
   "cell_type": "code",
   "execution_count": 26,
   "id": "2f98f9ed",
   "metadata": {},
   "outputs": [],
   "source": [
    "from sklearn.model_selection import train_test_split\n",
    "\n",
    "X1_train, X1_test, y1_train, y1_test = train_test_split(X1, y1, test_size=0.2, random_state=12)"
   ]
  },
  {
   "cell_type": "markdown",
   "id": "9db17796",
   "metadata": {},
   "source": [
    "### Apply the model:"
   ]
  },
  {
   "cell_type": "code",
   "execution_count": 27,
   "id": "f4e3010b",
   "metadata": {},
   "outputs": [
    {
     "data": {
      "text/plain": [
       "LinearRegression()"
      ]
     },
     "execution_count": 27,
     "metadata": {},
     "output_type": "execute_result"
    }
   ],
   "source": [
    "# Linear Algorithm\n",
    "\n",
    "from sklearn import linear_model \n",
    "model = linear_model.LinearRegression()\n",
    "\n",
    "model.fit(X1_train, y1_train)"
   ]
  },
  {
   "cell_type": "markdown",
   "id": "16708c71",
   "metadata": {},
   "source": [
    "#### Now we have trained the model based on X and y\n",
    "#### So,We are going to predict the test data based upon the trained data"
   ]
  },
  {
   "cell_type": "code",
   "execution_count": 28,
   "id": "ab8f9b13",
   "metadata": {},
   "outputs": [],
   "source": [
    "y1_pred = model.predict(X1_test)"
   ]
  },
  {
   "cell_type": "code",
   "execution_count": 29,
   "id": "70c99178",
   "metadata": {
    "scrolled": true
   },
   "outputs": [
    {
     "data": {
      "text/plain": [
       "array([[126.93000781],\n",
       "       [121.95899334],\n",
       "       [127.51032201],\n",
       "       [125.50019019],\n",
       "       [121.14858049],\n",
       "       [126.32125356],\n",
       "       [131.00353962],\n",
       "       [118.35802598],\n",
       "       [121.18196701],\n",
       "       [119.86589144],\n",
       "       [122.28713355],\n",
       "       [132.09462201],\n",
       "       [130.33936203],\n",
       "       [126.17673859],\n",
       "       [124.81630297],\n",
       "       [118.29866493],\n",
       "       [113.28883201],\n",
       "       [119.13948174],\n",
       "       [125.06293119],\n",
       "       [126.91168076],\n",
       "       [124.27792002],\n",
       "       [125.19121773],\n",
       "       [124.47844327],\n",
       "       [114.89842894],\n",
       "       [120.79224521],\n",
       "       [126.00316648],\n",
       "       [127.69339322],\n",
       "       [125.52514407],\n",
       "       [123.2121305 ],\n",
       "       [124.66273348],\n",
       "       [119.45997004],\n",
       "       [125.93275476],\n",
       "       [126.59162757],\n",
       "       [127.86354994],\n",
       "       [129.60305048],\n",
       "       [125.39147359],\n",
       "       [124.9011091 ],\n",
       "       [128.91080637],\n",
       "       [125.76370938],\n",
       "       [129.00780997],\n",
       "       [129.22136104],\n",
       "       [121.84322189],\n",
       "       [122.12800419],\n",
       "       [126.66357309],\n",
       "       [129.10463364],\n",
       "       [127.4659411 ],\n",
       "       [125.07313771],\n",
       "       [124.71408712],\n",
       "       [116.77291883],\n",
       "       [122.05760735],\n",
       "       [127.92293633],\n",
       "       [121.30360805],\n",
       "       [130.89873028],\n",
       "       [124.66040645],\n",
       "       [126.15613497],\n",
       "       [123.77233875],\n",
       "       [125.56462214],\n",
       "       [118.2671435 ],\n",
       "       [122.44988432],\n",
       "       [129.27758494],\n",
       "       [131.19727891],\n",
       "       [118.28302587],\n",
       "       [124.34464641],\n",
       "       [129.43662848],\n",
       "       [123.77153393],\n",
       "       [125.25581155],\n",
       "       [122.84552565],\n",
       "       [121.81007764],\n",
       "       [125.83676872],\n",
       "       [123.80484368],\n",
       "       [129.52784597],\n",
       "       [117.85465614],\n",
       "       [122.51873722],\n",
       "       [125.01242936],\n",
       "       [131.06357365],\n",
       "       [126.26596424],\n",
       "       [128.16602711],\n",
       "       [123.10390691],\n",
       "       [125.46800431],\n",
       "       [121.9817497 ],\n",
       "       [134.01188719],\n",
       "       [126.76953333],\n",
       "       [127.61389502],\n",
       "       [121.86068027],\n",
       "       [128.34681326],\n",
       "       [127.5351811 ],\n",
       "       [131.13457972],\n",
       "       [126.91992597],\n",
       "       [120.05305974],\n",
       "       [113.71521809],\n",
       "       [123.25722837],\n",
       "       [124.79201621],\n",
       "       [126.09671418],\n",
       "       [128.24343496],\n",
       "       [127.11947645],\n",
       "       [129.17022764],\n",
       "       [127.80268552],\n",
       "       [117.27900182],\n",
       "       [126.1997255 ],\n",
       "       [115.45798356],\n",
       "       [117.34931959],\n",
       "       [117.6007207 ],\n",
       "       [118.98283942],\n",
       "       [115.92128369],\n",
       "       [125.04797581],\n",
       "       [116.37370499],\n",
       "       [120.20720079],\n",
       "       [131.06083901],\n",
       "       [119.93710065],\n",
       "       [126.08280642],\n",
       "       [121.42509731],\n",
       "       [117.52811202],\n",
       "       [124.55960508],\n",
       "       [116.78776472],\n",
       "       [119.09385881],\n",
       "       [125.45560033],\n",
       "       [132.09973771],\n",
       "       [131.34295603],\n",
       "       [122.46942276],\n",
       "       [124.11479416],\n",
       "       [128.69309703],\n",
       "       [127.11452365],\n",
       "       [126.85919041],\n",
       "       [127.69422464],\n",
       "       [123.88107743],\n",
       "       [127.50800504],\n",
       "       [129.50879711],\n",
       "       [129.88101763],\n",
       "       [125.51222627],\n",
       "       [125.2523722 ],\n",
       "       [127.39916267],\n",
       "       [123.91293122],\n",
       "       [127.34093773],\n",
       "       [124.96743588],\n",
       "       [127.55256937],\n",
       "       [127.73775339],\n",
       "       [123.32052734],\n",
       "       [127.39670477],\n",
       "       [128.6169956 ],\n",
       "       [122.6045856 ],\n",
       "       [125.83307226],\n",
       "       [125.14164939],\n",
       "       [115.94248809],\n",
       "       [127.44421394],\n",
       "       [124.54910537],\n",
       "       [119.9798052 ],\n",
       "       [125.1670133 ],\n",
       "       [128.54798126],\n",
       "       [127.22976784],\n",
       "       [122.37935854],\n",
       "       [128.87917254],\n",
       "       [131.5159022 ],\n",
       "       [127.32337754],\n",
       "       [127.01114535],\n",
       "       [122.61059215],\n",
       "       [121.89781575],\n",
       "       [129.30088281],\n",
       "       [125.54341774],\n",
       "       [117.98290489],\n",
       "       [127.07427328],\n",
       "       [117.80820608],\n",
       "       [124.76833366],\n",
       "       [122.9695545 ],\n",
       "       [124.35431034],\n",
       "       [129.34155795],\n",
       "       [126.92203206],\n",
       "       [119.51216268],\n",
       "       [128.17181916],\n",
       "       [119.82875523],\n",
       "       [124.28346882],\n",
       "       [121.40002732],\n",
       "       [134.00320614],\n",
       "       [124.25205347],\n",
       "       [122.34423566],\n",
       "       [128.16208527],\n",
       "       [130.52983226],\n",
       "       [123.54923903],\n",
       "       [125.61470621],\n",
       "       [129.76119866],\n",
       "       [126.89193187],\n",
       "       [125.0135096 ],\n",
       "       [123.97418676],\n",
       "       [132.09735664],\n",
       "       [126.57559173],\n",
       "       [131.56109696],\n",
       "       [126.94586226],\n",
       "       [126.60394498],\n",
       "       [131.23288771],\n",
       "       [126.58481757],\n",
       "       [125.50732034],\n",
       "       [113.7510916 ],\n",
       "       [130.53796845],\n",
       "       [122.54863205],\n",
       "       [130.69119277],\n",
       "       [129.8968763 ],\n",
       "       [125.72378824],\n",
       "       [122.16286601],\n",
       "       [120.78892316],\n",
       "       [123.98349166],\n",
       "       [131.11852109],\n",
       "       [131.32162669],\n",
       "       [126.23003568],\n",
       "       [129.28875645],\n",
       "       [129.42936726],\n",
       "       [123.18450891],\n",
       "       [125.11664226],\n",
       "       [123.24313449],\n",
       "       [131.1925905 ],\n",
       "       [128.41934888],\n",
       "       [126.43809913],\n",
       "       [123.17457623],\n",
       "       [132.10414308],\n",
       "       [124.02427083],\n",
       "       [117.76118924],\n",
       "       [125.19270594],\n",
       "       [130.53438448],\n",
       "       [120.13177795],\n",
       "       [132.07201837],\n",
       "       [129.57579877],\n",
       "       [123.21257712],\n",
       "       [125.59399218],\n",
       "       [122.47939604],\n",
       "       [118.2308883 ],\n",
       "       [130.55747223],\n",
       "       [127.11879831],\n",
       "       [122.12062573],\n",
       "       [128.28304822],\n",
       "       [130.27862648],\n",
       "       [126.17543239],\n",
       "       [122.55712543],\n",
       "       [122.84729443],\n",
       "       [128.84278587],\n",
       "       [128.02174003],\n",
       "       [113.95005103],\n",
       "       [126.54588062],\n",
       "       [132.8898397 ],\n",
       "       [120.30183157],\n",
       "       [131.70653424],\n",
       "       [122.29092303],\n",
       "       [127.32647968],\n",
       "       [133.69380011],\n",
       "       [125.51132791],\n",
       "       [127.03990735],\n",
       "       [123.28773023],\n",
       "       [126.91639522],\n",
       "       [127.5531998 ],\n",
       "       [129.34377302],\n",
       "       [130.04927839],\n",
       "       [129.00173815],\n",
       "       [125.19411044],\n",
       "       [123.1265732 ],\n",
       "       [128.11853356],\n",
       "       [124.8030125 ],\n",
       "       [125.74985469],\n",
       "       [125.92169711],\n",
       "       [127.97288697],\n",
       "       [124.173274  ],\n",
       "       [123.64804273],\n",
       "       [128.91381292],\n",
       "       [124.02477788],\n",
       "       [125.38728549],\n",
       "       [119.14756329],\n",
       "       [127.85671594],\n",
       "       [119.95858259],\n",
       "       [121.09604673],\n",
       "       [128.49796976],\n",
       "       [122.14530864],\n",
       "       [122.6729078 ],\n",
       "       [126.27311456],\n",
       "       [118.25997591],\n",
       "       [128.85214057],\n",
       "       [119.67263732],\n",
       "       [125.89739515],\n",
       "       [124.5040839 ],\n",
       "       [126.2667305 ],\n",
       "       [123.34536622],\n",
       "       [114.7848746 ],\n",
       "       [125.2644926 ],\n",
       "       [121.96865727],\n",
       "       [125.14952803],\n",
       "       [122.89528847],\n",
       "       [126.157187  ],\n",
       "       [128.22814192],\n",
       "       [128.11667236]])"
      ]
     },
     "execution_count": 29,
     "metadata": {},
     "output_type": "execute_result"
    }
   ],
   "source": [
    "y1_pred"
   ]
  },
  {
   "cell_type": "code",
   "execution_count": 30,
   "id": "0b8e5f90",
   "metadata": {
    "scrolled": true
   },
   "outputs": [
    {
     "name": "stdout",
     "output_type": "stream",
     "text": [
      "[[126.34956368]]\n"
     ]
    }
   ],
   "source": [
    "# prediction with new value\n",
    "\n",
    "print(model.predict([[800,0,0.3048,0.00266337]]))    # 126.201_ans"
   ]
  },
  {
   "cell_type": "markdown",
   "id": "9d930dde",
   "metadata": {},
   "source": [
    "### R2 Score"
   ]
  },
  {
   "cell_type": "code",
   "execution_count": 31,
   "id": "0c5214a4",
   "metadata": {},
   "outputs": [
    {
     "name": "stdout",
     "output_type": "stream",
     "text": [
      "R2 Score 0.4655020593843494\n"
     ]
    }
   ],
   "source": [
    "from sklearn.metrics import r2_score \n",
    "\n",
    "print(\"R2 Score\",r2_score(y1_test, y1_pred))"
   ]
  },
  {
   "cell_type": "markdown",
   "id": "3c263c48",
   "metadata": {},
   "source": [
    "## Other Statistics (Evaluation Metrics) "
   ]
  },
  {
   "cell_type": "markdown",
   "id": "d86658c7",
   "metadata": {},
   "source": [
    "### Explained Variance Score"
   ]
  },
  {
   "cell_type": "code",
   "execution_count": 32,
   "id": "ccfc3399",
   "metadata": {},
   "outputs": [
    {
     "name": "stdout",
     "output_type": "stream",
     "text": [
      "Explained Variance Score 0.47061477163224386\n"
     ]
    }
   ],
   "source": [
    "from sklearn.metrics import explained_variance_score\n",
    "\n",
    "print(\"Explained Variance Score\",explained_variance_score(y1_test, y1_pred))"
   ]
  },
  {
   "cell_type": "markdown",
   "id": "7eb0c296",
   "metadata": {},
   "source": [
    "### Mean Absolute Error"
   ]
  },
  {
   "cell_type": "code",
   "execution_count": 33,
   "id": "2e09176b",
   "metadata": {},
   "outputs": [
    {
     "name": "stdout",
     "output_type": "stream",
     "text": [
      "Mean Absolute Error 3.66775350040351\n"
     ]
    }
   ],
   "source": [
    "from sklearn.metrics import mean_absolute_error\n",
    "\n",
    "print(\"Mean Absolute Error\",mean_absolute_error(y1_test, y1_pred))"
   ]
  },
  {
   "cell_type": "markdown",
   "id": "5391bfb3",
   "metadata": {},
   "source": [
    "### Mean Squared Error"
   ]
  },
  {
   "cell_type": "code",
   "execution_count": 34,
   "id": "72cc3a4d",
   "metadata": {},
   "outputs": [
    {
     "name": "stdout",
     "output_type": "stream",
     "text": [
      "Mean Squared Error 23.073970211422232\n"
     ]
    }
   ],
   "source": [
    "from sklearn.metrics import mean_squared_error\n",
    "\n",
    "print(\"Mean Squared Error\",mean_squared_error(y1_test, y1_pred))"
   ]
  },
  {
   "cell_type": "markdown",
   "id": "04c86dd9",
   "metadata": {},
   "source": [
    "### Mean Squared Log Error"
   ]
  },
  {
   "cell_type": "code",
   "execution_count": 35,
   "id": "029258f8",
   "metadata": {},
   "outputs": [
    {
     "name": "stdout",
     "output_type": "stream",
     "text": [
      "Mean Squared Log Error 0.001429896750303396\n"
     ]
    }
   ],
   "source": [
    "from sklearn.metrics import mean_squared_log_error\n",
    "\n",
    "print(\"Mean Squared Log Error\",mean_squared_log_error(y1_test, y1_pred))"
   ]
  },
  {
   "cell_type": "markdown",
   "id": "9b812a89",
   "metadata": {},
   "source": [
    "### Median Absolute Error"
   ]
  },
  {
   "cell_type": "code",
   "execution_count": 36,
   "id": "eefc4de6",
   "metadata": {},
   "outputs": [
    {
     "name": "stdout",
     "output_type": "stream",
     "text": [
      "Median Absolute Error 2.87370644789938\n"
     ]
    }
   ],
   "source": [
    "from sklearn.metrics import median_absolute_error\n",
    "\n",
    "print(\"Median Absolute Error\",median_absolute_error(y1_test, y1_pred))"
   ]
  },
  {
   "cell_type": "markdown",
   "id": "ba720c29",
   "metadata": {},
   "source": [
    "# Accuracy:"
   ]
  },
  {
   "cell_type": "markdown",
   "id": "0ec845a9",
   "metadata": {},
   "source": [
    "### This method is called train and test split method. Here we can find the accuracy of the data based upon the model that we are training. In the below cell we have used linear regression."
   ]
  },
  {
   "cell_type": "markdown",
   "id": "91e693da",
   "metadata": {},
   "source": [
    "# Linear Regression Algorithm"
   ]
  },
  {
   "cell_type": "code",
   "execution_count": 28,
   "id": "050dd88b",
   "metadata": {},
   "outputs": [
    {
     "name": "stdout",
     "output_type": "stream",
     "text": [
      "R2 Score 0.4655020593843494\n"
     ]
    }
   ],
   "source": [
    "from sklearn.metrics import r2_score \n",
    "from sklearn.model_selection import train_test_split\n",
    "X1_train, X1_test, y1_train, y1_test = train_test_split(X1, y1, test_size=0.2, random_state=12)\n",
    "new_model = linear_model.LinearRegression()\n",
    "new_model.fit(X1_train, y1_train) \n",
    "y1_pred = new_model.predict(X1_test)\n",
    "print(\"R2 Score\",r2_score(y1_test, y1_pred)) "
   ]
  },
  {
   "cell_type": "markdown",
   "id": "16376c30",
   "metadata": {},
   "source": [
    "#### Trying with various regression algorithms and to conclude one best fit algorithm"
   ]
  },
  {
   "cell_type": "markdown",
   "id": "b5689b9e",
   "metadata": {},
   "source": [
    "# Ridge Algorithm"
   ]
  },
  {
   "cell_type": "code",
   "execution_count": 30,
   "id": "809c9775",
   "metadata": {},
   "outputs": [
    {
     "name": "stdout",
     "output_type": "stream",
     "text": [
      "R2 Score 0.3960324843200971\n"
     ]
    }
   ],
   "source": [
    "from sklearn.linear_model import Ridge\n",
    "\n",
    "model_RD = Ridge()\n",
    "model_RD.fit(X1_train, y1_train)\n",
    "y1_pred = model_RD.predict(X1_test)\n",
    "print(\"R2 Score\",r2_score(y1_test,y1_pred))"
   ]
  },
  {
   "cell_type": "markdown",
   "id": "85cbb6d8",
   "metadata": {},
   "source": [
    "# Lasso Algorithm"
   ]
  },
  {
   "cell_type": "code",
   "execution_count": 31,
   "id": "d884168d",
   "metadata": {},
   "outputs": [
    {
     "name": "stdout",
     "output_type": "stream",
     "text": [
      "R2 Score 0.13509539975961304\n"
     ]
    }
   ],
   "source": [
    "from sklearn.linear_model import Lasso \n",
    "\n",
    "model_LS = Lasso()\n",
    "model_LS.fit(X1_train, y1_train)\n",
    "y1_pred = model_LS.predict(X1_test)\n",
    "print(\"R2 Score\",r2_score(y1_test,y1_pred))"
   ]
  },
  {
   "cell_type": "markdown",
   "id": "7bd4ec5d",
   "metadata": {},
   "source": [
    "# Elastic Net Regression Algorithm"
   ]
  },
  {
   "cell_type": "code",
   "execution_count": 32,
   "id": "22bf1b25",
   "metadata": {},
   "outputs": [
    {
     "name": "stdout",
     "output_type": "stream",
     "text": [
      "R2 Score 0.13527017712573575\n"
     ]
    }
   ],
   "source": [
    "from sklearn.linear_model import ElasticNet \n",
    "\n",
    "model_EN = ElasticNet()\n",
    "model_EN.fit(X1_train, y1_train)\n",
    "y1_pred = model_EN.predict(X1_test)\n",
    "print(\"R2 Score\",r2_score(y1_test,y1_pred))"
   ]
  },
  {
   "cell_type": "markdown",
   "id": "d308c474",
   "metadata": {},
   "source": [
    "# Support Vector Algorithm"
   ]
  },
  {
   "cell_type": "code",
   "execution_count": 34,
   "id": "14417e45",
   "metadata": {},
   "outputs": [
    {
     "name": "stdout",
     "output_type": "stream",
     "text": [
      "R2 Score 0.0975359947550487\n"
     ]
    }
   ],
   "source": [
    "from sklearn import svm \n",
    "\n",
    "model = svm.SVR(kernel='rbf', C=1000)\n",
    "model.fit(X1_train, y1_train) \n",
    "y1_pred = model.predict(X1_test) \n",
    "print(\"R2 Score\",r2_score(y1_test,y1_pred))"
   ]
  },
  {
   "cell_type": "markdown",
   "id": "59335798",
   "metadata": {},
   "source": [
    "# Random Forest Regreesion Algorithm"
   ]
  },
  {
   "cell_type": "code",
   "execution_count": 35,
   "id": "376e0cbc",
   "metadata": {},
   "outputs": [
    {
     "name": "stdout",
     "output_type": "stream",
     "text": [
      "R2 Score 0.7148887126865353\n"
     ]
    }
   ],
   "source": [
    "from sklearn.ensemble import RandomForestRegressor\n",
    "\n",
    "model_RF = RandomForestRegressor(max_depth=5, random_state=0)\n",
    "model_RF.fit(X1_train, y1_train)\n",
    "y1_pred = model_RF.predict(X1_test)\n",
    "\n",
    "print(\"R2 Score\",r2_score(y1_test, y1_pred))"
   ]
  },
  {
   "cell_type": "markdown",
   "id": "8989501b",
   "metadata": {},
   "source": [
    "# Gradien Booster Algorithm"
   ]
  },
  {
   "cell_type": "code",
   "execution_count": 36,
   "id": "44c5f880",
   "metadata": {},
   "outputs": [
    {
     "name": "stdout",
     "output_type": "stream",
     "text": [
      "R2 Score 0.8324980654984994\n"
     ]
    }
   ],
   "source": [
    "from sklearn.ensemble import GradientBoostingRegressor\n",
    "\n",
    "model = GradientBoostingRegressor()\n",
    "model.fit(X1_train, y1_train)\n",
    "y1_pred = model.predict(X1_test)\n",
    "\n",
    "print(\"R2 Score\",r2_score(y1_test, y1_pred))"
   ]
  },
  {
   "cell_type": "markdown",
   "id": "40f2868e",
   "metadata": {},
   "source": [
    "# Conclusion"
   ]
  },
  {
   "cell_type": "markdown",
   "id": "62552b5a",
   "metadata": {},
   "source": [
    "## For this Air Foil dataset Gradient Booster Algorithm is the best fit algorithm by applying feature selection process, as it gives the maximum accuracy of 83%"
   ]
  }
 ],
 "metadata": {
  "kernelspec": {
   "display_name": "Python 3",
   "language": "python",
   "name": "python3"
  },
  "language_info": {
   "codemirror_mode": {
    "name": "ipython",
    "version": 3
   },
   "file_extension": ".py",
   "mimetype": "text/x-python",
   "name": "python",
   "nbconvert_exporter": "python",
   "pygments_lexer": "ipython3",
   "version": "3.8.8"
  }
 },
 "nbformat": 4,
 "nbformat_minor": 5
}
